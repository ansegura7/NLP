{
 "cells": [
  {
   "cell_type": "markdown",
   "metadata": {},
   "source": [
    "# NLP - Word Embedding"
   ]
  },
  {
   "cell_type": "markdown",
   "metadata": {},
   "source": [
    "- **Created by Andrés Segura Tinoco**\n",
    "- **Created on June 09, 2019**"
   ]
  },
  {
   "cell_type": "markdown",
   "metadata": {},
   "source": [
    "**Word Embedding:** is the collective name for a set of language modeling and feature learning techniques in natural language processing (NLP) where words or phrases from the vocabulary are mapped to vectors of real numbers. Conceptually it involves a mathematical embedding from a space with many dimensions per word to a continuous vector space with a much lower dimension. <a href='https://en.wikipedia.org/wiki/Word_embedding' target='_blank'>Source</a>\n",
    "\n",
    "**Gensim** is a Python library for topic modelling, document indexing and similarity retrieval with large corpora. Target audience is the natural language processing (NLP) and information retrieval (IR) community."
   ]
  },
  {
   "cell_type": "markdown",
   "metadata": {},
   "source": [
    "## Example with a document in English"
   ]
  },
  {
   "cell_type": "code",
   "execution_count": 1,
   "metadata": {},
   "outputs": [],
   "source": [
    "# Load Python libraries\n",
    "import io\n",
    "import re\n",
    "import pandas as pd\n",
    "from collections import Counter\n",
    "from sklearn.decomposition import PCA\n",
    "import warnings\n",
    "warnings.filterwarnings('ignore')"
   ]
  },
  {
   "cell_type": "code",
   "execution_count": 2,
   "metadata": {},
   "outputs": [],
   "source": [
    "# Load NLP libraries from gensim and spacy\n",
    "from gensim.models import Word2Vec\n",
    "import spacy.lang.en as en"
   ]
  },
  {
   "cell_type": "code",
   "execution_count": 3,
   "metadata": {},
   "outputs": [],
   "source": [
    "# Load Plot libraries\n",
    "import seaborn as sns\n",
    "import matplotlib.pyplot as plt"
   ]
  },
  {
   "cell_type": "markdown",
   "metadata": {},
   "source": [
    "### Step 1 - Read natural text from a book"
   ]
  },
  {
   "cell_type": "code",
   "execution_count": 4,
   "metadata": {},
   "outputs": [],
   "source": [
    "# Util function to read a plain text file\n",
    "def read_text_file(file_path):\n",
    "    text = \"\"\n",
    "    with io.open(file_path, 'r', encoding = 'ISO-8859-1') as f:\n",
    "        text = f.read()\n",
    "    \n",
    "    return text;"
   ]
  },
  {
   "cell_type": "code",
   "execution_count": 5,
   "metadata": {},
   "outputs": [
    {
     "data": {
      "text/plain": [
       "576467"
      ]
     },
     "execution_count": 5,
     "metadata": {},
     "output_type": "execute_result"
    }
   ],
   "source": [
    "# Get text sample\n",
    "file_path = \"../data/en/The Adventures of Sherlock Holmes - Arthur Conan Doyle.txt\"\n",
    "plain_text = read_text_file(file_path)\n",
    "len(plain_text)"
   ]
  },
  {
   "cell_type": "code",
   "execution_count": 6,
   "metadata": {},
   "outputs": [
    {
     "data": {
      "text/plain": [
       "\"\\nProject Gutenberg's The Adventures of Sherlock Holmes, by Arthur Conan Doyle\\n\\nThis eBook is for the use of anyone anywhere at no cost and with\\nalmost no restrictions whatsoever.  You may copy it, give it away or\\nre-use it under the terms of the Project Gutenberg License included\\nwith this eBook or online at www.gutenberg.net\\n\\n\\nTitle: The Adventures of Sherlock Holmes\\n\\nAuthor: Arthur Conan Doyle\\n\\nRelease Date: November 29, 2002 [EBook #1661]\\nLast Updated: May 20, 2019\\n\\nLanguage: English\\n\\nCharacter set encoding: UTF-8\\n\\n*** START OF THIS PROJECT GUTENBERG EBOOK THE ADVENTURES OF SHERLOCK HOLMES ***\\n\\n\\n\\nProduced by an anonymous Project Gutenberg volunteer and Jose Menendez\\n\\n\\n\\ncover\\n\\n\\n\\nThe Adventures of Sherlock Holmes\\n\\n\\n\\nby Arthur Conan Doyle\\n\\n\\n\\nContents\\n\\n\\n   I.     A Scandal in Bohemia\\n   II.    The Red-Headed League\\n   III.   A Case of Identity\\n   IV.    The Boscombe Valley Mystery\\n   V.     The Five Orange Pips\\n   VI.    The Man with the Twisted Lip\\n   VII.   The Adventure of the Blue C\""
      ]
     },
     "execution_count": 6,
     "metadata": {},
     "output_type": "execute_result"
    }
   ],
   "source": [
    "# Show first 1000 characters of document\n",
    "plain_text[:1000]"
   ]
  },
  {
   "cell_type": "markdown",
   "metadata": {},
   "source": [
    "### Step 2 - Tokenize and remove Stopwords"
   ]
  },
  {
   "cell_type": "markdown",
   "metadata": {},
   "source": [
    "**Data Quality process:** refers to the cleaning process of input data so they have meaning and value."
   ]
  },
  {
   "cell_type": "code",
   "execution_count": 7,
   "metadata": {},
   "outputs": [
    {
     "data": {
      "text/plain": [
       "'.project gutenberg s the adventures of sherlock holmes by arthur conan doyle.this ebook is for the use of anyone anywhere at no cost and with.almost no restrictions whatsoever. you may copy it give it away or.re use it under the terms of the project gutenberg license included.with this ebook or online at www.gutenberg.net.title the adventures of sherlock holmes.author arthur conan doyle.release date november ebook .last updated may .language english.character set encoding utf . start of this project gutenberg ebook the adventures of sherlock holmes .produced by an anonymous project gutenberg volunteer and jose menendez.cover.the adventures of sherlock holmes.by arthur conan doyle.contents. i. a scandal in bohemia. ii. the red headed league. iii. a case of identity. iv. the boscombe valley mystery. v. the five orange pips. vi. the man with the twisted lip. vii. the adventure of the blue carbuncle. viii. the adventure of the speckled band. ix. the adventure of the engineer s thumb. x. th'"
      ]
     },
     "execution_count": 7,
     "metadata": {},
     "output_type": "execute_result"
    }
   ],
   "source": [
    "# Cleaing the text\n",
    "clean_text = plain_text.lower()\n",
    "clean_text = clean_text.replace('\\n', '.')\n",
    "clean_text = re.sub('[^a-zA-Z.]', ' ', clean_text)\n",
    "clean_text = re.sub(r'\\s+', ' ', clean_text)\n",
    "clean_text = re.sub(r'\\.+', \".\", clean_text)\n",
    "clean_text[:1000]"
   ]
  },
  {
   "cell_type": "code",
   "execution_count": 8,
   "metadata": {},
   "outputs": [
    {
     "data": {
      "text/plain": [
       "14592"
      ]
     },
     "execution_count": 8,
     "metadata": {},
     "output_type": "execute_result"
    }
   ],
   "source": [
    "# Tokenize text in sentences\n",
    "sentence_list = clean_text.split('.')\n",
    "len(sentence_list)"
   ]
  },
  {
   "cell_type": "code",
   "execution_count": 9,
   "metadata": {},
   "outputs": [
    {
     "data": {
      "text/plain": [
       "[['project',\n",
       "  'gutenberg',\n",
       "  's',\n",
       "  'the',\n",
       "  'adventures',\n",
       "  'of',\n",
       "  'sherlock',\n",
       "  'holmes',\n",
       "  'by',\n",
       "  'arthur',\n",
       "  'conan',\n",
       "  'doyle'],\n",
       " ['this',\n",
       "  'ebook',\n",
       "  'is',\n",
       "  'for',\n",
       "  'the',\n",
       "  'use',\n",
       "  'of',\n",
       "  'anyone',\n",
       "  'anywhere',\n",
       "  'at',\n",
       "  'no',\n",
       "  'cost',\n",
       "  'and',\n",
       "  'with'],\n",
       " ['almost', 'no', 'restrictions', 'whatsoever'],\n",
       " ['you', 'may', 'copy', 'it', 'give', 'it', 'away', 'or'],\n",
       " ['re',\n",
       "  'use',\n",
       "  'it',\n",
       "  'under',\n",
       "  'the',\n",
       "  'terms',\n",
       "  'of',\n",
       "  'the',\n",
       "  'project',\n",
       "  'gutenberg',\n",
       "  'license',\n",
       "  'included'],\n",
       " ['with', 'this', 'ebook', 'or', 'online', 'at', 'www'],\n",
       " ['gutenberg'],\n",
       " ['net'],\n",
       " ['title', 'the', 'adventures', 'of', 'sherlock', 'holmes'],\n",
       " ['author', 'arthur', 'conan', 'doyle']]"
      ]
     },
     "execution_count": 9,
     "metadata": {},
     "output_type": "execute_result"
    }
   ],
   "source": [
    "# Tokenize sentences in words\n",
    "word_list = [sentence.split() for sentence in sentence_list if len(sentence.split()) > 0]\n",
    "word_list[:10]"
   ]
  },
  {
   "cell_type": "code",
   "execution_count": 10,
   "metadata": {},
   "outputs": [],
   "source": [
    "# Count the words in a document and return the most N repeated\n",
    "def count_words(sentences, n):\n",
    "    words = Counter()\n",
    "    \n",
    "    for sent in sentences:\n",
    "        for word in sent:\n",
    "            words[word] += 1\n",
    "    \n",
    "    return words.most_common(n)"
   ]
  },
  {
   "cell_type": "code",
   "execution_count": 11,
   "metadata": {},
   "outputs": [
    {
     "data": {
      "text/html": [
       "<div>\n",
       "<style scoped>\n",
       "    .dataframe tbody tr th:only-of-type {\n",
       "        vertical-align: middle;\n",
       "    }\n",
       "\n",
       "    .dataframe tbody tr th {\n",
       "        vertical-align: top;\n",
       "    }\n",
       "\n",
       "    .dataframe thead th {\n",
       "        text-align: right;\n",
       "    }\n",
       "</style>\n",
       "<table border=\"1\" class=\"dataframe\">\n",
       "  <thead>\n",
       "    <tr style=\"text-align: right;\">\n",
       "      <th></th>\n",
       "      <th>word</th>\n",
       "      <th>quantity</th>\n",
       "    </tr>\n",
       "  </thead>\n",
       "  <tbody>\n",
       "    <tr>\n",
       "      <th>0</th>\n",
       "      <td>the</td>\n",
       "      <td>5636</td>\n",
       "    </tr>\n",
       "    <tr>\n",
       "      <th>1</th>\n",
       "      <td>i</td>\n",
       "      <td>3038</td>\n",
       "    </tr>\n",
       "    <tr>\n",
       "      <th>2</th>\n",
       "      <td>and</td>\n",
       "      <td>3020</td>\n",
       "    </tr>\n",
       "    <tr>\n",
       "      <th>3</th>\n",
       "      <td>to</td>\n",
       "      <td>2744</td>\n",
       "    </tr>\n",
       "    <tr>\n",
       "      <th>4</th>\n",
       "      <td>of</td>\n",
       "      <td>2661</td>\n",
       "    </tr>\n",
       "    <tr>\n",
       "      <th>5</th>\n",
       "      <td>a</td>\n",
       "      <td>2643</td>\n",
       "    </tr>\n",
       "    <tr>\n",
       "      <th>6</th>\n",
       "      <td>in</td>\n",
       "      <td>1766</td>\n",
       "    </tr>\n",
       "    <tr>\n",
       "      <th>7</th>\n",
       "      <td>that</td>\n",
       "      <td>1752</td>\n",
       "    </tr>\n",
       "    <tr>\n",
       "      <th>8</th>\n",
       "      <td>it</td>\n",
       "      <td>1737</td>\n",
       "    </tr>\n",
       "    <tr>\n",
       "      <th>9</th>\n",
       "      <td>you</td>\n",
       "      <td>1503</td>\n",
       "    </tr>\n",
       "  </tbody>\n",
       "</table>\n",
       "</div>"
      ],
      "text/plain": [
       "   word  quantity\n",
       "0   the      5636\n",
       "1     i      3038\n",
       "2   and      3020\n",
       "3    to      2744\n",
       "4    of      2661\n",
       "5     a      2643\n",
       "6    in      1766\n",
       "7  that      1752\n",
       "8    it      1737\n",
       "9   you      1503"
      ]
     },
     "execution_count": 11,
     "metadata": {},
     "output_type": "execute_result"
    }
   ],
   "source": [
    "# Get the most common words in the document\n",
    "n_words = count_words(word_list, 50)\n",
    "df = pd.DataFrame.from_records(n_words, columns = ['word', 'quantity'])\n",
    "df.head(10)"
   ]
  },
  {
   "cell_type": "code",
   "execution_count": 12,
   "metadata": {},
   "outputs": [
    {
     "data": {
      "image/png": "[encoded data removed]",
      "text/plain": [
       "<Figure size 1296x432 with 1 Axes>"
      ]
     },
     "metadata": {
      "needs_background": "light"
     },
     "output_type": "display_data"
    }
   ],
   "source": [
    "# Plot the most common words in the document\n",
    "fig = plt.figure(figsize = (18, 6))\n",
    "sns.barplot(x = 'word', y = 'quantity', data = df)\n",
    "plt.title('The 50 Most Common Words in document')\n",
    "plt.show()"
   ]
  },
  {
   "cell_type": "markdown",
   "metadata": {},
   "source": [
    "**- Stopwords:** refers to the most common words in a language, which do not significantly affect the meaning of the text."
   ]
  },
  {
   "cell_type": "code",
   "execution_count": 13,
   "metadata": {},
   "outputs": [
    {
     "name": "stdout",
     "output_type": "stream",
     "text": [
      "{'my', 'made', 'could', 'if', 'behind', 'eleven', 'a', 'quite', 'anyhow', 'on', 'amongst', 'everyone', 'hereby', \"'ll\", 'noone', 'almost', 'thru', 'an', 'another', 'make', 'never', 'once', 'next', 'what', 'did', 'move', 'thence', '‘d', '‘re', 'are', 'indeed', 'really', 'thereafter', 'last', 'amount', 'less', '‘ve', 'least', 'before', 'anywhere', 'thereupon', 'most', 'fifteen', 'that', 'three', 'hereupon', 'also', 'whenever', 'elsewhere', 'together', 'these', 'about', 'themselves', 'due', 'has', 'only', 'become', 'someone', 'empty', 'n‘t', '‘m', 'until', 'formerly', 'now', 'your', 'every', 'you', 'we', 'beyond', 'may', 'below', 'five', 'which', 'besides', 'seems', 'something', '’re', 'and', 'get', 'whom', 'therein', 'per', 'over', 'seemed', 'call', 'as', 'no', 'third', 'it', 'whereas', 'afterwards', 'wherever', 'at', 'often', 'used', 'front', 'regarding', 'see', 'wherein', 'under', 'nevertheless', 'first', 'between', 'out', 'own', 'although', 'too', 'various', 'alone', 'rather', 'using', 'into', 'his', 'across', 'whereby', 'yet', \"'s\", 'hundred', '’d', 'off', 'top', 'do', 'n’t', 'side', 'otherwise', 'there', 'nothing', 'others', 'show', 'both', 'whereupon', 'say', 'give', 'twenty', 'same', 'enough', 'is', 'one', 'whereafter', \"'re\", 'while', 'full', 'here', 'hers', 'anyway', 'unless', 'former', 'somewhere', 'him', 'seem', 'sometimes', '‘s', 'above', 'along', 'had', 'because', 'via', 'two', 'not', 'can', 'everywhere', 'when', 'neither', 'meanwhile', 'nor', 'serious', 'name', 'where', 'whoever', 'just', 'though', 'latter', 'well', 'were', 'few', 'ten', '’ll', 'itself', 'they', 'back', 'why', 'would', '’m', 'all', 'other', 'might', 'without', 'seeming', 'four', 'nine', 'himself', 'myself', 'whose', 'the', 'yourselves', 'eight', \"'d\", 'hence', 'in', '’s', 'several', 'already', 'so', 'any', 'forty', 'me', 'us', 'hereafter', 'them', 'by', 'further', 'again', 'her', 'among', 'beforehand', 'moreover', 'still', 'keep', 'those', 'go', 'whatever', 'then', 'nowhere', 'this', 'from', 'done', 'since', 'ourselves', 'take', 'anyone', 'please', 'very', \"'m\", 'within', 'however', 'was', 'must', 'should', 'he', 'such', 'everything', 'mine', 'yourself', 'bottom', 'onto', 'am', 'around', 'each', 'some', 'thus', 'will', 'after', 'herself', 'upon', 'perhaps', 'twelve', 'beside', '’ve', 'therefore', 'down', 'whither', 'who', 'but', 'been', 'nobody', 'whole', 'whence', 'through', 'latterly', 'during', 'thereby', 'of', 'herein', 'she', 'namely', 'whether', 'be', 'have', 'does', 'cannot', 'with', 'being', 'to', 'our', 'yours', \"'ve\", 'or', 're', 'either', 'sometime', 'toward', 'else', 'up', 'mostly', 'part', 'becomes', 'much', 'their', \"n't\", 'except', 'somehow', 'ours', 'fifty', 'became', 'none', 'throughout', 'anything', 'even', 'doing', 'put', 'i', 'more', 'against', 'for', 'many', 'how', 'sixty', 'than', 'towards', 'always', 'ca', 'its', '‘ll', 'six', 'ever', 'becoming'}\n"
     ]
    }
   ],
   "source": [
    "# Get English stopwords\n",
    "stopwords_en = en.stop_words.STOP_WORDS\n",
    "print(stopwords_en)"
   ]
  },
  {
   "cell_type": "code",
   "execution_count": 14,
   "metadata": {},
   "outputs": [
    {
     "data": {
      "text/plain": [
       "[['project',\n",
       "  'gutenberg',\n",
       "  'adventures',\n",
       "  'sherlock',\n",
       "  'holmes',\n",
       "  'arthur',\n",
       "  'conan',\n",
       "  'doyle'],\n",
       " ['ebook', 'use', 'cost'],\n",
       " ['restrictions', 'whatsoever'],\n",
       " ['copy', 'away'],\n",
       " ['use', 'terms', 'project', 'gutenberg', 'license', 'included'],\n",
       " ['ebook', 'online', 'www'],\n",
       " ['gutenberg'],\n",
       " ['net'],\n",
       " ['title', 'adventures', 'sherlock', 'holmes'],\n",
       " ['author', 'arthur', 'conan', 'doyle']]"
      ]
     },
     "execution_count": 14,
     "metadata": {},
     "output_type": "execute_result"
    }
   ],
   "source": [
    "# Remove stopwords\n",
    "all_words = []\n",
    "for ix in range(len(word_list)):\n",
    "    all_words.append([word for word in word_list[ix] if (word not in stopwords_en and len(word) > 2)])\n",
    "\n",
    "all_words[:10]"
   ]
  },
  {
   "cell_type": "code",
   "execution_count": 15,
   "metadata": {},
   "outputs": [
    {
     "data": {
      "text/html": [
       "<div>\n",
       "<style scoped>\n",
       "    .dataframe tbody tr th:only-of-type {\n",
       "        vertical-align: middle;\n",
       "    }\n",
       "\n",
       "    .dataframe tbody tr th {\n",
       "        vertical-align: top;\n",
       "    }\n",
       "\n",
       "    .dataframe thead th {\n",
       "        text-align: right;\n",
       "    }\n",
       "</style>\n",
       "<table border=\"1\" class=\"dataframe\">\n",
       "  <thead>\n",
       "    <tr style=\"text-align: right;\">\n",
       "      <th></th>\n",
       "      <th>word</th>\n",
       "      <th>quantity</th>\n",
       "    </tr>\n",
       "  </thead>\n",
       "  <tbody>\n",
       "    <tr>\n",
       "      <th>0</th>\n",
       "      <td>said</td>\n",
       "      <td>486</td>\n",
       "    </tr>\n",
       "    <tr>\n",
       "      <th>1</th>\n",
       "      <td>holmes</td>\n",
       "      <td>465</td>\n",
       "    </tr>\n",
       "    <tr>\n",
       "      <th>2</th>\n",
       "      <td>man</td>\n",
       "      <td>305</td>\n",
       "    </tr>\n",
       "    <tr>\n",
       "      <th>3</th>\n",
       "      <td>little</td>\n",
       "      <td>269</td>\n",
       "    </tr>\n",
       "    <tr>\n",
       "      <th>4</th>\n",
       "      <td>think</td>\n",
       "      <td>174</td>\n",
       "    </tr>\n",
       "    <tr>\n",
       "      <th>5</th>\n",
       "      <td>room</td>\n",
       "      <td>171</td>\n",
       "    </tr>\n",
       "    <tr>\n",
       "      <th>6</th>\n",
       "      <td>know</td>\n",
       "      <td>170</td>\n",
       "    </tr>\n",
       "    <tr>\n",
       "      <th>7</th>\n",
       "      <td>shall</td>\n",
       "      <td>169</td>\n",
       "    </tr>\n",
       "    <tr>\n",
       "      <th>8</th>\n",
       "      <td>come</td>\n",
       "      <td>161</td>\n",
       "    </tr>\n",
       "    <tr>\n",
       "      <th>9</th>\n",
       "      <td>time</td>\n",
       "      <td>151</td>\n",
       "    </tr>\n",
       "  </tbody>\n",
       "</table>\n",
       "</div>"
      ],
      "text/plain": [
       "     word  quantity\n",
       "0    said       486\n",
       "1  holmes       465\n",
       "2     man       305\n",
       "3  little       269\n",
       "4   think       174\n",
       "5    room       171\n",
       "6    know       170\n",
       "7   shall       169\n",
       "8    come       161\n",
       "9    time       151"
      ]
     },
     "execution_count": 15,
     "metadata": {},
     "output_type": "execute_result"
    }
   ],
   "source": [
    "# Get the most common words in the document after removing the stopwords\n",
    "n_words = count_words(all_words, 50)\n",
    "df = pd.DataFrame.from_records(n_words, columns = ['word', 'quantity'])\n",
    "df.head(10)"
   ]
  },
  {
   "cell_type": "code",
   "execution_count": 16,
   "metadata": {},
   "outputs": [
    {
     "data": {
      "image/png": "[encoded data removed]",
      "text/plain": [
       "<Figure size 1296x432 with 1 Axes>"
      ]
     },
     "metadata": {
      "needs_background": "light"
     },
     "output_type": "display_data"
    }
   ],
   "source": [
    "# Plot the most common words in the document after removing the stopwords\n",
    "fig = plt.figure(figsize = (18, 6))\n",
    "sns.barplot(x = 'word', y = 'quantity', data = df)\n",
    "plt.title('The 50 Most Common Words in document')\n",
    "plt.show()"
   ]
  },
  {
   "cell_type": "markdown",
   "metadata": {},
   "source": [
    "### Step 3 - Create a Word-to-Vector model"
   ]
  },
  {
   "cell_type": "code",
   "execution_count": 17,
   "metadata": {},
   "outputs": [],
   "source": [
    "# Create Word2Vec model\n",
    "w2v_model = Word2Vec(all_words, min_count = 2)"
   ]
  },
  {
   "cell_type": "markdown",
   "metadata": {},
   "source": [
    "**- Vocabulary:** unique words of the document."
   ]
  },
  {
   "cell_type": "code",
   "execution_count": 18,
   "metadata": {},
   "outputs": [
    {
     "data": {
      "text/plain": [
       "4072"
      ]
     },
     "execution_count": 18,
     "metadata": {},
     "output_type": "execute_result"
    }
   ],
   "source": [
    "# Show vocabulary size: unique words occurring at least twice\n",
    "vocabulary = w2v_model.wv.vocab  \n",
    "len(vocabulary)"
   ]
  },
  {
   "cell_type": "code",
   "execution_count": 19,
   "metadata": {},
   "outputs": [
    {
     "data": {
      "text/plain": [
       "array([ 0.00636142, -0.00693795, -0.00280091, -0.00131704,  0.0046135 ,\n",
       "        0.0097271 ,  0.00866337,  0.00506408,  0.00085373, -0.00306115,\n",
       "        0.00258777,  0.00663013,  0.00658644, -0.00403929, -0.01166792,\n",
       "       -0.00627823, -0.00581229,  0.00656078, -0.0030056 , -0.0111766 ,\n",
       "       -0.00736378, -0.00698136, -0.00137061, -0.00858127,  0.00044091,\n",
       "       -0.00199137,  0.0060475 , -0.00081634, -0.00589637, -0.0012413 ,\n",
       "       -0.0081995 ,  0.01000078, -0.00772578, -0.00933085, -0.01380116,\n",
       "        0.00724751,  0.0001914 ,  0.00361659, -0.00503125, -0.00412412,\n",
       "       -0.00109992, -0.00277241,  0.00040683, -0.00358991,  0.00621974,\n",
       "        0.00256462, -0.00301992, -0.00672854,  0.00789886,  0.00055404,\n",
       "        0.00529386, -0.0037282 ,  0.00695343,  0.01167393,  0.01270131,\n",
       "       -0.00490821,  0.00946717,  0.00703419,  0.00438639, -0.01025964,\n",
       "       -0.00493282, -0.00792002,  0.00548118,  0.00218985, -0.00660709,\n",
       "        0.00716521, -0.00394326, -0.00374952, -0.01737899, -0.00404373,\n",
       "       -0.00293435, -0.00650783,  0.00331354, -0.00147031, -0.00107764,\n",
       "       -0.01738786,  0.01107171, -0.01054459, -0.00087947, -0.01924823,\n",
       "        0.00246872,  0.00312211, -0.0085491 , -0.00529393, -0.00823367,\n",
       "       -0.00257364,  0.01878027,  0.00084609,  0.00637761, -0.00253224,\n",
       "        0.00540271, -0.002146  ,  0.00215549, -0.00647743, -0.00576964,\n",
       "       -0.00261764,  0.00224482,  0.00481503, -0.01702006,  0.00069914],\n",
       "      dtype=float32)"
      ]
     },
     "execution_count": 19,
     "metadata": {},
     "output_type": "execute_result"
    }
   ],
   "source": [
    "# Show 'sherlock' vector\n",
    "w2v_model.wv['sherlock']"
   ]
  },
  {
   "cell_type": "markdown",
   "metadata": {},
   "source": [
    "**- Similar Words:** Words more similar in terms of meaning and context."
   ]
  },
  {
   "cell_type": "code",
   "execution_count": 20,
   "metadata": {},
   "outputs": [
    {
     "data": {
      "text/plain": [
       "[('face', 0.849378228187561),\n",
       " ('time', 0.8467143774032593),\n",
       " ('round', 0.8342499732971191),\n",
       " ('man', 0.8307576179504395),\n",
       " ('heard', 0.8302915096282959),\n",
       " ('door', 0.8296851515769958),\n",
       " ('said', 0.8294661045074463),\n",
       " ('light', 0.8266749382019043),\n",
       " ('little', 0.8246828317642212),\n",
       " ('found', 0.8239873647689819)]"
      ]
     },
     "execution_count": 20,
     "metadata": {},
     "output_type": "execute_result"
    }
   ],
   "source": [
    "# Finding Positive Similar Words\n",
    "w2v_model.wv.most_similar(positive = ['sherlock'], topn = 10)"
   ]
  },
  {
   "cell_type": "code",
   "execution_count": 21,
   "metadata": {},
   "outputs": [
    {
     "data": {
      "text/plain": [
       "[('useless', 0.25632381439208984),\n",
       " ('oxford', 0.24930772185325623),\n",
       " ('complex', 0.2286577969789505),\n",
       " ('chambers', 0.20838642120361328),\n",
       " ('add', 0.2036464512348175),\n",
       " ('backed', 0.20235228538513184),\n",
       " ('rude', 0.19714894890785217),\n",
       " ('guessed', 0.19692674279212952),\n",
       " ('wings', 0.19507397711277008),\n",
       " ('freedom', 0.19448667764663696)]"
      ]
     },
     "execution_count": 21,
     "metadata": {},
     "output_type": "execute_result"
    }
   ],
   "source": [
    "# Finding Negative Similar Words\n",
    "w2v_model.wv.most_similar(negative = ['sherlock'], topn = 10)"
   ]
  },
  {
   "cell_type": "code",
   "execution_count": 22,
   "metadata": {},
   "outputs": [
    {
     "data": {
      "text/plain": [
       "0.7043459512895155"
      ]
     },
     "execution_count": 22,
     "metadata": {},
     "output_type": "execute_result"
    }
   ],
   "source": [
    "# Calculate the similarity between 2 words\n",
    "w2v_model.wv.similarity(w1 = 'sherlock', w2 = 'watson')"
   ]
  },
  {
   "cell_type": "code",
   "execution_count": 23,
   "metadata": {},
   "outputs": [
    {
     "data": {
      "text/plain": [
       "'sherlock'"
      ]
     },
     "execution_count": 23,
     "metadata": {},
     "output_type": "execute_result"
    }
   ],
   "source": [
    "# Show word that doesn't belong to the list\n",
    "w2v_model.wv.doesnt_match(['sherlock', 'watson', 'woman'])"
   ]
  },
  {
   "cell_type": "markdown",
   "metadata": {},
   "source": [
    "## Step 4 - Plot similars words"
   ]
  },
  {
   "cell_type": "code",
   "execution_count": 24,
   "metadata": {},
   "outputs": [],
   "source": [
    "# Get vectors\n",
    "target_word = 'sherlock'\n",
    "top_n = 50\n",
    "\n",
    "most_similar = w2v_model.wv.most_similar(positive = [target_word], topn = top_n)\n",
    "most_similar.append((target_word, 1))\n",
    "most_sim_word = [row[0] for row in most_similar]\n",
    "X = w2v_model[most_sim_word]"
   ]
  },
  {
   "cell_type": "code",
   "execution_count": 25,
   "metadata": {},
   "outputs": [
    {
     "data": {
      "text/plain": [
       "[0.47568274, 0.029820161]"
      ]
     },
     "execution_count": 25,
     "metadata": {},
     "output_type": "execute_result"
    }
   ],
   "source": [
    "# Perform PCA with 2 components\n",
    "pca = PCA(n_components = 2)\n",
    "pca_data = pca.fit_transform(X)\n",
    "\n",
    "# The explained variance of each principal components\n",
    "list(pca.explained_variance_ratio_)"
   ]
  },
  {
   "cell_type": "code",
   "execution_count": 26,
   "metadata": {},
   "outputs": [
    {
     "data": {
      "text/html": [
       "<div>\n",
       "<style scoped>\n",
       "    .dataframe tbody tr th:only-of-type {\n",
       "        vertical-align: middle;\n",
       "    }\n",
       "\n",
       "    .dataframe tbody tr th {\n",
       "        vertical-align: top;\n",
       "    }\n",
       "\n",
       "    .dataframe thead th {\n",
       "        text-align: right;\n",
       "    }\n",
       "</style>\n",
       "<table border=\"1\" class=\"dataframe\">\n",
       "  <thead>\n",
       "    <tr style=\"text-align: right;\">\n",
       "      <th></th>\n",
       "      <th>PC1</th>\n",
       "      <th>PC2</th>\n",
       "      <th>Name</th>\n",
       "    </tr>\n",
       "  </thead>\n",
       "  <tbody>\n",
       "    <tr>\n",
       "      <th>0</th>\n",
       "      <td>0.040183</td>\n",
       "      <td>0.004347</td>\n",
       "      <td>face</td>\n",
       "    </tr>\n",
       "    <tr>\n",
       "      <th>1</th>\n",
       "      <td>0.014266</td>\n",
       "      <td>-0.004640</td>\n",
       "      <td>time</td>\n",
       "    </tr>\n",
       "    <tr>\n",
       "      <th>2</th>\n",
       "      <td>-0.001733</td>\n",
       "      <td>-0.002695</td>\n",
       "      <td>round</td>\n",
       "    </tr>\n",
       "    <tr>\n",
       "      <th>3</th>\n",
       "      <td>0.076874</td>\n",
       "      <td>0.007334</td>\n",
       "      <td>man</td>\n",
       "    </tr>\n",
       "    <tr>\n",
       "      <th>4</th>\n",
       "      <td>-0.010578</td>\n",
       "      <td>0.002152</td>\n",
       "      <td>heard</td>\n",
       "    </tr>\n",
       "    <tr>\n",
       "      <th>5</th>\n",
       "      <td>0.029009</td>\n",
       "      <td>-0.009135</td>\n",
       "      <td>door</td>\n",
       "    </tr>\n",
       "    <tr>\n",
       "      <th>6</th>\n",
       "      <td>0.063299</td>\n",
       "      <td>0.000515</td>\n",
       "      <td>said</td>\n",
       "    </tr>\n",
       "    <tr>\n",
       "      <th>7</th>\n",
       "      <td>-0.007434</td>\n",
       "      <td>-0.000877</td>\n",
       "      <td>light</td>\n",
       "    </tr>\n",
       "    <tr>\n",
       "      <th>8</th>\n",
       "      <td>0.083202</td>\n",
       "      <td>-0.014214</td>\n",
       "      <td>little</td>\n",
       "    </tr>\n",
       "    <tr>\n",
       "      <th>9</th>\n",
       "      <td>0.015903</td>\n",
       "      <td>0.009025</td>\n",
       "      <td>found</td>\n",
       "    </tr>\n",
       "  </tbody>\n",
       "</table>\n",
       "</div>"
      ],
      "text/plain": [
       "        PC1       PC2    Name\n",
       "0  0.040183  0.004347    face\n",
       "1  0.014266 -0.004640    time\n",
       "2 -0.001733 -0.002695   round\n",
       "3  0.076874  0.007334     man\n",
       "4 -0.010578  0.002152   heard\n",
       "5  0.029009 -0.009135    door\n",
       "6  0.063299  0.000515    said\n",
       "7 -0.007434 -0.000877   light\n",
       "8  0.083202 -0.014214  little\n",
       "9  0.015903  0.009025   found"
      ]
     },
     "execution_count": 26,
     "metadata": {},
     "output_type": "execute_result"
    }
   ],
   "source": [
    "# Create and show principal components DataFrame\n",
    "pca_df = pd.DataFrame(data = pca_data, columns = [\"PC1\", \"PC2\"])\n",
    "pca_df['Name'] = most_sim_word\n",
    "pca_df.head(10)"
   ]
  },
  {
   "cell_type": "code",
   "execution_count": 27,
   "metadata": {},
   "outputs": [
    {
     "data": {
      "image/png": "[encoded data removed]",
      "text/plain": [
       "<Figure size 1152x1152 with 1 Axes>"
      ]
     },
     "metadata": {
      "needs_background": "light"
     },
     "output_type": "display_data"
    }
   ],
   "source": [
    "# Create a scatter plot of the projection\n",
    "fig, ax = plt.subplots(figsize = (16, 16))\n",
    "gap = 0.001\n",
    "\n",
    "# Add points one by one with a loop\n",
    "for i, word in enumerate(most_sim_word):\n",
    "    if word == target_word:\n",
    "        plt.scatter(pca_data[i, 0], pca_data[i, 1], c = 'b', s = 50)\n",
    "        text = word.upper()\n",
    "    else:\n",
    "        plt.scatter(pca_data[i, 0], pca_data[i, 1], c = 'g', s = 20)\n",
    "        text = word + ': ' + str(round(most_similar[i][1], 3))\n",
    "    plt.annotate(text, xy = (pca_data[i, 0] + gap, pca_data[i, 1] - gap/4))\n",
    "\n",
    "# Plot setup\n",
    "ax.set_xlabel(\"PC 1\", fontsize = 12)\n",
    "ax.set_ylabel(\"PC 2\", fontsize = 12)\n",
    "ax.set_title(\"50 Most Similar Words to \" + target_word, fontsize = 20)\n",
    "ax.legend([\"Similar Words\"])\n",
    "ax.grid()"
   ]
  },
  {
   "cell_type": "markdown",
   "metadata": {},
   "source": [
    "<hr>\n",
    "<p><a href=\"https://ansegura7.github.io/NLP/\">« Home</a></p>"
   ]
  }
 ],
 "metadata": {
  "kernelspec": {
   "display_name": "Python 3",
   "language": "python",
   "name": "python3"
  },
  "language_info": {
   "codemirror_mode": {
    "name": "ipython",
    "version": 3
   },
   "file_extension": ".py",
   "mimetype": "text/x-python",
   "name": "python",
   "nbconvert_exporter": "python",
   "pygments_lexer": "ipython3",
   "version": "3.6.8"
  }
 },
 "nbformat": 4,
 "nbformat_minor": 2
}
