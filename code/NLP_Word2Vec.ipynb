{
 "cells": [
  {
   "cell_type": "markdown",
   "metadata": {},
   "source": [
    "# Natural Language Processing with gensim"
   ]
  },
  {
   "cell_type": "markdown",
   "metadata": {},
   "source": [
    "- **Created by Andrés Segura Tinoco**\n",
    "- **Created on June 09, 2019**"
   ]
  },
  {
   "cell_type": "markdown",
   "metadata": {},
   "source": [
    "**Gensim** is a Python library for topic modelling, document indexing and similarity retrieval with large corpora. Target audience is the natural language processing (NLP) and information retrieval (IR) community."
   ]
  },
  {
   "cell_type": "markdown",
   "metadata": {},
   "source": [
    "## Example with a document in English"
   ]
  },
  {
   "cell_type": "code",
   "execution_count": 1,
   "metadata": {},
   "outputs": [],
   "source": [
    "# Load Python libraries\n",
    "import io\n",
    "import re\n",
    "import pandas as pd\n",
    "from collections import Counter\n",
    "from sklearn.decomposition import PCA\n",
    "import warnings\n",
    "warnings.filterwarnings('ignore')"
   ]
  },
  {
   "cell_type": "code",
   "execution_count": 2,
   "metadata": {},
   "outputs": [],
   "source": [
    "# Load NLP libraries from gensim and spacy\n",
    "from gensim.models import Word2Vec\n",
    "import spacy.lang.en as en"
   ]
  },
  {
   "cell_type": "code",
   "execution_count": 3,
   "metadata": {},
   "outputs": [],
   "source": [
    "# Load Plot libraries\n",
    "import seaborn as sns\n",
    "import matplotlib.pyplot as plt"
   ]
  },
  {
   "cell_type": "markdown",
   "metadata": {},
   "source": [
    "### Step 1 - Read natural text from a book"
   ]
  },
  {
   "cell_type": "code",
   "execution_count": 4,
   "metadata": {},
   "outputs": [],
   "source": [
    "# Util function to read a plain text file\n",
    "def read_text_file(file_path):\n",
    "    text = \"\"\n",
    "    with io.open(file_path, 'r', encoding = 'ISO-8859-1') as f:\n",
    "        text = f.read()\n",
    "    \n",
    "    return text;"
   ]
  },
  {
   "cell_type": "code",
   "execution_count": 5,
   "metadata": {},
   "outputs": [
    {
     "data": {
      "text/plain": [
       "576467"
      ]
     },
     "execution_count": 5,
     "metadata": {},
     "output_type": "execute_result"
    }
   ],
   "source": [
    "# Get text sample\n",
    "file_path = \"../data/en/The Adventures of Sherlock Holmes - Arthur Conan Doyle.txt\"\n",
    "plain_text = read_text_file(file_path)\n",
    "len(plain_text)"
   ]
  },
  {
   "cell_type": "code",
   "execution_count": 6,
   "metadata": {},
   "outputs": [
    {
     "data": {
      "text/plain": [
       "\"\\nProject Gutenberg's The Adventures of Sherlock Holmes, by Arthur Conan Doyle\\n\\nThis eBook is for the use of anyone anywhere at no cost and with\\nalmost no restrictions whatsoever.  You may copy it, give it away or\\nre-use it under the terms of the Project Gutenberg License included\\nwith this eBook or online at www.gutenberg.net\\n\\n\\nTitle: The Adventures of Sherlock Holmes\\n\\nAuthor: Arthur Conan Doyle\\n\\nRelease Date: November 29, 2002 [EBook #1661]\\nLast Updated: May 20, 2019\\n\\nLanguage: English\\n\\nCharacter set encoding: UTF-8\\n\\n*** START OF THIS PROJECT GUTENBERG EBOOK THE ADVENTURES OF SHERLOCK HOLMES ***\\n\\n\\n\\nProduced by an anonymous Project Gutenberg volunteer and Jose Menendez\\n\\n\\n\\ncover\\n\\n\\n\\nThe Adventures of Sherlock Holmes\\n\\n\\n\\nby Arthur Conan Doyle\\n\\n\\n\\nContents\\n\\n\\n   I.     A Scandal in Bohemia\\n   II.    The Red-Headed League\\n   III.   A Case of Identity\\n   IV.    The Boscombe Valley Mystery\\n   V.     The Five Orange Pips\\n   VI.    The Man with the Twisted Lip\\n   VII.   The Adventure of the Blue C\""
      ]
     },
     "execution_count": 6,
     "metadata": {},
     "output_type": "execute_result"
    }
   ],
   "source": [
    "# Show first 1000 characters of document\n",
    "plain_text[:1000]"
   ]
  },
  {
   "cell_type": "markdown",
   "metadata": {},
   "source": [
    "### Step 2 - Tokenize and remove Stopwords"
   ]
  },
  {
   "cell_type": "markdown",
   "metadata": {},
   "source": [
    "**Data Quality process:** refers to the cleaning process of input data so they have meaning and value."
   ]
  },
  {
   "cell_type": "code",
   "execution_count": 7,
   "metadata": {},
   "outputs": [
    {
     "data": {
      "text/plain": [
       "'.project gutenberg s the adventures of sherlock holmes by arthur conan doyle.this ebook is for the use of anyone anywhere at no cost and with.almost no restrictions whatsoever. you may copy it give it away or.re use it under the terms of the project gutenberg license included.with this ebook or online at www.gutenberg.net.title the adventures of sherlock holmes.author arthur conan doyle.release date november ebook .last updated may .language english.character set encoding utf . start of this project gutenberg ebook the adventures of sherlock holmes .produced by an anonymous project gutenberg volunteer and jose menendez.cover.the adventures of sherlock holmes.by arthur conan doyle.contents. i. a scandal in bohemia. ii. the red headed league. iii. a case of identity. iv. the boscombe valley mystery. v. the five orange pips. vi. the man with the twisted lip. vii. the adventure of the blue carbuncle. viii. the adventure of the speckled band. ix. the adventure of the engineer s thumb. x. th'"
      ]
     },
     "execution_count": 7,
     "metadata": {},
     "output_type": "execute_result"
    }
   ],
   "source": [
    "# Cleaing the text\n",
    "clean_text = plain_text.lower()\n",
    "clean_text = clean_text.replace('\\n', '.')\n",
    "clean_text = re.sub('[^a-zA-Z.]', ' ', clean_text)\n",
    "clean_text = re.sub(r'\\s+', ' ', clean_text)\n",
    "clean_text = re.sub(r'\\.+', \".\", clean_text)\n",
    "clean_text[:1000]"
   ]
  },
  {
   "cell_type": "code",
   "execution_count": 8,
   "metadata": {},
   "outputs": [
    {
     "data": {
      "text/plain": [
       "14592"
      ]
     },
     "execution_count": 8,
     "metadata": {},
     "output_type": "execute_result"
    }
   ],
   "source": [
    "# Tokenize text in sentences\n",
    "sentence_list = clean_text.split('.')\n",
    "len(sentence_list)"
   ]
  },
  {
   "cell_type": "code",
   "execution_count": 9,
   "metadata": {},
   "outputs": [
    {
     "data": {
      "text/plain": [
       "[['project',\n",
       "  'gutenberg',\n",
       "  's',\n",
       "  'the',\n",
       "  'adventures',\n",
       "  'of',\n",
       "  'sherlock',\n",
       "  'holmes',\n",
       "  'by',\n",
       "  'arthur',\n",
       "  'conan',\n",
       "  'doyle'],\n",
       " ['this',\n",
       "  'ebook',\n",
       "  'is',\n",
       "  'for',\n",
       "  'the',\n",
       "  'use',\n",
       "  'of',\n",
       "  'anyone',\n",
       "  'anywhere',\n",
       "  'at',\n",
       "  'no',\n",
       "  'cost',\n",
       "  'and',\n",
       "  'with'],\n",
       " ['almost', 'no', 'restrictions', 'whatsoever'],\n",
       " ['you', 'may', 'copy', 'it', 'give', 'it', 'away', 'or'],\n",
       " ['re',\n",
       "  'use',\n",
       "  'it',\n",
       "  'under',\n",
       "  'the',\n",
       "  'terms',\n",
       "  'of',\n",
       "  'the',\n",
       "  'project',\n",
       "  'gutenberg',\n",
       "  'license',\n",
       "  'included'],\n",
       " ['with', 'this', 'ebook', 'or', 'online', 'at', 'www'],\n",
       " ['gutenberg'],\n",
       " ['net'],\n",
       " ['title', 'the', 'adventures', 'of', 'sherlock', 'holmes'],\n",
       " ['author', 'arthur', 'conan', 'doyle']]"
      ]
     },
     "execution_count": 9,
     "metadata": {},
     "output_type": "execute_result"
    }
   ],
   "source": [
    "# Tokenize sentences in words\n",
    "word_list = [sentence.split() for sentence in sentence_list if len(sentence.split()) > 0]\n",
    "word_list[:10]"
   ]
  },
  {
   "cell_type": "code",
   "execution_count": 10,
   "metadata": {},
   "outputs": [],
   "source": [
    "# Count the words in a document and return the most N repeated\n",
    "def count_words(sentences, n):\n",
    "    words = Counter()\n",
    "    \n",
    "    for sent in sentences:\n",
    "        for word in sent:\n",
    "            words[word] += 1\n",
    "    \n",
    "    return words.most_common(n)"
   ]
  },
  {
   "cell_type": "code",
   "execution_count": 11,
   "metadata": {},
   "outputs": [
    {
     "data": {
      "text/html": [
       "<div>\n",
       "<style scoped>\n",
       "    .dataframe tbody tr th:only-of-type {\n",
       "        vertical-align: middle;\n",
       "    }\n",
       "\n",
       "    .dataframe tbody tr th {\n",
       "        vertical-align: top;\n",
       "    }\n",
       "\n",
       "    .dataframe thead th {\n",
       "        text-align: right;\n",
       "    }\n",
       "</style>\n",
       "<table border=\"1\" class=\"dataframe\">\n",
       "  <thead>\n",
       "    <tr style=\"text-align: right;\">\n",
       "      <th></th>\n",
       "      <th>word</th>\n",
       "      <th>quantity</th>\n",
       "    </tr>\n",
       "  </thead>\n",
       "  <tbody>\n",
       "    <tr>\n",
       "      <th>0</th>\n",
       "      <td>the</td>\n",
       "      <td>5636</td>\n",
       "    </tr>\n",
       "    <tr>\n",
       "      <th>1</th>\n",
       "      <td>i</td>\n",
       "      <td>3038</td>\n",
       "    </tr>\n",
       "    <tr>\n",
       "      <th>2</th>\n",
       "      <td>and</td>\n",
       "      <td>3020</td>\n",
       "    </tr>\n",
       "    <tr>\n",
       "      <th>3</th>\n",
       "      <td>to</td>\n",
       "      <td>2744</td>\n",
       "    </tr>\n",
       "    <tr>\n",
       "      <th>4</th>\n",
       "      <td>of</td>\n",
       "      <td>2661</td>\n",
       "    </tr>\n",
       "    <tr>\n",
       "      <th>5</th>\n",
       "      <td>a</td>\n",
       "      <td>2643</td>\n",
       "    </tr>\n",
       "    <tr>\n",
       "      <th>6</th>\n",
       "      <td>in</td>\n",
       "      <td>1766</td>\n",
       "    </tr>\n",
       "    <tr>\n",
       "      <th>7</th>\n",
       "      <td>that</td>\n",
       "      <td>1752</td>\n",
       "    </tr>\n",
       "    <tr>\n",
       "      <th>8</th>\n",
       "      <td>it</td>\n",
       "      <td>1737</td>\n",
       "    </tr>\n",
       "    <tr>\n",
       "      <th>9</th>\n",
       "      <td>you</td>\n",
       "      <td>1503</td>\n",
       "    </tr>\n",
       "  </tbody>\n",
       "</table>\n",
       "</div>"
      ],
      "text/plain": [
       "   word  quantity\n",
       "0   the      5636\n",
       "1     i      3038\n",
       "2   and      3020\n",
       "3    to      2744\n",
       "4    of      2661\n",
       "5     a      2643\n",
       "6    in      1766\n",
       "7  that      1752\n",
       "8    it      1737\n",
       "9   you      1503"
      ]
     },
     "execution_count": 11,
     "metadata": {},
     "output_type": "execute_result"
    }
   ],
   "source": [
    "# Get the most common words in the document\n",
    "n_words = count_words(word_list, 50)\n",
    "df = pd.DataFrame.from_records(n_words, columns = ['word', 'quantity'])\n",
    "df.head(10)"
   ]
  },
  {
   "cell_type": "code",
   "execution_count": 12,
   "metadata": {},
   "outputs": [
    {
     "data": {
      "image/png": "[encoded data removed]",
      "text/plain": [
       "<Figure size 1296x432 with 1 Axes>"
      ]
     },
     "metadata": {
      "needs_background": "light"
     },
     "output_type": "display_data"
    }
   ],
   "source": [
    "# Plot the most common words in the document\n",
    "fig = plt.figure(figsize = (18, 6))\n",
    "sns.barplot(x = 'word', y = 'quantity', data = df)\n",
    "plt.title('The 50 Most Common Words in document')\n",
    "plt.show()"
   ]
  },
  {
   "cell_type": "markdown",
   "metadata": {},
   "source": [
    "**Stopwords:** refers to the most common words in a language, which do not significantly affect the meaning of the text."
   ]
  },
  {
   "cell_type": "code",
   "execution_count": 13,
   "metadata": {},
   "outputs": [
    {
     "name": "stdout",
     "output_type": "stream",
     "text": [
      "{'call', 'five', 'ca', 'so', 'less', 'there', 'keep', 'herself', 'before', 'could', 'noone', 'nine', 'also', 'off', 'must', 'seem', 'several', 'yet', 'did', 'sometime', 'amount', 'over', 'beyond', 'does', 'not', 'up', 'everyone', 'by', 'against', 'your', 'otherwise', \"n't\", 'around', \"'ll\", 'is', 'rather', 'everything', 're', 'seemed', 'sixty', 'through', 'themselves', 'you', 'being', 'everywhere', 'whom', 'besides', 'been', 'indeed', 'first', 'very', 'since', 'on', 'than', 'meanwhile', 'last', 'thereby', 'still', 'what', 'became', 'from', 'full', 'am', 'each', 'a', 'too', 'of', 'back', 'whence', 'it', 'will', 'again', 'into', 'afterwards', 'former', 'really', 'move', 'were', 'that', 'how', 'next', 'forty', 'moreover', 'twelve', 'whether', 'namely', 'used', 'he', 'own', 'sometimes', 'down', 'get', 'least', 'see', 'eleven', 'we', 'whereupon', 'without', 'have', 'ten', 'either', 'further', 'himself', 'once', 'ours', 'already', 'which', 'beside', '‘m', 'even', 'say', 'all', 'us', 'neither', 'becomes', 'bottom', 'ourselves', 'latter', 'hundred', 'them', 'although', 'wherever', '’ve', 'her', 'throughout', 'yours', 'give', 'the', 'ever', 'should', 'elsewhere', 'go', 'make', 'only', 'towards', 'for', '‘ve', '’s', 'more', 'might', 'perhaps', 'thus', 'if', 'my', 'never', 'third', 'hereby', 'hereafter', 'mine', 'enough', 'hers', 'now', 'herein', 'somehow', 'when', 'one', 'upon', 'as', 'whither', 'anyway', '‘s', 'onto', 'part', 'somewhere', \"'ve\", 'behind', 'itself', 'something', 'anything', 'below', 'hereupon', 'has', 'me', 'anyhow', 'our', 'together', 'and', 'show', 'whose', 'nevertheless', \"'d\", 'whole', 'she', 'few', 'take', 'are', 'fifty', 'an', 'its', 'among', 'though', 'doing', 'under', 'unless', 'at', 'whatever', 'within', 'every', 'they', 'others', 'quite', 'six', 'above', 'top', 'beforehand', 'why', \"'re\", 'whoever', 'had', 'eight', '‘ll', 'any', 'nobody', 'wherein', 'seems', 'where', 'most', 'along', 'three', 'until', 'n‘t', 'such', 'other', 'thence', 'put', 'much', 'nothing', '‘re', 'but', 'however', '’re', 'be', 'fifteen', 'therein', 'yourselves', 'someone', 'between', 'who', 'twenty', 'whereafter', 'always', 'side', 'thereupon', 'anyone', 'well', 'yourself', 'was', 'across', 'out', 'his', 'hence', 'here', 'cannot', 'seeming', 'these', 'thru', 'would', 'do', 'some', 'per', 'while', 'nor', 'becoming', 'front', 'name', 'become', 'just', 'i', 'latterly', 'can', 'none', 'their', 'him', 'due', '‘d', 'no', 'another', 'in', 'myself', 'same', 'except', \"'m\", 'serious', 'therefore', 'formerly', '’m', 'using', 'because', 'after', 'during', 'alone', 'then', 'this', 'made', 'two', 'regarding', 'whenever', 'with', '’d', 'to', 'various', 'whereby', 'amongst', 'both', 'empty', 'may', 'about', 'many', 'done', 'toward', 'mostly', 'often', 'nowhere', 'else', 'please', 'whereas', '’ll', 'four', 'thereafter', 'those', 'via', 'anywhere', 'n’t', \"'s\", 'almost', 'or'}\n"
     ]
    }
   ],
   "source": [
    "# Get English stopwords\n",
    "stopwords_en = en.stop_words.STOP_WORDS\n",
    "print(stopwords_en)"
   ]
  },
  {
   "cell_type": "code",
   "execution_count": 14,
   "metadata": {},
   "outputs": [
    {
     "data": {
      "text/plain": [
       "[['project',\n",
       "  'gutenberg',\n",
       "  'adventures',\n",
       "  'sherlock',\n",
       "  'holmes',\n",
       "  'arthur',\n",
       "  'conan',\n",
       "  'doyle'],\n",
       " ['ebook', 'use', 'cost'],\n",
       " ['restrictions', 'whatsoever'],\n",
       " ['copy', 'away'],\n",
       " ['use', 'terms', 'project', 'gutenberg', 'license', 'included'],\n",
       " ['ebook', 'online', 'www'],\n",
       " ['gutenberg'],\n",
       " ['net'],\n",
       " ['title', 'adventures', 'sherlock', 'holmes'],\n",
       " ['author', 'arthur', 'conan', 'doyle']]"
      ]
     },
     "execution_count": 14,
     "metadata": {},
     "output_type": "execute_result"
    }
   ],
   "source": [
    "# Remove stopwords\n",
    "all_words = []\n",
    "for ix in range(len(word_list)):\n",
    "    all_words.append([word for word in word_list[ix] if (word not in stopwords_en and len(word) > 2)])\n",
    "\n",
    "all_words[:10]"
   ]
  },
  {
   "cell_type": "code",
   "execution_count": 15,
   "metadata": {},
   "outputs": [
    {
     "data": {
      "text/html": [
       "<div>\n",
       "<style scoped>\n",
       "    .dataframe tbody tr th:only-of-type {\n",
       "        vertical-align: middle;\n",
       "    }\n",
       "\n",
       "    .dataframe tbody tr th {\n",
       "        vertical-align: top;\n",
       "    }\n",
       "\n",
       "    .dataframe thead th {\n",
       "        text-align: right;\n",
       "    }\n",
       "</style>\n",
       "<table border=\"1\" class=\"dataframe\">\n",
       "  <thead>\n",
       "    <tr style=\"text-align: right;\">\n",
       "      <th></th>\n",
       "      <th>word</th>\n",
       "      <th>quantity</th>\n",
       "    </tr>\n",
       "  </thead>\n",
       "  <tbody>\n",
       "    <tr>\n",
       "      <th>0</th>\n",
       "      <td>said</td>\n",
       "      <td>486</td>\n",
       "    </tr>\n",
       "    <tr>\n",
       "      <th>1</th>\n",
       "      <td>holmes</td>\n",
       "      <td>465</td>\n",
       "    </tr>\n",
       "    <tr>\n",
       "      <th>2</th>\n",
       "      <td>man</td>\n",
       "      <td>305</td>\n",
       "    </tr>\n",
       "    <tr>\n",
       "      <th>3</th>\n",
       "      <td>little</td>\n",
       "      <td>269</td>\n",
       "    </tr>\n",
       "    <tr>\n",
       "      <th>4</th>\n",
       "      <td>think</td>\n",
       "      <td>174</td>\n",
       "    </tr>\n",
       "    <tr>\n",
       "      <th>5</th>\n",
       "      <td>room</td>\n",
       "      <td>171</td>\n",
       "    </tr>\n",
       "    <tr>\n",
       "      <th>6</th>\n",
       "      <td>know</td>\n",
       "      <td>170</td>\n",
       "    </tr>\n",
       "    <tr>\n",
       "      <th>7</th>\n",
       "      <td>shall</td>\n",
       "      <td>169</td>\n",
       "    </tr>\n",
       "    <tr>\n",
       "      <th>8</th>\n",
       "      <td>come</td>\n",
       "      <td>161</td>\n",
       "    </tr>\n",
       "    <tr>\n",
       "      <th>9</th>\n",
       "      <td>time</td>\n",
       "      <td>151</td>\n",
       "    </tr>\n",
       "  </tbody>\n",
       "</table>\n",
       "</div>"
      ],
      "text/plain": [
       "     word  quantity\n",
       "0    said       486\n",
       "1  holmes       465\n",
       "2     man       305\n",
       "3  little       269\n",
       "4   think       174\n",
       "5    room       171\n",
       "6    know       170\n",
       "7   shall       169\n",
       "8    come       161\n",
       "9    time       151"
      ]
     },
     "execution_count": 15,
     "metadata": {},
     "output_type": "execute_result"
    }
   ],
   "source": [
    "# Get the most common words in the document after removing the stopwords\n",
    "n_words = count_words(all_words, 50)\n",
    "df = pd.DataFrame.from_records(n_words, columns = ['word', 'quantity'])\n",
    "df.head(10)"
   ]
  },
  {
   "cell_type": "code",
   "execution_count": 16,
   "metadata": {},
   "outputs": [
    {
     "data": {
      "image/png": "[encoded data removed]",
      "text/plain": [
       "<Figure size 1296x432 with 1 Axes>"
      ]
     },
     "metadata": {
      "needs_background": "light"
     },
     "output_type": "display_data"
    }
   ],
   "source": [
    "# Plot the most common words in the document after removing the stopwords\n",
    "fig = plt.figure(figsize = (18, 6))\n",
    "sns.barplot(x = 'word', y = 'quantity', data = df)\n",
    "plt.title('The 50 Most Common Words in document')\n",
    "plt.show()"
   ]
  },
  {
   "cell_type": "markdown",
   "metadata": {},
   "source": [
    "### Step 3 - Create a Word to Vector model"
   ]
  },
  {
   "cell_type": "code",
   "execution_count": 17,
   "metadata": {},
   "outputs": [],
   "source": [
    "# Create Word2Vec model\n",
    "w2v_model = Word2Vec(all_words, min_count = 2)"
   ]
  },
  {
   "cell_type": "markdown",
   "metadata": {},
   "source": [
    "**Vocabulary:** unique words of the document."
   ]
  },
  {
   "cell_type": "code",
   "execution_count": 18,
   "metadata": {},
   "outputs": [
    {
     "data": {
      "text/plain": [
       "4072"
      ]
     },
     "execution_count": 18,
     "metadata": {},
     "output_type": "execute_result"
    }
   ],
   "source": [
    "# Show vocabulary size: unique words occurring at least twice\n",
    "vocabulary = w2v_model.wv.vocab  \n",
    "len(vocabulary)"
   ]
  },
  {
   "cell_type": "code",
   "execution_count": 19,
   "metadata": {},
   "outputs": [
    {
     "data": {
      "text/plain": [
       "array([-0.01467479, -0.00216836,  0.00039147,  0.00567486, -0.00597896,\n",
       "        0.01608159, -0.00798611,  0.00727382,  0.00929769,  0.00878421,\n",
       "        0.0022023 ,  0.00469273, -0.01099462, -0.00638215, -0.01166304,\n",
       "       -0.00383408,  0.00551786, -0.0070884 , -0.00507756, -0.00503613,\n",
       "       -0.00555085,  0.00282874,  0.00989789,  0.00931422, -0.00678174,\n",
       "       -0.00243331,  0.0010269 ,  0.0187093 ,  0.00382969, -0.00173237,\n",
       "       -0.01044954,  0.00472282,  0.00356659, -0.00633096, -0.0014559 ,\n",
       "        0.00444903, -0.00344966,  0.00213398,  0.01185403, -0.00310317,\n",
       "       -0.00771018,  0.01789459, -0.00973135, -0.0089517 , -0.00318657,\n",
       "       -0.00255474,  0.01102811,  0.00059813,  0.00540577,  0.0063176 ,\n",
       "        0.00820897,  0.00164396, -0.00258944, -0.00268591, -0.00130677,\n",
       "        0.00767146,  0.00845911,  0.00317492, -0.00162909,  0.022291  ,\n",
       "        0.0070375 ,  0.00067887,  0.00527446,  0.00591932, -0.00106469,\n",
       "       -0.00399684, -0.00241317, -0.00145554,  0.0008032 , -0.00667436,\n",
       "       -0.00413199, -0.00270405, -0.00432648,  0.00491863,  0.0072598 ,\n",
       "        0.01020655,  0.0065215 ,  0.00361633,  0.00117562, -0.00294965,\n",
       "        0.00404407, -0.01157273,  0.0132661 , -0.00949921, -0.00032099,\n",
       "       -0.01320204,  0.00593339, -0.0034752 , -0.01054006,  0.00833228,\n",
       "       -0.00873529, -0.00815246,  0.01159316, -0.00292272, -0.00069727,\n",
       "       -0.00532422,  0.00793222, -0.00941018,  0.0044024 ,  0.01377956],\n",
       "      dtype=float32)"
      ]
     },
     "execution_count": 19,
     "metadata": {},
     "output_type": "execute_result"
    }
   ],
   "source": [
    "# Show 'project' vector\n",
    "w2v_model.wv['sherlock']"
   ]
  },
  {
   "cell_type": "markdown",
   "metadata": {},
   "source": [
    "**Similar Words:** Words more similar in terms of meaning and context."
   ]
  },
  {
   "cell_type": "code",
   "execution_count": 20,
   "metadata": {},
   "outputs": [
    {
     "data": {
      "text/plain": [
       "[('room', 0.8806626796722412),\n",
       " ('door', 0.8754186630249023),\n",
       " ('said', 0.8737464547157288),\n",
       " ('long', 0.869830310344696),\n",
       " ('like', 0.8687624931335449)]"
      ]
     },
     "execution_count": 20,
     "metadata": {},
     "output_type": "execute_result"
    }
   ],
   "source": [
    "# Finding Positive Similar Words\n",
    "w2v_model.wv.most_similar(positive = ['sherlock'], topn = 5)"
   ]
  },
  {
   "cell_type": "code",
   "execution_count": 21,
   "metadata": {},
   "outputs": [
    {
     "data": {
      "text/plain": [
       "[('charged', 0.32266801595687866),\n",
       " ('regard', 0.29572343826293945),\n",
       " ('resolve', 0.2882733941078186),\n",
       " ('holes', 0.25684666633605957),\n",
       " ('avert', 0.25608131289482117)]"
      ]
     },
     "execution_count": 21,
     "metadata": {},
     "output_type": "execute_result"
    }
   ],
   "source": [
    "# Finding Negative Similar Words\n",
    "w2v_model.wv.most_similar(negative = ['sherlock'], topn = 5)"
   ]
  },
  {
   "cell_type": "code",
   "execution_count": 22,
   "metadata": {},
   "outputs": [
    {
     "data": {
      "text/plain": [
       "0.8002446191837953"
      ]
     },
     "execution_count": 22,
     "metadata": {},
     "output_type": "execute_result"
    }
   ],
   "source": [
    "# Calculate the similarity between 2 words\n",
    "w2v_model.wv.similarity(w1 = 'sherlock', w2 = 'watson')"
   ]
  },
  {
   "cell_type": "code",
   "execution_count": 23,
   "metadata": {},
   "outputs": [
    {
     "data": {
      "text/plain": [
       "'sherlock'"
      ]
     },
     "execution_count": 23,
     "metadata": {},
     "output_type": "execute_result"
    }
   ],
   "source": [
    "# Show word that doesn't belong to the list\n",
    "w2v_model.wv.doesnt_match(['sherlock', 'watson', 'woman'])"
   ]
  },
  {
   "cell_type": "markdown",
   "metadata": {},
   "source": [
    "## Step 4 - Plot similars words"
   ]
  },
  {
   "cell_type": "code",
   "execution_count": 24,
   "metadata": {},
   "outputs": [],
   "source": [
    "# Get vectors\n",
    "target_word = 'sherlock'\n",
    "top_n = 50\n",
    "\n",
    "most_similar = w2v_model.wv.most_similar(positive = [target_word], topn = top_n)\n",
    "most_similar.append((target_word, 1))\n",
    "most_sim_word = [row[0] for row in most_similar]\n",
    "X = w2v_model[most_sim_word]"
   ]
  },
  {
   "cell_type": "code",
   "execution_count": 25,
   "metadata": {},
   "outputs": [],
   "source": [
    "# Perform PCA with 2 components\n",
    "pca = PCA(n_components = 2)\n",
    "pca_data = pca.fit_transform(X)"
   ]
  },
  {
   "cell_type": "code",
   "execution_count": 26,
   "metadata": {},
   "outputs": [
    {
     "data": {
      "text/html": [
       "<div>\n",
       "<style scoped>\n",
       "    .dataframe tbody tr th:only-of-type {\n",
       "        vertical-align: middle;\n",
       "    }\n",
       "\n",
       "    .dataframe tbody tr th {\n",
       "        vertical-align: top;\n",
       "    }\n",
       "\n",
       "    .dataframe thead th {\n",
       "        text-align: right;\n",
       "    }\n",
       "</style>\n",
       "<table border=\"1\" class=\"dataframe\">\n",
       "  <thead>\n",
       "    <tr style=\"text-align: right;\">\n",
       "      <th></th>\n",
       "      <th>PC1</th>\n",
       "      <th>PC2</th>\n",
       "      <th>name</th>\n",
       "    </tr>\n",
       "  </thead>\n",
       "  <tbody>\n",
       "    <tr>\n",
       "      <th>0</th>\n",
       "      <td>0.031587</td>\n",
       "      <td>0.002570</td>\n",
       "      <td>room</td>\n",
       "    </tr>\n",
       "    <tr>\n",
       "      <th>1</th>\n",
       "      <td>0.033388</td>\n",
       "      <td>-0.001691</td>\n",
       "      <td>door</td>\n",
       "    </tr>\n",
       "    <tr>\n",
       "      <th>2</th>\n",
       "      <td>0.069329</td>\n",
       "      <td>-0.004825</td>\n",
       "      <td>said</td>\n",
       "    </tr>\n",
       "    <tr>\n",
       "      <th>3</th>\n",
       "      <td>0.008197</td>\n",
       "      <td>0.003427</td>\n",
       "      <td>long</td>\n",
       "    </tr>\n",
       "    <tr>\n",
       "      <th>4</th>\n",
       "      <td>0.006437</td>\n",
       "      <td>-0.001654</td>\n",
       "      <td>like</td>\n",
       "    </tr>\n",
       "    <tr>\n",
       "      <th>5</th>\n",
       "      <td>0.069256</td>\n",
       "      <td>-0.003471</td>\n",
       "      <td>man</td>\n",
       "    </tr>\n",
       "    <tr>\n",
       "      <th>6</th>\n",
       "      <td>0.004485</td>\n",
       "      <td>0.005448</td>\n",
       "      <td>shall</td>\n",
       "    </tr>\n",
       "    <tr>\n",
       "      <th>7</th>\n",
       "      <td>-0.004658</td>\n",
       "      <td>0.000901</td>\n",
       "      <td>come</td>\n",
       "    </tr>\n",
       "    <tr>\n",
       "      <th>8</th>\n",
       "      <td>0.019813</td>\n",
       "      <td>-0.001529</td>\n",
       "      <td>time</td>\n",
       "    </tr>\n",
       "    <tr>\n",
       "      <th>9</th>\n",
       "      <td>0.016940</td>\n",
       "      <td>0.001248</td>\n",
       "      <td>miss</td>\n",
       "    </tr>\n",
       "  </tbody>\n",
       "</table>\n",
       "</div>"
      ],
      "text/plain": [
       "        PC1       PC2   name\n",
       "0  0.031587  0.002570   room\n",
       "1  0.033388 -0.001691   door\n",
       "2  0.069329 -0.004825   said\n",
       "3  0.008197  0.003427   long\n",
       "4  0.006437 -0.001654   like\n",
       "5  0.069256 -0.003471    man\n",
       "6  0.004485  0.005448  shall\n",
       "7 -0.004658  0.000901   come\n",
       "8  0.019813 -0.001529   time\n",
       "9  0.016940  0.001248   miss"
      ]
     },
     "execution_count": 26,
     "metadata": {},
     "output_type": "execute_result"
    }
   ],
   "source": [
    "# Create and show principal components DataFrame\n",
    "pca_df = pd.DataFrame(data = pca_data, columns = [\"PC1\", \"PC2\"])\n",
    "pca_df['name'] = most_sim_word\n",
    "pca_df.head(10)"
   ]
  },
  {
   "cell_type": "code",
   "execution_count": 27,
   "metadata": {},
   "outputs": [
    {
     "data": {
      "image/png": "[encoded data removed]",
      "text/plain": [
       "<Figure size 1152x1152 with 1 Axes>"
      ]
     },
     "metadata": {
      "needs_background": "light"
     },
     "output_type": "display_data"
    }
   ],
   "source": [
    "# Create a scatter plot of the projection\n",
    "fig, ax = plt.subplots(figsize = (16, 16))\n",
    "gap = 0.001\n",
    "\n",
    "# Add points one by one with a loop\n",
    "for i, word in enumerate(most_sim_word):\n",
    "    if word == target_word:\n",
    "        plt.scatter(pca_data[i, 0], pca_data[i, 1], c = 'b', s=50)\n",
    "        text = word.upper()\n",
    "    else:\n",
    "        plt.scatter(pca_data[i, 0], pca_data[i, 1], c = 'g', s=20)\n",
    "        text = word + ': ' + str(round(most_similar[i][1], 3))\n",
    "    plt.annotate(text, xy = (pca_data[i, 0] + gap, pca_data[i, 1] - gap/4))\n",
    "\n",
    "# Plot setup\n",
    "ax.set_xlabel(\"PC 1\", fontsize = 12)\n",
    "ax.set_ylabel(\"PC 2\", fontsize = 12)\n",
    "ax.set_title(\"50 Most Similar Words to \" + target_word, fontsize = 20)\n",
    "ax.legend([\"Similar Words\"])\n",
    "ax.grid()"
   ]
  },
  {
   "cell_type": "markdown",
   "metadata": {},
   "source": [
    "<hr>\n",
    "<p><a href=\"https://ansegura7.github.io/NLP/\">« Home</a></p>"
   ]
  }
 ],
 "metadata": {
  "kernelspec": {
   "display_name": "Python 3",
   "language": "python",
   "name": "python3"
  },
  "language_info": {
   "codemirror_mode": {
    "name": "ipython",
    "version": 3
   },
   "file_extension": ".py",
   "mimetype": "text/x-python",
   "name": "python",
   "nbconvert_exporter": "python",
   "pygments_lexer": "ipython3",
   "version": "3.6.8"
  }
 },
 "nbformat": 4,
 "nbformat_minor": 2
}
