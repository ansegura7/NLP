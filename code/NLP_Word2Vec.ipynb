{
 "cells": [
  {
   "cell_type": "markdown",
   "metadata": {},
   "source": [
    "# NLP - Word Embedding"
   ]
  },
  {
   "cell_type": "markdown",
   "metadata": {},
   "source": [
    "- **Created by Andrés Segura Tinoco**\n",
    "- **Created on June 09, 2019**"
   ]
  },
  {
   "cell_type": "markdown",
   "metadata": {},
   "source": [
    "**Word Embedding:** is the collective name for a set of language modeling and feature learning techniques in natural language processing (NLP) where words or phrases from the vocabulary are mapped to vectors of real numbers. Conceptually it involves a mathematical embedding from a space with many dimensions per word to a continuous vector space with a much lower dimension. <a href='https://en.wikipedia.org/wiki/Word_embedding' target='_blank'>Source</a>\n",
    "\n",
    "**Gensim** is a Python library for topic modelling, document indexing and similarity retrieval with large corpora. Target audience is the natural language processing (NLP) and information retrieval (IR) community."
   ]
  },
  {
   "cell_type": "markdown",
   "metadata": {},
   "source": [
    "## Example with a document in English"
   ]
  },
  {
   "cell_type": "code",
   "execution_count": 1,
   "metadata": {},
   "outputs": [],
   "source": [
    "# Load Python libraries\n",
    "import io\n",
    "import re\n",
    "import pandas as pd\n",
    "from scipy.spatial import distance\n",
    "from collections import Counter\n",
    "from sklearn.decomposition import PCA\n",
    "import warnings\n",
    "warnings.filterwarnings('ignore')"
   ]
  },
  {
   "cell_type": "code",
   "execution_count": 2,
   "metadata": {},
   "outputs": [],
   "source": [
    "# Load NLP libraries from gensim and spacy\n",
    "from gensim.models import Word2Vec\n",
    "import spacy.lang.en as en"
   ]
  },
  {
   "cell_type": "code",
   "execution_count": 3,
   "metadata": {},
   "outputs": [],
   "source": [
    "# Load Plot libraries\n",
    "import seaborn as sns\n",
    "import matplotlib.pyplot as plt"
   ]
  },
  {
   "cell_type": "markdown",
   "metadata": {},
   "source": [
    "### Step 1 - Read natural text from a book"
   ]
  },
  {
   "cell_type": "code",
   "execution_count": 4,
   "metadata": {},
   "outputs": [],
   "source": [
    "# Util function to read a plain text file\n",
    "def read_text_file(file_path):\n",
    "    text = \"\"\n",
    "    with io.open(file_path, 'r', encoding = 'ISO-8859-1') as f:\n",
    "        text = f.read()\n",
    "    \n",
    "    return text;"
   ]
  },
  {
   "cell_type": "code",
   "execution_count": 5,
   "metadata": {},
   "outputs": [
    {
     "data": {
      "text/plain": [
       "576467"
      ]
     },
     "execution_count": 5,
     "metadata": {},
     "output_type": "execute_result"
    }
   ],
   "source": [
    "# Get text sample\n",
    "file_path = \"../data/en/The Adventures of Sherlock Holmes - Arthur Conan Doyle.txt\"\n",
    "plain_text = read_text_file(file_path)\n",
    "len(plain_text)"
   ]
  },
  {
   "cell_type": "code",
   "execution_count": 6,
   "metadata": {},
   "outputs": [
    {
     "data": {
      "text/plain": [
       "\"\\nProject Gutenberg's The Adventures of Sherlock Holmes, by Arthur Conan Doyle\\n\\nThis eBook is for the use of anyone anywhere at no cost and with\\nalmost no restrictions whatsoever.  You may copy it, give it away or\\nre-use it under the terms of the Project Gutenberg License included\\nwith this eBook or online at www.gutenberg.net\\n\\n\\nTitle: The Adventures of Sherlock Holmes\\n\\nAuthor: Arthur Conan Doyle\\n\\nRelease Date: November 29, 2002 [EBook #1661]\\nLast Updated: May 20, 2019\\n\\nLanguage: English\\n\\nCharacter set encoding: UTF-8\\n\\n*** START OF THIS PROJECT GUTENBERG EBOOK THE ADVENTURES OF SHERLOCK HOLMES ***\\n\\n\\n\\nProduced by an anonymous Project Gutenberg volunteer and Jose Menendez\\n\\n\\n\\ncover\\n\\n\\n\\nThe Adventures of Sherlock Holmes\\n\\n\\n\\nby Arthur Conan Doyle\\n\\n\\n\\nContents\\n\\n\\n   I.     A Scandal in Bohemia\\n   II.    The Red-Headed League\\n   III.   A Case of Identity\\n   IV.    The Boscombe Valley Mystery\\n   V.     The Five Orange Pips\\n   VI.    The Man with the Twisted Lip\\n   VII.   The Adventure of the Blue C\""
      ]
     },
     "execution_count": 6,
     "metadata": {},
     "output_type": "execute_result"
    }
   ],
   "source": [
    "# Show first 1000 characters of document\n",
    "plain_text[:1000]"
   ]
  },
  {
   "cell_type": "markdown",
   "metadata": {},
   "source": [
    "### Step 2 - Tokenize and remove Stopwords"
   ]
  },
  {
   "cell_type": "markdown",
   "metadata": {},
   "source": [
    "**Data Quality process:** refers to the cleaning process of input data so they have meaning and value."
   ]
  },
  {
   "cell_type": "code",
   "execution_count": 7,
   "metadata": {},
   "outputs": [
    {
     "data": {
      "text/plain": [
       "'.project gutenberg s the adventures of sherlock holmes by arthur conan doyle.this ebook is for the use of anyone anywhere at no cost and with.almost no restrictions whatsoever. you may copy it give it away or.re use it under the terms of the project gutenberg license included.with this ebook or online at www.gutenberg.net.title the adventures of sherlock holmes.author arthur conan doyle.release date november ebook .last updated may .language english.character set encoding utf . start of this project gutenberg ebook the adventures of sherlock holmes .produced by an anonymous project gutenberg volunteer and jose menendez.cover.the adventures of sherlock holmes.by arthur conan doyle.contents. i. a scandal in bohemia. ii. the red headed league. iii. a case of identity. iv. the boscombe valley mystery. v. the five orange pips. vi. the man with the twisted lip. vii. the adventure of the blue carbuncle. viii. the adventure of the speckled band. ix. the adventure of the engineer s thumb. x. th'"
      ]
     },
     "execution_count": 7,
     "metadata": {},
     "output_type": "execute_result"
    }
   ],
   "source": [
    "# Cleaing the text\n",
    "clean_text = plain_text.lower()\n",
    "clean_text = clean_text.replace('\\n', '.')\n",
    "clean_text = re.sub('[^a-zA-Z.]', ' ', clean_text)\n",
    "clean_text = re.sub(r'\\s+', ' ', clean_text)\n",
    "clean_text = re.sub(r'\\.+', \".\", clean_text)\n",
    "clean_text[:1000]"
   ]
  },
  {
   "cell_type": "code",
   "execution_count": 8,
   "metadata": {},
   "outputs": [
    {
     "data": {
      "text/plain": [
       "14592"
      ]
     },
     "execution_count": 8,
     "metadata": {},
     "output_type": "execute_result"
    }
   ],
   "source": [
    "# Tokenize text in sentences\n",
    "sentence_list = clean_text.split('.')\n",
    "len(sentence_list)"
   ]
  },
  {
   "cell_type": "code",
   "execution_count": 9,
   "metadata": {},
   "outputs": [
    {
     "data": {
      "text/plain": [
       "[['project',\n",
       "  'gutenberg',\n",
       "  's',\n",
       "  'the',\n",
       "  'adventures',\n",
       "  'of',\n",
       "  'sherlock',\n",
       "  'holmes',\n",
       "  'by',\n",
       "  'arthur',\n",
       "  'conan',\n",
       "  'doyle'],\n",
       " ['this',\n",
       "  'ebook',\n",
       "  'is',\n",
       "  'for',\n",
       "  'the',\n",
       "  'use',\n",
       "  'of',\n",
       "  'anyone',\n",
       "  'anywhere',\n",
       "  'at',\n",
       "  'no',\n",
       "  'cost',\n",
       "  'and',\n",
       "  'with'],\n",
       " ['almost', 'no', 'restrictions', 'whatsoever'],\n",
       " ['you', 'may', 'copy', 'it', 'give', 'it', 'away', 'or'],\n",
       " ['re',\n",
       "  'use',\n",
       "  'it',\n",
       "  'under',\n",
       "  'the',\n",
       "  'terms',\n",
       "  'of',\n",
       "  'the',\n",
       "  'project',\n",
       "  'gutenberg',\n",
       "  'license',\n",
       "  'included'],\n",
       " ['with', 'this', 'ebook', 'or', 'online', 'at', 'www'],\n",
       " ['gutenberg'],\n",
       " ['net'],\n",
       " ['title', 'the', 'adventures', 'of', 'sherlock', 'holmes'],\n",
       " ['author', 'arthur', 'conan', 'doyle']]"
      ]
     },
     "execution_count": 9,
     "metadata": {},
     "output_type": "execute_result"
    }
   ],
   "source": [
    "# Tokenize sentences in words\n",
    "word_list = [sentence.split() for sentence in sentence_list if len(sentence.split()) > 0]\n",
    "word_list[:10]"
   ]
  },
  {
   "cell_type": "code",
   "execution_count": 10,
   "metadata": {},
   "outputs": [],
   "source": [
    "# Count the words in a document and return the most N repeated\n",
    "def count_words(sentences, n):\n",
    "    words = Counter()\n",
    "    \n",
    "    for sent in sentences:\n",
    "        for word in sent:\n",
    "            words[word] += 1\n",
    "    \n",
    "    return words.most_common(n)"
   ]
  },
  {
   "cell_type": "code",
   "execution_count": 11,
   "metadata": {},
   "outputs": [
    {
     "data": {
      "text/html": [
       "<div>\n",
       "<style scoped>\n",
       "    .dataframe tbody tr th:only-of-type {\n",
       "        vertical-align: middle;\n",
       "    }\n",
       "\n",
       "    .dataframe tbody tr th {\n",
       "        vertical-align: top;\n",
       "    }\n",
       "\n",
       "    .dataframe thead th {\n",
       "        text-align: right;\n",
       "    }\n",
       "</style>\n",
       "<table border=\"1\" class=\"dataframe\">\n",
       "  <thead>\n",
       "    <tr style=\"text-align: right;\">\n",
       "      <th></th>\n",
       "      <th>word</th>\n",
       "      <th>quantity</th>\n",
       "    </tr>\n",
       "  </thead>\n",
       "  <tbody>\n",
       "    <tr>\n",
       "      <th>0</th>\n",
       "      <td>the</td>\n",
       "      <td>5636</td>\n",
       "    </tr>\n",
       "    <tr>\n",
       "      <th>1</th>\n",
       "      <td>i</td>\n",
       "      <td>3038</td>\n",
       "    </tr>\n",
       "    <tr>\n",
       "      <th>2</th>\n",
       "      <td>and</td>\n",
       "      <td>3020</td>\n",
       "    </tr>\n",
       "    <tr>\n",
       "      <th>3</th>\n",
       "      <td>to</td>\n",
       "      <td>2744</td>\n",
       "    </tr>\n",
       "    <tr>\n",
       "      <th>4</th>\n",
       "      <td>of</td>\n",
       "      <td>2661</td>\n",
       "    </tr>\n",
       "    <tr>\n",
       "      <th>5</th>\n",
       "      <td>a</td>\n",
       "      <td>2643</td>\n",
       "    </tr>\n",
       "    <tr>\n",
       "      <th>6</th>\n",
       "      <td>in</td>\n",
       "      <td>1766</td>\n",
       "    </tr>\n",
       "    <tr>\n",
       "      <th>7</th>\n",
       "      <td>that</td>\n",
       "      <td>1752</td>\n",
       "    </tr>\n",
       "    <tr>\n",
       "      <th>8</th>\n",
       "      <td>it</td>\n",
       "      <td>1737</td>\n",
       "    </tr>\n",
       "    <tr>\n",
       "      <th>9</th>\n",
       "      <td>you</td>\n",
       "      <td>1503</td>\n",
       "    </tr>\n",
       "  </tbody>\n",
       "</table>\n",
       "</div>"
      ],
      "text/plain": [
       "   word  quantity\n",
       "0   the      5636\n",
       "1     i      3038\n",
       "2   and      3020\n",
       "3    to      2744\n",
       "4    of      2661\n",
       "5     a      2643\n",
       "6    in      1766\n",
       "7  that      1752\n",
       "8    it      1737\n",
       "9   you      1503"
      ]
     },
     "execution_count": 11,
     "metadata": {},
     "output_type": "execute_result"
    }
   ],
   "source": [
    "# Get the most common words in the document\n",
    "n_words = count_words(word_list, 50)\n",
    "df = pd.DataFrame.from_records(n_words, columns = ['word', 'quantity'])\n",
    "df.head(10)"
   ]
  },
  {
   "cell_type": "code",
   "execution_count": 12,
   "metadata": {},
   "outputs": [
    {
     "data": {
      "image/png": "[encoded data removed]",
      "text/plain": [
       "<Figure size 1296x432 with 1 Axes>"
      ]
     },
     "metadata": {
      "needs_background": "light"
     },
     "output_type": "display_data"
    }
   ],
   "source": [
    "# Plot the most common words in the document\n",
    "fig = plt.figure(figsize = (18, 6))\n",
    "sns.barplot(x = 'word', y = 'quantity', data = df)\n",
    "plt.title('The 50 Most Common Words in document')\n",
    "plt.show()"
   ]
  },
  {
   "cell_type": "markdown",
   "metadata": {},
   "source": [
    "**- Stopwords:** refers to the most common words in a language, which do not significantly affect the meaning of the text."
   ]
  },
  {
   "cell_type": "code",
   "execution_count": 13,
   "metadata": {},
   "outputs": [
    {
     "name": "stdout",
     "output_type": "stream",
     "text": [
      "{'seem', 'becoming', 'beside', 'until', 'same', 'therein', 'too', 'anyhow', 'been', '’re', 'name', 'mostly', 'more', 'seeming', 'empty', 'your', 'own', 'these', 'via', 'bottom', 'my', 'ourselves', 'nine', 'each', 'at', 'for', 'on', 'together', 'would', 'six', 'whither', \"'ll\", 'onto', 'otherwise', 'anything', 'something', 'then', 'hers', 'most', 'few', 'please', 'third', 'whatever', 'have', 'such', \"'ve\", 'else', 'it', 'meanwhile', 'several', 'ten', 'former', 'now', 'there', 'done', 'nothing', 'per', 'side', 'across', 'him', 'never', 'who', 'mine', 'doing', 'its', '’ll', 'wherever', 'did', 'very', '‘m', '‘s', 'they', 'due', 'towards', 'give', 'her', 'keep', 'were', 'above', 'should', 'among', 'beyond', 'twelve', 'through', 'whole', 'rather', 'does', 'four', 'either', 'well', 'however', 'quite', 'an', 'before', 'much', 'thereafter', 'without', 'n’t', 'move', 'not', 'further', 'or', \"n't\", 'if', 'less', 'hereby', '’m', 'you', '‘ve', 'five', 'elsewhere', 'am', 'latterly', 'take', 'that', 'under', 'over', 'wherein', 'after', 'up', 'is', 'whence', 'will', '‘ll', 'herself', '‘re', 'call', 'against', 'might', 'again', '‘d', 'here', 'do', 'anyway', 'from', 'below', 'has', 'two', 'became', 'another', 'cannot', 'yourselves', 'could', 'unless', 'used', 'formerly', 'every', 'eight', 'therefore', 'whoever', 'us', 'anyone', 'both', 'since', 'three', 'when', 'whereby', \"'s\", 'ever', 'twenty', 'anywhere', 'ours', 'put', 'because', 'yours', 'myself', 'part', 'his', 'but', 'last', 'what', 'our', 'already', 'others', 'hence', 'seemed', 'we', 'whereas', 'everyone', 'along', 'throughout', 'around', 'becomes', 'about', \"'m\", 'latter', 'had', 'seems', 'thence', 'to', 'yourself', 'upon', 'also', 'all', 'can', 'using', 'show', 'herein', 'someone', 'whereupon', 'may', 'just', 'only', 'amount', 'none', 're', 'as', 'out', 'always', 'serious', 'nevertheless', 'no', 'so', 'somehow', 'them', 'everywhere', 'whose', '’s', 'himself', 'eleven', 'off', 'thus', 'behind', 'whenever', 'n‘t', 'often', 'get', 'somewhere', 'into', '’d', 'neither', 'itself', 'being', 'must', 'namely', 'hereafter', 'themselves', 'during', 'he', 'many', 'she', 'within', 'say', 'perhaps', 'be', 'how', 'except', 'enough', 'ca', 'i', 'become', 'nor', 'of', 'first', 'though', 'whether', 'alone', 'while', 'amongst', 'once', 'really', 'why', 'everything', 'moreover', 'yet', 'with', 'are', 'the', 'even', 'afterwards', 'see', 'full', 'go', 'nowhere', 'whom', 'sometime', 'regarding', 'between', 'next', 'whereafter', 'thereby', 'hundred', 'almost', 'besides', 'fifty', 'nobody', 'make', 'indeed', 'me', 'than', 'sometimes', 'thereupon', 'top', '’ve', 'although', 'a', 'in', 'by', 'thru', 'some', 'beforehand', 'toward', 'noone', 'was', 'made', 'other', 'various', \"'re\", 'and', 'down', 'sixty', 'any', 'back', 'fifteen', 'those', 'hereupon', 'where', 'one', 'least', 'still', 'which', 'front', 'forty', \"'d\", 'their', 'this'}\n"
     ]
    }
   ],
   "source": [
    "# Get English stopwords\n",
    "stopwords_en = en.stop_words.STOP_WORDS\n",
    "print(stopwords_en)"
   ]
  },
  {
   "cell_type": "code",
   "execution_count": 14,
   "metadata": {},
   "outputs": [
    {
     "data": {
      "text/plain": [
       "[['project',\n",
       "  'gutenberg',\n",
       "  'adventures',\n",
       "  'sherlock',\n",
       "  'holmes',\n",
       "  'arthur',\n",
       "  'conan',\n",
       "  'doyle'],\n",
       " ['ebook', 'use', 'cost'],\n",
       " ['restrictions', 'whatsoever'],\n",
       " ['copy', 'away'],\n",
       " ['use', 'terms', 'project', 'gutenberg', 'license', 'included'],\n",
       " ['ebook', 'online', 'www'],\n",
       " ['gutenberg'],\n",
       " ['net'],\n",
       " ['title', 'adventures', 'sherlock', 'holmes'],\n",
       " ['author', 'arthur', 'conan', 'doyle']]"
      ]
     },
     "execution_count": 14,
     "metadata": {},
     "output_type": "execute_result"
    }
   ],
   "source": [
    "# Remove stopwords\n",
    "all_words = []\n",
    "for ix in range(len(word_list)):\n",
    "    all_words.append([word for word in word_list[ix] if (word not in stopwords_en and len(word) > 2)])\n",
    "\n",
    "all_words[:10]"
   ]
  },
  {
   "cell_type": "code",
   "execution_count": 15,
   "metadata": {},
   "outputs": [
    {
     "data": {
      "text/html": [
       "<div>\n",
       "<style scoped>\n",
       "    .dataframe tbody tr th:only-of-type {\n",
       "        vertical-align: middle;\n",
       "    }\n",
       "\n",
       "    .dataframe tbody tr th {\n",
       "        vertical-align: top;\n",
       "    }\n",
       "\n",
       "    .dataframe thead th {\n",
       "        text-align: right;\n",
       "    }\n",
       "</style>\n",
       "<table border=\"1\" class=\"dataframe\">\n",
       "  <thead>\n",
       "    <tr style=\"text-align: right;\">\n",
       "      <th></th>\n",
       "      <th>word</th>\n",
       "      <th>quantity</th>\n",
       "    </tr>\n",
       "  </thead>\n",
       "  <tbody>\n",
       "    <tr>\n",
       "      <th>0</th>\n",
       "      <td>said</td>\n",
       "      <td>486</td>\n",
       "    </tr>\n",
       "    <tr>\n",
       "      <th>1</th>\n",
       "      <td>holmes</td>\n",
       "      <td>465</td>\n",
       "    </tr>\n",
       "    <tr>\n",
       "      <th>2</th>\n",
       "      <td>man</td>\n",
       "      <td>305</td>\n",
       "    </tr>\n",
       "    <tr>\n",
       "      <th>3</th>\n",
       "      <td>little</td>\n",
       "      <td>269</td>\n",
       "    </tr>\n",
       "    <tr>\n",
       "      <th>4</th>\n",
       "      <td>think</td>\n",
       "      <td>174</td>\n",
       "    </tr>\n",
       "    <tr>\n",
       "      <th>5</th>\n",
       "      <td>room</td>\n",
       "      <td>171</td>\n",
       "    </tr>\n",
       "    <tr>\n",
       "      <th>6</th>\n",
       "      <td>know</td>\n",
       "      <td>170</td>\n",
       "    </tr>\n",
       "    <tr>\n",
       "      <th>7</th>\n",
       "      <td>shall</td>\n",
       "      <td>169</td>\n",
       "    </tr>\n",
       "    <tr>\n",
       "      <th>8</th>\n",
       "      <td>come</td>\n",
       "      <td>161</td>\n",
       "    </tr>\n",
       "    <tr>\n",
       "      <th>9</th>\n",
       "      <td>time</td>\n",
       "      <td>151</td>\n",
       "    </tr>\n",
       "  </tbody>\n",
       "</table>\n",
       "</div>"
      ],
      "text/plain": [
       "     word  quantity\n",
       "0    said       486\n",
       "1  holmes       465\n",
       "2     man       305\n",
       "3  little       269\n",
       "4   think       174\n",
       "5    room       171\n",
       "6    know       170\n",
       "7   shall       169\n",
       "8    come       161\n",
       "9    time       151"
      ]
     },
     "execution_count": 15,
     "metadata": {},
     "output_type": "execute_result"
    }
   ],
   "source": [
    "# Get the most common words in the document after removing the stopwords\n",
    "n_words = count_words(all_words, 50)\n",
    "df = pd.DataFrame.from_records(n_words, columns = ['word', 'quantity'])\n",
    "df.head(10)"
   ]
  },
  {
   "cell_type": "code",
   "execution_count": 16,
   "metadata": {},
   "outputs": [
    {
     "data": {
      "image/png": "[encoded data removed]",
      "text/plain": [
       "<Figure size 1296x432 with 1 Axes>"
      ]
     },
     "metadata": {
      "needs_background": "light"
     },
     "output_type": "display_data"
    }
   ],
   "source": [
    "# Plot the most common words in the document after removing the stopwords\n",
    "fig = plt.figure(figsize = (18, 6))\n",
    "sns.barplot(x = 'word', y = 'quantity', data = df)\n",
    "plt.title('The 50 Most Common Words in document')\n",
    "plt.show()"
   ]
  },
  {
   "cell_type": "markdown",
   "metadata": {},
   "source": [
    "### Step 3 - Create a Word-to-Vector model"
   ]
  },
  {
   "cell_type": "code",
   "execution_count": 17,
   "metadata": {},
   "outputs": [],
   "source": [
    "# Create Word2Vec model\n",
    "w2v_model = Word2Vec(all_words, min_count = 2)"
   ]
  },
  {
   "cell_type": "markdown",
   "metadata": {},
   "source": [
    "**- Vocabulary:** unique words of the document."
   ]
  },
  {
   "cell_type": "code",
   "execution_count": 18,
   "metadata": {},
   "outputs": [
    {
     "data": {
      "text/plain": [
       "4072"
      ]
     },
     "execution_count": 18,
     "metadata": {},
     "output_type": "execute_result"
    }
   ],
   "source": [
    "# Show vocabulary size: unique words occurring at least twice\n",
    "vocabulary = w2v_model.wv.vocab  \n",
    "len(vocabulary)"
   ]
  },
  {
   "cell_type": "code",
   "execution_count": 19,
   "metadata": {},
   "outputs": [
    {
     "data": {
      "text/plain": [
       "array([-1.95774087e-03,  5.45008574e-04, -5.36016515e-03, -1.41284277e-03,\n",
       "        2.62685935e-03,  8.12819600e-03,  8.52115452e-03, -1.58125930e-03,\n",
       "        5.53734973e-03, -6.71063364e-03,  1.13946972e-02, -1.75952557e-02,\n",
       "       -4.59699333e-03, -9.71254776e-04,  1.42715988e-03, -5.19265421e-03,\n",
       "       -1.05831549e-02, -5.03211003e-03,  6.52023917e-03,  3.11451405e-03,\n",
       "        1.35433711e-02, -1.40895869e-03, -5.37370425e-03, -2.34250980e-03,\n",
       "       -1.12835625e-02,  1.29198665e-02, -1.12104388e-02, -7.92979356e-03,\n",
       "        8.56461655e-03,  2.86788796e-03, -6.05228823e-03,  6.08210685e-03,\n",
       "       -1.69139195e-04,  9.92685091e-03, -7.42527423e-03,  3.26692418e-04,\n",
       "        2.82715959e-03, -1.09534618e-02, -7.78683054e-04,  1.34390425e-02,\n",
       "       -3.23071983e-03, -5.25716052e-04,  1.53128779e-03,  2.72430433e-03,\n",
       "       -6.10797154e-03, -1.00251567e-02, -1.17613934e-03,  2.63145356e-03,\n",
       "       -1.03976680e-02,  6.34409720e-03, -8.09322018e-03, -8.71573295e-03,\n",
       "       -1.13990987e-02,  2.39455258e-03, -6.27448258e-04,  1.11521957e-02,\n",
       "        6.43539999e-04, -2.19716283e-04, -1.22312820e-02, -8.49934854e-03,\n",
       "        1.14691386e-03, -1.92924996e-03, -1.72681902e-02,  1.65396482e-02,\n",
       "       -3.87336989e-03,  1.24050388e-02, -1.05963007e-03, -2.77499040e-03,\n",
       "       -1.26692536e-03,  1.38406293e-03, -1.53232412e-03,  1.34655309e-03,\n",
       "       -6.04132609e-03, -3.25019471e-03, -7.14230351e-03, -3.56887165e-03,\n",
       "       -1.03934146e-02,  7.55918794e-04, -9.81329649e-05,  6.70267129e-03,\n",
       "       -8.79052561e-03,  8.57978780e-03, -3.12629342e-03, -5.93075808e-03,\n",
       "       -2.23510549e-03, -5.88813610e-03, -7.20522320e-03, -1.03438541e-03,\n",
       "        4.04451648e-03, -3.12709156e-03, -7.58522796e-03, -2.20046006e-03,\n",
       "        7.18786009e-03,  4.25770087e-03,  3.96846677e-04, -1.48287392e-03,\n",
       "        5.57308132e-03,  1.89355272e-03,  3.11007770e-03, -6.75724354e-03],\n",
       "      dtype=float32)"
      ]
     },
     "execution_count": 19,
     "metadata": {},
     "output_type": "execute_result"
    }
   ],
   "source": [
    "# Show 'sherlock' vector\n",
    "w2v_model.wv['sherlock']"
   ]
  },
  {
   "cell_type": "markdown",
   "metadata": {},
   "source": [
    "**- Similar Words:** Words more similar in terms of meaning and context."
   ]
  },
  {
   "cell_type": "code",
   "execution_count": 20,
   "metadata": {},
   "outputs": [
    {
     "data": {
      "text/plain": [
       "[('said', 0.8288584351539612),\n",
       " ('time', 0.8165440559387207),\n",
       " ('room', 0.8146669864654541),\n",
       " ('street', 0.8139438629150391),\n",
       " ('like', 0.8135110139846802),\n",
       " ('little', 0.8074617981910706),\n",
       " ('case', 0.8064993023872375),\n",
       " ('night', 0.8045616149902344),\n",
       " ('found', 0.8029935956001282),\n",
       " ('door', 0.8015239834785461)]"
      ]
     },
     "execution_count": 20,
     "metadata": {},
     "output_type": "execute_result"
    }
   ],
   "source": [
    "# Finding Positive Similar Words\n",
    "w2v_model.wv.most_similar(positive = ['sherlock'], topn = 10)"
   ]
  },
  {
   "cell_type": "code",
   "execution_count": 21,
   "metadata": {},
   "outputs": [
    {
     "data": {
      "text/plain": [
       "[('outskirts', 0.30154693126678467),\n",
       " ('roughs', 0.2659491300582886),\n",
       " ('desires', 0.26478928327560425),\n",
       " ('compliment', 0.23757369816303253),\n",
       " ('fowls', 0.221784308552742),\n",
       " ('prosecution', 0.20481541752815247),\n",
       " ('admiration', 0.2032158374786377),\n",
       " ('saviour', 0.20151031017303467),\n",
       " ('situated', 0.19701918959617615),\n",
       " ('pince', 0.1942993700504303)]"
      ]
     },
     "execution_count": 21,
     "metadata": {},
     "output_type": "execute_result"
    }
   ],
   "source": [
    "# Finding Negative Similar Words\n",
    "w2v_model.wv.most_similar(negative = ['sherlock'], topn = 10)"
   ]
  },
  {
   "cell_type": "code",
   "execution_count": 22,
   "metadata": {},
   "outputs": [
    {
     "data": {
      "text/plain": [
       "0.7503551014476627"
      ]
     },
     "execution_count": 22,
     "metadata": {},
     "output_type": "execute_result"
    }
   ],
   "source": [
    "# Calculate the similarity between 2 words\n",
    "w2v_model.wv.similarity(w1 = 'sherlock', w2 = 'watson')"
   ]
  },
  {
   "cell_type": "code",
   "execution_count": 23,
   "metadata": {},
   "outputs": [
    {
     "data": {
      "text/plain": [
       "'confusion'"
      ]
     },
     "execution_count": 23,
     "metadata": {},
     "output_type": "execute_result"
    }
   ],
   "source": [
    "# Show word that doesn't belong to the list\n",
    "w2v_model.wv.doesnt_match(['sherlock', 'watson', 'confusion'])"
   ]
  },
  {
   "cell_type": "markdown",
   "metadata": {},
   "source": [
    "## Step 4 - Plot similars words"
   ]
  },
  {
   "cell_type": "code",
   "execution_count": 24,
   "metadata": {},
   "outputs": [
    {
     "data": {
      "text/plain": [
       "51"
      ]
     },
     "execution_count": 24,
     "metadata": {},
     "output_type": "execute_result"
    }
   ],
   "source": [
    "# Get vectors\n",
    "target_word = 'sherlock'\n",
    "top_n = 25\n",
    "\n",
    "# Calculate more and less similars words\n",
    "most_similar = w2v_model.wv.most_similar(positive = [target_word], topn = top_n)\n",
    "less_similar = w2v_model.wv.most_similar(negative = [target_word], topn = top_n)\n",
    "\n",
    "# Save them\n",
    "neighbors = [(target_word, 1, 'current')]\n",
    "neighbors += [(*row, 'most') for row in most_similar]\n",
    "neighbors += [(*row, 'less') for row in less_similar]\n",
    "\n",
    "# Get neighbors vectos\n",
    "neigh_word = [row[0] for row in neighbors]\n",
    "X = w2v_model[neigh_word]\n",
    "len(X)"
   ]
  },
  {
   "cell_type": "code",
   "execution_count": 25,
   "metadata": {},
   "outputs": [
    {
     "data": {
      "text/plain": [
       "[0.83317965, 0.009747741]"
      ]
     },
     "execution_count": 25,
     "metadata": {},
     "output_type": "execute_result"
    }
   ],
   "source": [
    "# Perform PCA with 2 components\n",
    "pca = PCA(n_components = 2)\n",
    "pca_data = pca.fit_transform(X)\n",
    "\n",
    "# The explained variance of each principal components\n",
    "list(pca.explained_variance_ratio_)"
   ]
  },
  {
   "cell_type": "code",
   "execution_count": 26,
   "metadata": {},
   "outputs": [
    {
     "data": {
      "text/html": [
       "<div>\n",
       "<style scoped>\n",
       "    .dataframe tbody tr th:only-of-type {\n",
       "        vertical-align: middle;\n",
       "    }\n",
       "\n",
       "    .dataframe tbody tr th {\n",
       "        vertical-align: top;\n",
       "    }\n",
       "\n",
       "    .dataframe thead th {\n",
       "        text-align: right;\n",
       "    }\n",
       "</style>\n",
       "<table border=\"1\" class=\"dataframe\">\n",
       "  <thead>\n",
       "    <tr style=\"text-align: right;\">\n",
       "      <th></th>\n",
       "      <th>PC1</th>\n",
       "      <th>PC2</th>\n",
       "      <th>Name</th>\n",
       "    </tr>\n",
       "  </thead>\n",
       "  <tbody>\n",
       "    <tr>\n",
       "      <th>0</th>\n",
       "      <td>0.000372</td>\n",
       "      <td>-0.009197</td>\n",
       "      <td>sherlock</td>\n",
       "    </tr>\n",
       "    <tr>\n",
       "      <th>1</th>\n",
       "      <td>0.100748</td>\n",
       "      <td>-0.009923</td>\n",
       "      <td>said</td>\n",
       "    </tr>\n",
       "    <tr>\n",
       "      <th>2</th>\n",
       "      <td>0.060198</td>\n",
       "      <td>0.003906</td>\n",
       "      <td>time</td>\n",
       "    </tr>\n",
       "    <tr>\n",
       "      <th>3</th>\n",
       "      <td>0.083964</td>\n",
       "      <td>0.012340</td>\n",
       "      <td>room</td>\n",
       "    </tr>\n",
       "    <tr>\n",
       "      <th>4</th>\n",
       "      <td>0.051434</td>\n",
       "      <td>0.001725</td>\n",
       "      <td>street</td>\n",
       "    </tr>\n",
       "    <tr>\n",
       "      <th>5</th>\n",
       "      <td>0.064513</td>\n",
       "      <td>-0.008627</td>\n",
       "      <td>like</td>\n",
       "    </tr>\n",
       "    <tr>\n",
       "      <th>6</th>\n",
       "      <td>0.130184</td>\n",
       "      <td>0.000914</td>\n",
       "      <td>little</td>\n",
       "    </tr>\n",
       "    <tr>\n",
       "      <th>7</th>\n",
       "      <td>0.065258</td>\n",
       "      <td>-0.000017</td>\n",
       "      <td>case</td>\n",
       "    </tr>\n",
       "    <tr>\n",
       "      <th>8</th>\n",
       "      <td>0.039657</td>\n",
       "      <td>-0.000364</td>\n",
       "      <td>night</td>\n",
       "    </tr>\n",
       "    <tr>\n",
       "      <th>9</th>\n",
       "      <td>0.064867</td>\n",
       "      <td>-0.004148</td>\n",
       "      <td>found</td>\n",
       "    </tr>\n",
       "  </tbody>\n",
       "</table>\n",
       "</div>"
      ],
      "text/plain": [
       "        PC1       PC2      Name\n",
       "0  0.000372 -0.009197  sherlock\n",
       "1  0.100748 -0.009923      said\n",
       "2  0.060198  0.003906      time\n",
       "3  0.083964  0.012340      room\n",
       "4  0.051434  0.001725    street\n",
       "5  0.064513 -0.008627      like\n",
       "6  0.130184  0.000914    little\n",
       "7  0.065258 -0.000017      case\n",
       "8  0.039657 -0.000364     night\n",
       "9  0.064867 -0.004148     found"
      ]
     },
     "execution_count": 26,
     "metadata": {},
     "output_type": "execute_result"
    }
   ],
   "source": [
    "# Create and show principal components DataFrame\n",
    "pca_df = pd.DataFrame(data = pca_data, columns = [\"PC1\", \"PC2\"])\n",
    "pca_df['Name'] = neigh_word\n",
    "pca_df.head(10)"
   ]
  },
  {
   "cell_type": "code",
   "execution_count": 27,
   "metadata": {},
   "outputs": [
    {
     "data": {
      "image/png": "[encoded data removed]",
      "text/plain": [
       "<Figure size 1152x1152 with 1 Axes>"
      ]
     },
     "metadata": {
      "needs_background": "light"
     },
     "output_type": "display_data"
    }
   ],
   "source": [
    "# Create a scatter plot of the projection\n",
    "fig, ax = plt.subplots(figsize = (16, 16))\n",
    "gap = 0.001\n",
    "colors = dict()\n",
    "colors['current'] = 'royalblue'\n",
    "colors['most'] = 'forestgreen'\n",
    "colors['less'] = 'orange'\n",
    "\n",
    "# Add points one by one with a loop\n",
    "for i, word in enumerate(neigh_word):\n",
    "    node_col = colors[neighbors[i][2]]\n",
    "    \n",
    "    if word == target_word:\n",
    "        node_size = 100\n",
    "        text = word.upper()\n",
    "    else:\n",
    "        node_size = 50\n",
    "        text = word + ': ' + str(round(neighbors[i][1], 3))\n",
    "        \n",
    "    plt.scatter(pca_data[i, 0], pca_data[i, 1], c = node_col, s = node_size)\n",
    "    plt.annotate(text, xy = (pca_data[i, 0] + gap*2, pca_data[i, 1] - gap/4))\n",
    "\n",
    "# Plot setup\n",
    "ax.set_xlabel(\"PC 1\", fontsize = 12)\n",
    "ax.set_ylabel(\"PC 2\", fontsize = 12)\n",
    "ax.set_title(\"50 Most Similar Words to \" + target_word, fontsize = 20)\n",
    "ax.legend([\"Similar Words\"])\n",
    "ax.grid()"
   ]
  },
  {
   "cell_type": "markdown",
   "metadata": {},
   "source": [
    "<hr>\n",
    "<p><a href=\"https://ansegura7.github.io/NLP/\">« Home</a></p>"
   ]
  }
 ],
 "metadata": {
  "kernelspec": {
   "display_name": "Python 3",
   "language": "python",
   "name": "python3"
  },
  "language_info": {
   "codemirror_mode": {
    "name": "ipython",
    "version": 3
   },
   "file_extension": ".py",
   "mimetype": "text/x-python",
   "name": "python",
   "nbconvert_exporter": "python",
   "pygments_lexer": "ipython3",
   "version": "3.6.8"
  }
 },
 "nbformat": 4,
 "nbformat_minor": 2
}
