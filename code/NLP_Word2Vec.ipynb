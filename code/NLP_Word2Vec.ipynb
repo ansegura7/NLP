{
 "cells": [
  {
   "cell_type": "markdown",
   "metadata": {},
   "source": [
    "# NLP - Word Embedding"
   ]
  },
  {
   "cell_type": "markdown",
   "metadata": {},
   "source": [
    "- **Created by Andrés Segura Tinoco**\n",
    "- **Created on June 09, 2019**"
   ]
  },
  {
   "cell_type": "markdown",
   "metadata": {},
   "source": [
    "**Word Embedding:** is the collective name for a set of language modeling and feature learning techniques in natural language processing (NLP) where words or phrases from the vocabulary are mapped to vectors of real numbers. Conceptually it involves a mathematical embedding from a space with many dimensions per word to a continuous vector space with a much lower dimension. <a href='https://en.wikipedia.org/wiki/Word_embedding' target='_blank'>Source</a>\n",
    "\n",
    "**Gensim** is a Python library for topic modelling, document indexing and similarity retrieval with large corpora. Target audience is the natural language processing (NLP) and information retrieval (IR) community."
   ]
  },
  {
   "cell_type": "markdown",
   "metadata": {},
   "source": [
    "## Example with a document in English"
   ]
  },
  {
   "cell_type": "code",
   "execution_count": 1,
   "metadata": {},
   "outputs": [],
   "source": [
    "# Load Python libraries\n",
    "import io\n",
    "import re\n",
    "import pandas as pd\n",
    "from collections import Counter\n",
    "from sklearn.decomposition import PCA\n",
    "import warnings\n",
    "warnings.filterwarnings('ignore')"
   ]
  },
  {
   "cell_type": "code",
   "execution_count": 2,
   "metadata": {},
   "outputs": [],
   "source": [
    "# Load NLP libraries from gensim and spacy\n",
    "from gensim.models import Word2Vec\n",
    "import spacy.lang.en as en"
   ]
  },
  {
   "cell_type": "code",
   "execution_count": 3,
   "metadata": {},
   "outputs": [],
   "source": [
    "# Load Plot libraries\n",
    "import seaborn as sns\n",
    "import matplotlib.pyplot as plt"
   ]
  },
  {
   "cell_type": "markdown",
   "metadata": {},
   "source": [
    "### Step 1 - Read natural text from a book"
   ]
  },
  {
   "cell_type": "code",
   "execution_count": 4,
   "metadata": {},
   "outputs": [],
   "source": [
    "# Util function to read a plain text file\n",
    "def read_text_file(file_path):\n",
    "    text = \"\"\n",
    "    with io.open(file_path, 'r', encoding = 'ISO-8859-1') as f:\n",
    "        text = f.read()\n",
    "    \n",
    "    return text;"
   ]
  },
  {
   "cell_type": "code",
   "execution_count": 5,
   "metadata": {},
   "outputs": [
    {
     "data": {
      "text/plain": [
       "576467"
      ]
     },
     "execution_count": 5,
     "metadata": {},
     "output_type": "execute_result"
    }
   ],
   "source": [
    "# Get text sample\n",
    "file_path = \"../data/en/The Adventures of Sherlock Holmes - Arthur Conan Doyle.txt\"\n",
    "plain_text = read_text_file(file_path)\n",
    "len(plain_text)"
   ]
  },
  {
   "cell_type": "code",
   "execution_count": 6,
   "metadata": {},
   "outputs": [
    {
     "data": {
      "text/plain": [
       "\"\\nProject Gutenberg's The Adventures of Sherlock Holmes, by Arthur Conan Doyle\\n\\nThis eBook is for the use of anyone anywhere at no cost and with\\nalmost no restrictions whatsoever.  You may copy it, give it away or\\nre-use it under the terms of the Project Gutenberg License included\\nwith this eBook or online at www.gutenberg.net\\n\\n\\nTitle: The Adventures of Sherlock Holmes\\n\\nAuthor: Arthur Conan Doyle\\n\\nRelease Date: November 29, 2002 [EBook #1661]\\nLast Updated: May 20, 2019\\n\\nLanguage: English\\n\\nCharacter set encoding: UTF-8\\n\\n*** START OF THIS PROJECT GUTENBERG EBOOK THE ADVENTURES OF SHERLOCK HOLMES ***\\n\\n\\n\\nProduced by an anonymous Project Gutenberg volunteer and Jose Menendez\\n\\n\\n\\ncover\\n\\n\\n\\nThe Adventures of Sherlock Holmes\\n\\n\\n\\nby Arthur Conan Doyle\\n\\n\\n\\nContents\\n\\n\\n   I.     A Scandal in Bohemia\\n   II.    The Red-Headed League\\n   III.   A Case of Identity\\n   IV.    The Boscombe Valley Mystery\\n   V.     The Five Orange Pips\\n   VI.    The Man with the Twisted Lip\\n   VII.   The Adventure of the Blue C\""
      ]
     },
     "execution_count": 6,
     "metadata": {},
     "output_type": "execute_result"
    }
   ],
   "source": [
    "# Show first 1000 characters of document\n",
    "plain_text[:1000]"
   ]
  },
  {
   "cell_type": "markdown",
   "metadata": {},
   "source": [
    "### Step 2 - Tokenize and remove Stopwords"
   ]
  },
  {
   "cell_type": "markdown",
   "metadata": {},
   "source": [
    "**Data Quality process:** refers to the cleaning process of input data so they have meaning and value."
   ]
  },
  {
   "cell_type": "code",
   "execution_count": 7,
   "metadata": {},
   "outputs": [
    {
     "data": {
      "text/plain": [
       "'.project gutenberg s the adventures of sherlock holmes by arthur conan doyle.this ebook is for the use of anyone anywhere at no cost and with.almost no restrictions whatsoever. you may copy it give it away or.re use it under the terms of the project gutenberg license included.with this ebook or online at www.gutenberg.net.title the adventures of sherlock holmes.author arthur conan doyle.release date november ebook .last updated may .language english.character set encoding utf . start of this project gutenberg ebook the adventures of sherlock holmes .produced by an anonymous project gutenberg volunteer and jose menendez.cover.the adventures of sherlock holmes.by arthur conan doyle.contents. i. a scandal in bohemia. ii. the red headed league. iii. a case of identity. iv. the boscombe valley mystery. v. the five orange pips. vi. the man with the twisted lip. vii. the adventure of the blue carbuncle. viii. the adventure of the speckled band. ix. the adventure of the engineer s thumb. x. th'"
      ]
     },
     "execution_count": 7,
     "metadata": {},
     "output_type": "execute_result"
    }
   ],
   "source": [
    "# Cleaing the text\n",
    "clean_text = plain_text.lower()\n",
    "clean_text = clean_text.replace('\\n', '.')\n",
    "clean_text = re.sub('[^a-zA-Z.]', ' ', clean_text)\n",
    "clean_text = re.sub(r'\\s+', ' ', clean_text)\n",
    "clean_text = re.sub(r'\\.+', \".\", clean_text)\n",
    "clean_text[:1000]"
   ]
  },
  {
   "cell_type": "code",
   "execution_count": 8,
   "metadata": {},
   "outputs": [
    {
     "data": {
      "text/plain": [
       "14592"
      ]
     },
     "execution_count": 8,
     "metadata": {},
     "output_type": "execute_result"
    }
   ],
   "source": [
    "# Tokenize text in sentences\n",
    "sentence_list = clean_text.split('.')\n",
    "len(sentence_list)"
   ]
  },
  {
   "cell_type": "code",
   "execution_count": 9,
   "metadata": {},
   "outputs": [
    {
     "data": {
      "text/plain": [
       "[['project',\n",
       "  'gutenberg',\n",
       "  's',\n",
       "  'the',\n",
       "  'adventures',\n",
       "  'of',\n",
       "  'sherlock',\n",
       "  'holmes',\n",
       "  'by',\n",
       "  'arthur',\n",
       "  'conan',\n",
       "  'doyle'],\n",
       " ['this',\n",
       "  'ebook',\n",
       "  'is',\n",
       "  'for',\n",
       "  'the',\n",
       "  'use',\n",
       "  'of',\n",
       "  'anyone',\n",
       "  'anywhere',\n",
       "  'at',\n",
       "  'no',\n",
       "  'cost',\n",
       "  'and',\n",
       "  'with'],\n",
       " ['almost', 'no', 'restrictions', 'whatsoever'],\n",
       " ['you', 'may', 'copy', 'it', 'give', 'it', 'away', 'or'],\n",
       " ['re',\n",
       "  'use',\n",
       "  'it',\n",
       "  'under',\n",
       "  'the',\n",
       "  'terms',\n",
       "  'of',\n",
       "  'the',\n",
       "  'project',\n",
       "  'gutenberg',\n",
       "  'license',\n",
       "  'included'],\n",
       " ['with', 'this', 'ebook', 'or', 'online', 'at', 'www'],\n",
       " ['gutenberg'],\n",
       " ['net'],\n",
       " ['title', 'the', 'adventures', 'of', 'sherlock', 'holmes'],\n",
       " ['author', 'arthur', 'conan', 'doyle']]"
      ]
     },
     "execution_count": 9,
     "metadata": {},
     "output_type": "execute_result"
    }
   ],
   "source": [
    "# Tokenize sentences in words\n",
    "word_list = [sentence.split() for sentence in sentence_list if len(sentence.split()) > 0]\n",
    "word_list[:10]"
   ]
  },
  {
   "cell_type": "code",
   "execution_count": 10,
   "metadata": {},
   "outputs": [],
   "source": [
    "# Count the words in a document and return the most N repeated\n",
    "def count_words(sentences, n):\n",
    "    words = Counter()\n",
    "    \n",
    "    for sent in sentences:\n",
    "        for word in sent:\n",
    "            words[word] += 1\n",
    "    \n",
    "    return words.most_common(n)"
   ]
  },
  {
   "cell_type": "code",
   "execution_count": 11,
   "metadata": {},
   "outputs": [
    {
     "data": {
      "text/html": [
       "<div>\n",
       "<style scoped>\n",
       "    .dataframe tbody tr th:only-of-type {\n",
       "        vertical-align: middle;\n",
       "    }\n",
       "\n",
       "    .dataframe tbody tr th {\n",
       "        vertical-align: top;\n",
       "    }\n",
       "\n",
       "    .dataframe thead th {\n",
       "        text-align: right;\n",
       "    }\n",
       "</style>\n",
       "<table border=\"1\" class=\"dataframe\">\n",
       "  <thead>\n",
       "    <tr style=\"text-align: right;\">\n",
       "      <th></th>\n",
       "      <th>word</th>\n",
       "      <th>quantity</th>\n",
       "    </tr>\n",
       "  </thead>\n",
       "  <tbody>\n",
       "    <tr>\n",
       "      <th>0</th>\n",
       "      <td>the</td>\n",
       "      <td>5636</td>\n",
       "    </tr>\n",
       "    <tr>\n",
       "      <th>1</th>\n",
       "      <td>i</td>\n",
       "      <td>3038</td>\n",
       "    </tr>\n",
       "    <tr>\n",
       "      <th>2</th>\n",
       "      <td>and</td>\n",
       "      <td>3020</td>\n",
       "    </tr>\n",
       "    <tr>\n",
       "      <th>3</th>\n",
       "      <td>to</td>\n",
       "      <td>2744</td>\n",
       "    </tr>\n",
       "    <tr>\n",
       "      <th>4</th>\n",
       "      <td>of</td>\n",
       "      <td>2661</td>\n",
       "    </tr>\n",
       "    <tr>\n",
       "      <th>5</th>\n",
       "      <td>a</td>\n",
       "      <td>2643</td>\n",
       "    </tr>\n",
       "    <tr>\n",
       "      <th>6</th>\n",
       "      <td>in</td>\n",
       "      <td>1766</td>\n",
       "    </tr>\n",
       "    <tr>\n",
       "      <th>7</th>\n",
       "      <td>that</td>\n",
       "      <td>1752</td>\n",
       "    </tr>\n",
       "    <tr>\n",
       "      <th>8</th>\n",
       "      <td>it</td>\n",
       "      <td>1737</td>\n",
       "    </tr>\n",
       "    <tr>\n",
       "      <th>9</th>\n",
       "      <td>you</td>\n",
       "      <td>1503</td>\n",
       "    </tr>\n",
       "  </tbody>\n",
       "</table>\n",
       "</div>"
      ],
      "text/plain": [
       "   word  quantity\n",
       "0   the      5636\n",
       "1     i      3038\n",
       "2   and      3020\n",
       "3    to      2744\n",
       "4    of      2661\n",
       "5     a      2643\n",
       "6    in      1766\n",
       "7  that      1752\n",
       "8    it      1737\n",
       "9   you      1503"
      ]
     },
     "execution_count": 11,
     "metadata": {},
     "output_type": "execute_result"
    }
   ],
   "source": [
    "# Get the most common words in the document\n",
    "n_words = count_words(word_list, 50)\n",
    "df = pd.DataFrame.from_records(n_words, columns = ['word', 'quantity'])\n",
    "df.head(10)"
   ]
  },
  {
   "cell_type": "code",
   "execution_count": 12,
   "metadata": {},
   "outputs": [
    {
     "data": {
      "image/png": "[encoded data removed]",
      "text/plain": [
       "<Figure size 1296x432 with 1 Axes>"
      ]
     },
     "metadata": {
      "needs_background": "light"
     },
     "output_type": "display_data"
    }
   ],
   "source": [
    "# Plot the most common words in the document\n",
    "fig = plt.figure(figsize = (18, 6))\n",
    "sns.barplot(x = 'word', y = 'quantity', data = df)\n",
    "plt.title('The 50 Most Common Words in document')\n",
    "plt.show()"
   ]
  },
  {
   "cell_type": "markdown",
   "metadata": {},
   "source": [
    "**- Stopwords:** refers to the most common words in a language, which do not significantly affect the meaning of the text."
   ]
  },
  {
   "cell_type": "code",
   "execution_count": 13,
   "metadata": {},
   "outputs": [
    {
     "name": "stdout",
     "output_type": "stream",
     "text": [
      "{'’m', 'herself', 'when', 'although', 'myself', 'five', 'what', 'six', 'besides', 'thus', 'elsewhere', 'which', 'forty', 'go', 'twelve', 'these', 'never', 'under', 'same', 'every', 'there', 'several', 'whose', 'more', 'ourselves', 'they', 'eight', 'through', 'where', 'whereupon', '’re', 'still', 'whole', 'has', '‘ve', 'as', 'eleven', 'neither', 'least', 'top', 'too', 'up', 'on', 'except', 'mine', 'serious', 'put', 'per', 'within', 'often', 'call', 'everyone', 'front', 'her', 'herein', 'almost', 'meanwhile', 'nevertheless', 'thence', 'well', 'been', 'being', 'perhaps', 'really', 'all', 'so', 'someone', 'enough', 'and', 'am', 'say', 'until', 'move', 'regarding', 'next', 'latter', 'those', 'fifty', \"'m\", 'during', 'nor', '’ve', 'along', 'latterly', 'something', \"'ve\", 'many', 'should', 'over', \"'ll\", 'somewhere', 'them', 'i', 'indeed', 'must', 'anything', 'toward', 'n‘t', 'via', \"'re\", 'anyone', 'it', 'that', 'please', 'were', 'hereby', 'she', 'ever', 'the', 'wherever', 'whether', 'some', 'ten', '‘re', 'again', 'used', 'two', 'third', 'together', 'doing', 'mostly', 'therein', 'us', '‘d', 'cannot', 'empty', 'nine', 'in', 'part', 'just', 'various', 'about', 'amongst', 'formerly', 'or', 'three', 'few', 'also', 'before', 'hereupon', 'might', 'not', 'seeming', 'thereby', 'have', 'using', 're', 'beyond', 'from', 'was', 'any', 'he', '‘s', 'between', 'themselves', 'yours', 'how', 'see', 'ca', \"n't\", 'him', 'anyway', 'out', 'had', '‘m', 'does', 'our', 'by', 'keep', 'however', 'take', 'both', 'namely', 'rather', 'to', 'while', 'first', 'whereafter', 'whereby', 'onto', 'thru', 'for', 'became', 'whither', 'noone', 'become', 'whom', 'a', 'afterwards', 'others', '’d', 'this', 'else', 'anyhow', 'anywhere', 'moreover', 'hundred', 'whatever', 'though', 'himself', 'seem', 'either', 'behind', 'your', 'nowhere', 'his', 'n’t', 'me', 'further', 'would', 'always', 'are', 'will', 'around', 'is', 'be', 'no', 'among', 'you', 'off', 'at', 'give', 'seems', 'last', 'then', 'therefore', 'once', 'made', 'across', 'its', 'whence', 'one', 'sixty', 'below', 'done', 'much', 'full', 'already', 'due', 'show', 'unless', 'beforehand', 'since', 'with', 'their', '‘ll', 'former', 'upon', 'above', 'but', 'other', 'here', 'thereafter', 'somehow', 'even', 'everything', 'an', 'hers', 'each', 'fifteen', 'down', 'back', 'twenty', 'why', 'such', 'without', 'sometimes', 'otherwise', 'we', 'do', 'thereupon', 'nothing', 'becoming', 'hence', 'if', 'sometime', 'own', 'alone', 'ours', 'yourselves', 'quite', \"'d\", 'nobody', 'wherein', 'amount', 'four', '’s', 'another', 'did', 'hereafter', 'seemed', 'whenever', 'who', 'into', 'yourself', 'itself', 'than', 'towards', 'get', 'very', 'because', 'may', 'against', 'can', 'most', 'name', 'of', '’ll', 'make', 'after', 'whoever', 'none', 'my', 'now', 'only', \"'s\", 'everywhere', 'could', 'becomes', 'beside', 'throughout', 'side', 'whereas', 'yet', 'bottom', 'less'}\n"
     ]
    }
   ],
   "source": [
    "# Get English stopwords\n",
    "stopwords_en = en.stop_words.STOP_WORDS\n",
    "print(stopwords_en)"
   ]
  },
  {
   "cell_type": "code",
   "execution_count": 14,
   "metadata": {},
   "outputs": [
    {
     "data": {
      "text/plain": [
       "[['project',\n",
       "  'gutenberg',\n",
       "  'adventures',\n",
       "  'sherlock',\n",
       "  'holmes',\n",
       "  'arthur',\n",
       "  'conan',\n",
       "  'doyle'],\n",
       " ['ebook', 'use', 'cost'],\n",
       " ['restrictions', 'whatsoever'],\n",
       " ['copy', 'away'],\n",
       " ['use', 'terms', 'project', 'gutenberg', 'license', 'included'],\n",
       " ['ebook', 'online', 'www'],\n",
       " ['gutenberg'],\n",
       " ['net'],\n",
       " ['title', 'adventures', 'sherlock', 'holmes'],\n",
       " ['author', 'arthur', 'conan', 'doyle']]"
      ]
     },
     "execution_count": 14,
     "metadata": {},
     "output_type": "execute_result"
    }
   ],
   "source": [
    "# Remove stopwords\n",
    "all_words = []\n",
    "for ix in range(len(word_list)):\n",
    "    all_words.append([word for word in word_list[ix] if (word not in stopwords_en and len(word) > 2)])\n",
    "\n",
    "all_words[:10]"
   ]
  },
  {
   "cell_type": "code",
   "execution_count": 15,
   "metadata": {},
   "outputs": [
    {
     "data": {
      "text/html": [
       "<div>\n",
       "<style scoped>\n",
       "    .dataframe tbody tr th:only-of-type {\n",
       "        vertical-align: middle;\n",
       "    }\n",
       "\n",
       "    .dataframe tbody tr th {\n",
       "        vertical-align: top;\n",
       "    }\n",
       "\n",
       "    .dataframe thead th {\n",
       "        text-align: right;\n",
       "    }\n",
       "</style>\n",
       "<table border=\"1\" class=\"dataframe\">\n",
       "  <thead>\n",
       "    <tr style=\"text-align: right;\">\n",
       "      <th></th>\n",
       "      <th>word</th>\n",
       "      <th>quantity</th>\n",
       "    </tr>\n",
       "  </thead>\n",
       "  <tbody>\n",
       "    <tr>\n",
       "      <th>0</th>\n",
       "      <td>said</td>\n",
       "      <td>486</td>\n",
       "    </tr>\n",
       "    <tr>\n",
       "      <th>1</th>\n",
       "      <td>holmes</td>\n",
       "      <td>465</td>\n",
       "    </tr>\n",
       "    <tr>\n",
       "      <th>2</th>\n",
       "      <td>man</td>\n",
       "      <td>305</td>\n",
       "    </tr>\n",
       "    <tr>\n",
       "      <th>3</th>\n",
       "      <td>little</td>\n",
       "      <td>269</td>\n",
       "    </tr>\n",
       "    <tr>\n",
       "      <th>4</th>\n",
       "      <td>think</td>\n",
       "      <td>174</td>\n",
       "    </tr>\n",
       "    <tr>\n",
       "      <th>5</th>\n",
       "      <td>room</td>\n",
       "      <td>171</td>\n",
       "    </tr>\n",
       "    <tr>\n",
       "      <th>6</th>\n",
       "      <td>know</td>\n",
       "      <td>170</td>\n",
       "    </tr>\n",
       "    <tr>\n",
       "      <th>7</th>\n",
       "      <td>shall</td>\n",
       "      <td>169</td>\n",
       "    </tr>\n",
       "    <tr>\n",
       "      <th>8</th>\n",
       "      <td>come</td>\n",
       "      <td>161</td>\n",
       "    </tr>\n",
       "    <tr>\n",
       "      <th>9</th>\n",
       "      <td>time</td>\n",
       "      <td>151</td>\n",
       "    </tr>\n",
       "  </tbody>\n",
       "</table>\n",
       "</div>"
      ],
      "text/plain": [
       "     word  quantity\n",
       "0    said       486\n",
       "1  holmes       465\n",
       "2     man       305\n",
       "3  little       269\n",
       "4   think       174\n",
       "5    room       171\n",
       "6    know       170\n",
       "7   shall       169\n",
       "8    come       161\n",
       "9    time       151"
      ]
     },
     "execution_count": 15,
     "metadata": {},
     "output_type": "execute_result"
    }
   ],
   "source": [
    "# Get the most common words in the document after removing the stopwords\n",
    "n_words = count_words(all_words, 50)\n",
    "df = pd.DataFrame.from_records(n_words, columns = ['word', 'quantity'])\n",
    "df.head(10)"
   ]
  },
  {
   "cell_type": "code",
   "execution_count": 16,
   "metadata": {},
   "outputs": [
    {
     "data": {
      "image/png": "[encoded data removed]",
      "text/plain": [
       "<Figure size 1296x432 with 1 Axes>"
      ]
     },
     "metadata": {
      "needs_background": "light"
     },
     "output_type": "display_data"
    }
   ],
   "source": [
    "# Plot the most common words in the document after removing the stopwords\n",
    "fig = plt.figure(figsize = (18, 6))\n",
    "sns.barplot(x = 'word', y = 'quantity', data = df)\n",
    "plt.title('The 50 Most Common Words in document')\n",
    "plt.show()"
   ]
  },
  {
   "cell_type": "markdown",
   "metadata": {},
   "source": [
    "### Step 3 - Create a Word2Vec model"
   ]
  },
  {
   "cell_type": "markdown",
   "metadata": {},
   "source": [
    "**- Word2Vec** consists of models for generating word embedding. These models are shallow two layer neural networks having one input layer, one hidden layer and one output layer. Word2Vec utilizes two architectures: CBOW (Continuous Bag of Words) and Skip Gram. <a href='https://en.wikipedia.org/wiki/Word2vec' target='_blank'>Source</a>"
   ]
  },
  {
   "cell_type": "code",
   "execution_count": 17,
   "metadata": {},
   "outputs": [],
   "source": [
    "# Algorithm params\n",
    "min_count = 2    # Minimium frequency count of words. The model would ignore words that do not satisfy the min_count\n",
    "size = 150       # The size of the dense vector to represent each token or word\n",
    "window = 5       # The maximum distance between the target word and its neighboring word\n",
    "sg = 1           # Skip Gram algorithm True\n",
    "iter = 10        # Number of iterations (epochs) over the corpus"
   ]
  },
  {
   "cell_type": "code",
   "execution_count": 18,
   "metadata": {},
   "outputs": [],
   "source": [
    "# Create Word2Vec model\n",
    "w2v_model = Word2Vec(all_words, min_count = min_count, size = size, window = window, sg = sg, iter = iter)"
   ]
  },
  {
   "cell_type": "markdown",
   "metadata": {},
   "source": [
    "**- Vocabulary:** unique words of the document."
   ]
  },
  {
   "cell_type": "code",
   "execution_count": 19,
   "metadata": {},
   "outputs": [
    {
     "data": {
      "text/plain": [
       "4072"
      ]
     },
     "execution_count": 19,
     "metadata": {},
     "output_type": "execute_result"
    }
   ],
   "source": [
    "# Show vocabulary size: unique words occurring at least twice\n",
    "vocabulary = w2v_model.wv.vocab  \n",
    "len(vocabulary)"
   ]
  },
  {
   "cell_type": "code",
   "execution_count": 20,
   "metadata": {},
   "outputs": [
    {
     "data": {
      "text/plain": [
       "array([-0.26068097, -0.22861649,  0.00602744, -0.05038826,  0.07296181,\n",
       "        0.04220138, -0.14762908, -0.30247867, -0.20137483,  0.07805119,\n",
       "        0.04223252,  0.21619761, -0.01226241, -0.06268047, -0.05944504,\n",
       "       -0.02729297,  0.26465604,  0.16852742,  0.02738793,  0.19023642,\n",
       "       -0.00836847, -0.02235663,  0.18355338,  0.19868246, -0.22722979,\n",
       "        0.02712571, -0.2725103 , -0.18130878,  0.19157831,  0.0694914 ,\n",
       "        0.01595307, -0.07531712,  0.12529758,  0.03200269, -0.04310204,\n",
       "       -0.09370825, -0.08825057,  0.13495374,  0.04136525, -0.16951331,\n",
       "        0.07606506, -0.01118756,  0.03914942,  0.00759848,  0.0936646 ,\n",
       "        0.05132101,  0.07600268, -0.17988622,  0.23944387, -0.18585473,\n",
       "        0.07018567, -0.03845099,  0.19068828,  0.1710199 , -0.07371057,\n",
       "       -0.36091837, -0.13550927,  0.01311912,  0.04777157, -0.31924194,\n",
       "       -0.04744055, -0.3579189 , -0.15477781,  0.01615417,  0.14078876,\n",
       "        0.17921709,  0.04132886,  0.15628639, -0.00737992,  0.06064314,\n",
       "        0.03748588,  0.13091414,  0.09212031, -0.01985451,  0.03965552,\n",
       "       -0.08867943,  0.04675351, -0.14357187,  0.2169116 ,  0.13925414,\n",
       "        0.05249329, -0.01860405,  0.22886845, -0.10803978, -0.01106214,\n",
       "       -0.08000781,  0.01076087, -0.03075146, -0.31318894, -0.07470151,\n",
       "       -0.33400562, -0.35446778,  0.1973967 , -0.01793195, -0.2918313 ,\n",
       "       -0.00656193,  0.08611496,  0.05717438, -0.07743125, -0.03246552,\n",
       "       -0.04214608,  0.04719443, -0.201571  , -0.20686558,  0.13269353,\n",
       "        0.06748839, -0.09410369, -0.17698726,  0.03914478,  0.3081102 ,\n",
       "        0.10721711,  0.0680126 ,  0.08632829, -0.04768474,  0.07121725,\n",
       "       -0.02212519,  0.01915438,  0.16246542,  0.09018791, -0.05487327,\n",
       "        0.04569386,  0.14835295, -0.05524424, -0.05516128, -0.23754843,\n",
       "       -0.02301511,  0.10107391, -0.25872418, -0.12115753,  0.12576857,\n",
       "        0.08810747,  0.26912695,  0.00793111, -0.17318837,  0.15796307,\n",
       "       -0.10983427,  0.11661581,  0.09536373,  0.07429785, -0.15722658,\n",
       "       -0.13975742,  0.08558819,  0.11831163,  0.159725  ,  0.0153066 ,\n",
       "       -0.11150007,  0.13683371, -0.06834951, -0.0142759 , -0.06796444],\n",
       "      dtype=float32)"
      ]
     },
     "execution_count": 20,
     "metadata": {},
     "output_type": "execute_result"
    }
   ],
   "source": [
    "# Show 'sherlock' vector\n",
    "w2v_model.wv['sherlock']"
   ]
  },
  {
   "cell_type": "markdown",
   "metadata": {},
   "source": [
    "**- Similar Words:** Words more similar in terms of meaning and context."
   ]
  },
  {
   "cell_type": "code",
   "execution_count": 21,
   "metadata": {},
   "outputs": [
    {
     "data": {
      "text/plain": [
       "[('said', 0.9921159148216248),\n",
       " ('sat', 0.9797241687774658),\n",
       " ('asked', 0.97737056016922),\n",
       " ('cried', 0.9772114753723145),\n",
       " ('laughing', 0.9757598042488098),\n",
       " ('watson', 0.9751051664352417),\n",
       " ('remarked', 0.9749943017959595),\n",
       " ('murmured', 0.9745326042175293),\n",
       " ('long', 0.974301815032959),\n",
       " ('chair', 0.9736937880516052)]"
      ]
     },
     "execution_count": 21,
     "metadata": {},
     "output_type": "execute_result"
    }
   ],
   "source": [
    "# Finding Positive Similar Words\n",
    "w2v_model.wv.most_similar(positive = ['sherlock'], topn = 10)"
   ]
  },
  {
   "cell_type": "code",
   "execution_count": 22,
   "metadata": {},
   "outputs": [
    {
     "data": {
      "text/plain": [
       "[('dash', 0.15468654036521912),\n",
       " ('recommended', 0.11769770830869675),\n",
       " ('iii', 0.06932689994573593),\n",
       " ('conscience', 0.06683564931154251),\n",
       " ('province', 0.058700080960989),\n",
       " ('ample', 0.0377466082572937),\n",
       " ('compress', 0.03749709203839302),\n",
       " ('viii', 0.023328647017478943),\n",
       " ('delirious', 0.010835733264684677),\n",
       " ('faithfully', -0.003177966922521591)]"
      ]
     },
     "execution_count": 22,
     "metadata": {},
     "output_type": "execute_result"
    }
   ],
   "source": [
    "# Finding Negative Similar Words\n",
    "w2v_model.wv.most_similar(negative = ['sherlock'], topn = 10)"
   ]
  },
  {
   "cell_type": "code",
   "execution_count": 23,
   "metadata": {},
   "outputs": [
    {
     "data": {
      "text/plain": [
       "0.9751052048117526"
      ]
     },
     "execution_count": 23,
     "metadata": {},
     "output_type": "execute_result"
    }
   ],
   "source": [
    "# Calculate the similarity between 2 words\n",
    "w2v_model.wv.similarity(w1 = 'sherlock', w2 = 'watson')"
   ]
  },
  {
   "cell_type": "code",
   "execution_count": 24,
   "metadata": {},
   "outputs": [
    {
     "data": {
      "text/plain": [
       "'sherlock'"
      ]
     },
     "execution_count": 24,
     "metadata": {},
     "output_type": "execute_result"
    }
   ],
   "source": [
    "# Show word that doesn't belong to the list\n",
    "w2v_model.wv.doesnt_match(['sherlock', 'watson', 'confusion'])"
   ]
  },
  {
   "cell_type": "markdown",
   "metadata": {},
   "source": [
    "## Step 4 - Plot similars words"
   ]
  },
  {
   "cell_type": "code",
   "execution_count": 25,
   "metadata": {},
   "outputs": [
    {
     "data": {
      "text/plain": [
       "41"
      ]
     },
     "execution_count": 25,
     "metadata": {},
     "output_type": "execute_result"
    }
   ],
   "source": [
    "# Get vectors\n",
    "target_word = 'sherlock'\n",
    "top_n = 20\n",
    "\n",
    "# Calculate more and less similars words\n",
    "most_similar = w2v_model.wv.most_similar(positive = [target_word], topn = top_n)\n",
    "less_similar = w2v_model.wv.most_similar(negative = [target_word], topn = top_n)\n",
    "\n",
    "# Save them\n",
    "neighbors = [(target_word, 1, 'current')]\n",
    "neighbors += [(*row, 'most') for row in most_similar]\n",
    "neighbors += [(*row, 'less') for row in less_similar]\n",
    "\n",
    "# Get neighbors vectos\n",
    "neigh_word = [row[0] for row in neighbors]\n",
    "X = w2v_model[neigh_word]\n",
    "len(X)"
   ]
  },
  {
   "cell_type": "code",
   "execution_count": 26,
   "metadata": {},
   "outputs": [
    {
     "data": {
      "text/plain": [
       "[0.9916171, 0.00660354]"
      ]
     },
     "execution_count": 26,
     "metadata": {},
     "output_type": "execute_result"
    }
   ],
   "source": [
    "# Perform PCA with 2 components\n",
    "pca = PCA(n_components = 2)\n",
    "pca_data = pca.fit_transform(X)\n",
    "\n",
    "# The explained variance of each principal components\n",
    "list(pca.explained_variance_ratio_)"
   ]
  },
  {
   "cell_type": "code",
   "execution_count": 27,
   "metadata": {},
   "outputs": [
    {
     "data": {
      "text/html": [
       "<div>\n",
       "<style scoped>\n",
       "    .dataframe tbody tr th:only-of-type {\n",
       "        vertical-align: middle;\n",
       "    }\n",
       "\n",
       "    .dataframe tbody tr th {\n",
       "        vertical-align: top;\n",
       "    }\n",
       "\n",
       "    .dataframe thead th {\n",
       "        text-align: right;\n",
       "    }\n",
       "</style>\n",
       "<table border=\"1\" class=\"dataframe\">\n",
       "  <thead>\n",
       "    <tr style=\"text-align: right;\">\n",
       "      <th></th>\n",
       "      <th>PC1</th>\n",
       "      <th>PC2</th>\n",
       "      <th>Name</th>\n",
       "    </tr>\n",
       "  </thead>\n",
       "  <tbody>\n",
       "    <tr>\n",
       "      <th>0</th>\n",
       "      <td>0.981597</td>\n",
       "      <td>0.352359</td>\n",
       "      <td>sherlock</td>\n",
       "    </tr>\n",
       "    <tr>\n",
       "      <th>1</th>\n",
       "      <td>0.939067</td>\n",
       "      <td>0.142041</td>\n",
       "      <td>said</td>\n",
       "    </tr>\n",
       "    <tr>\n",
       "      <th>2</th>\n",
       "      <td>1.062735</td>\n",
       "      <td>0.006322</td>\n",
       "      <td>sat</td>\n",
       "    </tr>\n",
       "    <tr>\n",
       "      <th>3</th>\n",
       "      <td>0.944599</td>\n",
       "      <td>-0.014217</td>\n",
       "      <td>asked</td>\n",
       "    </tr>\n",
       "    <tr>\n",
       "      <th>4</th>\n",
       "      <td>0.976074</td>\n",
       "      <td>-0.014775</td>\n",
       "      <td>cried</td>\n",
       "    </tr>\n",
       "    <tr>\n",
       "      <th>5</th>\n",
       "      <td>0.594277</td>\n",
       "      <td>-0.021025</td>\n",
       "      <td>laughing</td>\n",
       "    </tr>\n",
       "    <tr>\n",
       "      <th>6</th>\n",
       "      <td>0.943833</td>\n",
       "      <td>-0.029102</td>\n",
       "      <td>watson</td>\n",
       "    </tr>\n",
       "    <tr>\n",
       "      <th>7</th>\n",
       "      <td>0.957116</td>\n",
       "      <td>-0.033699</td>\n",
       "      <td>remarked</td>\n",
       "    </tr>\n",
       "    <tr>\n",
       "      <th>8</th>\n",
       "      <td>0.054668</td>\n",
       "      <td>-0.015190</td>\n",
       "      <td>murmured</td>\n",
       "    </tr>\n",
       "    <tr>\n",
       "      <th>9</th>\n",
       "      <td>1.045776</td>\n",
       "      <td>-0.041047</td>\n",
       "      <td>long</td>\n",
       "    </tr>\n",
       "  </tbody>\n",
       "</table>\n",
       "</div>"
      ],
      "text/plain": [
       "        PC1       PC2      Name\n",
       "0  0.981597  0.352359  sherlock\n",
       "1  0.939067  0.142041      said\n",
       "2  1.062735  0.006322       sat\n",
       "3  0.944599 -0.014217     asked\n",
       "4  0.976074 -0.014775     cried\n",
       "5  0.594277 -0.021025  laughing\n",
       "6  0.943833 -0.029102    watson\n",
       "7  0.957116 -0.033699  remarked\n",
       "8  0.054668 -0.015190  murmured\n",
       "9  1.045776 -0.041047      long"
      ]
     },
     "execution_count": 27,
     "metadata": {},
     "output_type": "execute_result"
    }
   ],
   "source": [
    "# Create and show principal components DataFrame\n",
    "pca_df = pd.DataFrame(data = pca_data, columns = [\"PC1\", \"PC2\"])\n",
    "pca_df['Name'] = neigh_word\n",
    "pca_df.head(10)"
   ]
  },
  {
   "cell_type": "code",
   "execution_count": 28,
   "metadata": {},
   "outputs": [
    {
     "data": {
      "image/png": "[encoded data removed]",
      "text/plain": [
       "<Figure size 1152x1152 with 1 Axes>"
      ]
     },
     "metadata": {
      "needs_background": "light"
     },
     "output_type": "display_data"
    }
   ],
   "source": [
    "# Create a scatter plot of the projection\n",
    "fig, ax = plt.subplots(figsize = (16, 16))\n",
    "gap = 0.001\n",
    "colors = dict()\n",
    "colors['current'] = 'royalblue'\n",
    "colors['most'] = 'forestgreen'\n",
    "colors['less'] = 'orange'\n",
    "\n",
    "# Add points one by one with a loop\n",
    "for i, word in enumerate(neigh_word):\n",
    "    node_col = colors[neighbors[i][2]]\n",
    "    \n",
    "    if word == target_word:\n",
    "        node_size = 100\n",
    "        text = word.upper()\n",
    "    else:\n",
    "        node_size = 50\n",
    "        text = word + ': ' + str(round(neighbors[i][1], 3))\n",
    "        \n",
    "    plt.scatter(pca_data[i, 0], pca_data[i, 1], c = node_col, s = node_size)\n",
    "    plt.annotate(text, xy = (pca_data[i, 0] + gap*2, pca_data[i, 1] - gap/4))\n",
    "\n",
    "# Plot setup\n",
    "ax.set_xlabel(\"PC 1\", fontsize = 12)\n",
    "ax.set_ylabel(\"PC 2\", fontsize = 12)\n",
    "ax.set_title(\"50 Most Similar Words to \" + target_word, fontsize = 20)\n",
    "ax.legend([\"Similar Words\"])\n",
    "ax.grid()"
   ]
  },
  {
   "cell_type": "markdown",
   "metadata": {},
   "source": [
    "<hr>\n",
    "<p><a href=\"https://ansegura7.github.io/NLP/\">« Home</a></p>"
   ]
  }
 ],
 "metadata": {
  "kernelspec": {
   "display_name": "Python 3",
   "language": "python",
   "name": "python3"
  },
  "language_info": {
   "codemirror_mode": {
    "name": "ipython",
    "version": 3
   },
   "file_extension": ".py",
   "mimetype": "text/x-python",
   "name": "python",
   "nbconvert_exporter": "python",
   "pygments_lexer": "ipython3",
   "version": "3.6.8"
  }
 },
 "nbformat": 4,
 "nbformat_minor": 2
}
