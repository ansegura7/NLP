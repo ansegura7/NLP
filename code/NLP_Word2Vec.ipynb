{
 "cells": [
  {
   "cell_type": "markdown",
   "metadata": {},
   "source": [
    "# Natural Language Processing with gensim"
   ]
  },
  {
   "cell_type": "markdown",
   "metadata": {},
   "source": [
    "- **Created by Andrés Segura Tinoco**\n",
    "- **Created on June 09, 2019**"
   ]
  },
  {
   "cell_type": "markdown",
   "metadata": {},
   "source": [
    "**Gensim** is a Python library for topic modelling, document indexing and similarity retrieval with large corpora. Target audience is the natural language processing (NLP) and information retrieval (IR) community."
   ]
  },
  {
   "cell_type": "markdown",
   "metadata": {},
   "source": [
    "## Example with a document in English"
   ]
  },
  {
   "cell_type": "code",
   "execution_count": 1,
   "metadata": {},
   "outputs": [],
   "source": [
    "# Load Python libraries\n",
    "import io\n",
    "import re\n",
    "import numpy as np\n",
    "from collections import Counter\n",
    "from pandas import DataFrame\n",
    "import warnings\n",
    "warnings.filterwarnings('ignore')"
   ]
  },
  {
   "cell_type": "code",
   "execution_count": 2,
   "metadata": {},
   "outputs": [],
   "source": [
    "# Load NLP libraries from gensim and spacy\n",
    "from gensim.models import Word2Vec\n",
    "import spacy.lang.en as en"
   ]
  },
  {
   "cell_type": "code",
   "execution_count": 3,
   "metadata": {},
   "outputs": [],
   "source": [
    "# Load Plot libraries\n",
    "import seaborn as sns\n",
    "import matplotlib.pyplot as plt"
   ]
  },
  {
   "cell_type": "markdown",
   "metadata": {},
   "source": [
    "### Step 1 - Read natural text from a book"
   ]
  },
  {
   "cell_type": "code",
   "execution_count": 4,
   "metadata": {},
   "outputs": [],
   "source": [
    "# Util function to read a plain text file\n",
    "def read_text_file(file_path):\n",
    "    text = \"\"\n",
    "    with io.open(file_path, 'r', encoding = 'ISO-8859-1') as f:\n",
    "        text = f.read()\n",
    "    \n",
    "    return text;"
   ]
  },
  {
   "cell_type": "code",
   "execution_count": 5,
   "metadata": {},
   "outputs": [
    {
     "data": {
      "text/plain": [
       "576467"
      ]
     },
     "execution_count": 5,
     "metadata": {},
     "output_type": "execute_result"
    }
   ],
   "source": [
    "# Get text sample\n",
    "file_path = \"../data/en/The Adventures of Sherlock Holmes - Arthur Conan Doyle.txt\"\n",
    "plain_text = read_text_file(file_path)\n",
    "len(plain_text)"
   ]
  },
  {
   "cell_type": "code",
   "execution_count": 6,
   "metadata": {},
   "outputs": [
    {
     "data": {
      "text/plain": [
       "\"\\nProject Gutenberg's The Adventures of Sherlock Holmes, by Arthur Conan Doyle\\n\\nThis eBook is for the use of anyone anywhere at no cost and with\\nalmost no restrictions whatsoever.  You may copy it, give it away or\\nre-use it under the terms of the Project Gutenberg License included\\nwith this eBook or online at www.gutenberg.net\\n\\n\\nTitle: The Adventures of Sherlock Holmes\\n\\nAuthor: Arthur Conan Doyle\\n\\nRelease Date: November 29, 2002 [EBook #1661]\\nLast Updated: May 20, 2019\\n\\nLanguage: English\\n\\nCharacter set encoding: UTF-8\\n\\n*** START OF THIS PROJECT GUTENBERG EBOOK THE ADVENTURES OF SHERLOCK HOLMES ***\\n\\n\\n\\nProduced by an anonymous Project Gutenberg volunteer and Jose Menendez\\n\\n\\n\\ncover\\n\\n\\n\\nThe Adventures of Sherlock Holmes\\n\\n\\n\\nby Arthur Conan Doyle\\n\\n\\n\\nContents\\n\\n\\n   I.     A Scandal in Bohemia\\n   II.    The Red-Headed League\\n   III.   A Case of Identity\\n   IV.    The Boscombe Valley Mystery\\n   V.     The Five Orange Pips\\n   VI.    The Man with the Twisted Lip\\n   VII.   The Adventure of the Blue C\""
      ]
     },
     "execution_count": 6,
     "metadata": {},
     "output_type": "execute_result"
    }
   ],
   "source": [
    "# Show first 1000 characters of document\n",
    "plain_text[:1000]"
   ]
  },
  {
   "cell_type": "markdown",
   "metadata": {},
   "source": [
    "### Step 2 - Tokenize and remove Stopwords"
   ]
  },
  {
   "cell_type": "code",
   "execution_count": 7,
   "metadata": {},
   "outputs": [
    {
     "data": {
      "text/plain": [
       "'.project gutenberg s the adventures of sherlock holmes by arthur conan doyle.this ebook is for the use of anyone anywhere at no cost and with.almost no restrictions whatsoever. you may copy it give it away or.re use it under the terms of the project gutenberg license included.with this ebook or online at www.gutenberg.net.title the adventures of sherlock holmes.author arthur conan doyle.release date november ebook .last updated may .language english.character set encoding utf . start of this project gutenberg ebook the adventures of sherlock holmes .produced by an anonymous project gutenberg volunteer and jose menendez.cover.the adventures of sherlock holmes.by arthur conan doyle.contents. i. a scandal in bohemia. ii. the red headed league. iii. a case of identity. iv. the boscombe valley mystery. v. the five orange pips. vi. the man with the twisted lip. vii. the adventure of the blue carbuncle. viii. the adventure of the speckled band. ix. the adventure of the engineer s thumb. x. th'"
      ]
     },
     "execution_count": 7,
     "metadata": {},
     "output_type": "execute_result"
    }
   ],
   "source": [
    "# Cleaing the text\n",
    "clean_text = plain_text.lower()\n",
    "clean_text = clean_text.replace('\\n', '.')\n",
    "clean_text = re.sub('[^a-zA-Z.]', ' ', clean_text)\n",
    "clean_text = re.sub(r'\\s+', ' ', clean_text)\n",
    "clean_text = re.sub(r'\\.+', \".\", clean_text)\n",
    "clean_text[:1000]"
   ]
  },
  {
   "cell_type": "code",
   "execution_count": 8,
   "metadata": {},
   "outputs": [
    {
     "data": {
      "text/plain": [
       "14592"
      ]
     },
     "execution_count": 8,
     "metadata": {},
     "output_type": "execute_result"
    }
   ],
   "source": [
    "# Tokenize text in sentences\n",
    "sentence_list = clean_text.split('.')\n",
    "len(sentence_list)"
   ]
  },
  {
   "cell_type": "code",
   "execution_count": 9,
   "metadata": {},
   "outputs": [
    {
     "data": {
      "text/plain": [
       "[['project',\n",
       "  'gutenberg',\n",
       "  's',\n",
       "  'the',\n",
       "  'adventures',\n",
       "  'of',\n",
       "  'sherlock',\n",
       "  'holmes',\n",
       "  'by',\n",
       "  'arthur',\n",
       "  'conan',\n",
       "  'doyle'],\n",
       " ['this',\n",
       "  'ebook',\n",
       "  'is',\n",
       "  'for',\n",
       "  'the',\n",
       "  'use',\n",
       "  'of',\n",
       "  'anyone',\n",
       "  'anywhere',\n",
       "  'at',\n",
       "  'no',\n",
       "  'cost',\n",
       "  'and',\n",
       "  'with'],\n",
       " ['almost', 'no', 'restrictions', 'whatsoever'],\n",
       " ['you', 'may', 'copy', 'it', 'give', 'it', 'away', 'or'],\n",
       " ['re',\n",
       "  'use',\n",
       "  'it',\n",
       "  'under',\n",
       "  'the',\n",
       "  'terms',\n",
       "  'of',\n",
       "  'the',\n",
       "  'project',\n",
       "  'gutenberg',\n",
       "  'license',\n",
       "  'included'],\n",
       " ['with', 'this', 'ebook', 'or', 'online', 'at', 'www'],\n",
       " ['gutenberg'],\n",
       " ['net'],\n",
       " ['title', 'the', 'adventures', 'of', 'sherlock', 'holmes'],\n",
       " ['author', 'arthur', 'conan', 'doyle']]"
      ]
     },
     "execution_count": 9,
     "metadata": {},
     "output_type": "execute_result"
    }
   ],
   "source": [
    "# Tokenize sentences in words\n",
    "word_list = [sentence.split() for sentence in sentence_list if len(sentence.split()) > 0]\n",
    "word_list[:10]"
   ]
  },
  {
   "cell_type": "code",
   "execution_count": 10,
   "metadata": {},
   "outputs": [],
   "source": [
    "# Count the words in a document and return the most N repeated\n",
    "def count_words(sentences, n):\n",
    "    words = Counter()\n",
    "    \n",
    "    for sent in sentences:\n",
    "        for word in sent:\n",
    "            words[word] += 1\n",
    "    \n",
    "    return words.most_common(n)"
   ]
  },
  {
   "cell_type": "code",
   "execution_count": 11,
   "metadata": {},
   "outputs": [
    {
     "data": {
      "text/html": [
       "<div>\n",
       "<style scoped>\n",
       "    .dataframe tbody tr th:only-of-type {\n",
       "        vertical-align: middle;\n",
       "    }\n",
       "\n",
       "    .dataframe tbody tr th {\n",
       "        vertical-align: top;\n",
       "    }\n",
       "\n",
       "    .dataframe thead th {\n",
       "        text-align: right;\n",
       "    }\n",
       "</style>\n",
       "<table border=\"1\" class=\"dataframe\">\n",
       "  <thead>\n",
       "    <tr style=\"text-align: right;\">\n",
       "      <th></th>\n",
       "      <th>word</th>\n",
       "      <th>quantity</th>\n",
       "    </tr>\n",
       "  </thead>\n",
       "  <tbody>\n",
       "    <tr>\n",
       "      <th>0</th>\n",
       "      <td>the</td>\n",
       "      <td>5636</td>\n",
       "    </tr>\n",
       "    <tr>\n",
       "      <th>1</th>\n",
       "      <td>i</td>\n",
       "      <td>3038</td>\n",
       "    </tr>\n",
       "    <tr>\n",
       "      <th>2</th>\n",
       "      <td>and</td>\n",
       "      <td>3020</td>\n",
       "    </tr>\n",
       "    <tr>\n",
       "      <th>3</th>\n",
       "      <td>to</td>\n",
       "      <td>2744</td>\n",
       "    </tr>\n",
       "    <tr>\n",
       "      <th>4</th>\n",
       "      <td>of</td>\n",
       "      <td>2661</td>\n",
       "    </tr>\n",
       "    <tr>\n",
       "      <th>5</th>\n",
       "      <td>a</td>\n",
       "      <td>2643</td>\n",
       "    </tr>\n",
       "    <tr>\n",
       "      <th>6</th>\n",
       "      <td>in</td>\n",
       "      <td>1766</td>\n",
       "    </tr>\n",
       "    <tr>\n",
       "      <th>7</th>\n",
       "      <td>that</td>\n",
       "      <td>1752</td>\n",
       "    </tr>\n",
       "    <tr>\n",
       "      <th>8</th>\n",
       "      <td>it</td>\n",
       "      <td>1737</td>\n",
       "    </tr>\n",
       "    <tr>\n",
       "      <th>9</th>\n",
       "      <td>you</td>\n",
       "      <td>1503</td>\n",
       "    </tr>\n",
       "  </tbody>\n",
       "</table>\n",
       "</div>"
      ],
      "text/plain": [
       "   word  quantity\n",
       "0   the      5636\n",
       "1     i      3038\n",
       "2   and      3020\n",
       "3    to      2744\n",
       "4    of      2661\n",
       "5     a      2643\n",
       "6    in      1766\n",
       "7  that      1752\n",
       "8    it      1737\n",
       "9   you      1503"
      ]
     },
     "execution_count": 11,
     "metadata": {},
     "output_type": "execute_result"
    }
   ],
   "source": [
    "# Get the most common words in the document\n",
    "n_words = count_words(word_list, 50)\n",
    "df = DataFrame.from_records(n_words, columns = ['word', 'quantity'])\n",
    "df.head(10)"
   ]
  },
  {
   "cell_type": "code",
   "execution_count": 12,
   "metadata": {},
   "outputs": [
    {
     "data": {
      "image/png": "[encoded data removed]",
      "text/plain": [
       "<Figure size 1296x432 with 1 Axes>"
      ]
     },
     "metadata": {
      "needs_background": "light"
     },
     "output_type": "display_data"
    }
   ],
   "source": [
    "# Plot the most common words in the document\n",
    "fig = plt.figure(figsize = (18, 6))\n",
    "sns.barplot(x = 'word', y = 'quantity', data = df)\n",
    "plt.title('The 50 Most Common Words in document')\n",
    "plt.show()"
   ]
  },
  {
   "cell_type": "markdown",
   "metadata": {},
   "source": [
    "**Stopwords:** refers to the most common words in a language, which do not significantly affect the meaning of the text."
   ]
  },
  {
   "cell_type": "code",
   "execution_count": 13,
   "metadata": {},
   "outputs": [
    {
     "name": "stdout",
     "output_type": "stream",
     "text": [
      "{'‘ll', 'eleven', 'while', 'bottom', 'cannot', 'himself', 'latter', 'keep', 'moreover', 'three', 'to', 'thereby', 'wherever', 'itself', 'onto', 'whole', 'may', \"'re\", 'really', 'becoming', 'elsewhere', 'his', 'sixty', 'mostly', 'so', 'whether', 'which', 'whither', 'fifteen', 'here', 'under', 'used', 'whenever', 'latterly', 'it', 'how', 'than', 'again', 'other', 'her', 'themselves', 'whoever', 'move', 'nevertheless', 'ten', 'everything', 'beforehand', 'on', '’ll', 'after', 'alone', 'ca', 'meanwhile', 'upon', 'whereas', 'such', 'might', 'above', 'some', 'their', 'empty', 'twenty', 'n’t', 'get', 'yourselves', 'around', 'sometimes', 'behind', 'had', 'go', 'was', 'somehow', '‘re', 'if', 'rather', \"'s\", 'has', 'third', 'hereupon', 'what', 'further', 'ours', 'am', 'however', 'seeming', 'top', 'or', 'herein', 'were', 'why', 'nor', 'made', 'except', 'nobody', 'these', 'anyway', 'still', 'became', 'due', 'much', 'thereupon', 'various', 'at', 'among', 'before', 'doing', 'five', 'must', 'regarding', 'yet', 'are', 'is', 'should', 'whatever', 'beyond', 'per', 'seem', '‘m', 'part', 'but', 'as', 'everywhere', 'say', 'quite', 'whence', 'will', 'another', 'perhaps', 'otherwise', 'therein', 'please', 'off', 'using', 'where', 'by', 'put', 'there', 'since', 'towards', 'throughout', 'out', 'have', 'n‘t', 'been', 'show', 'down', 'done', 'someone', 'thru', 'unless', 'every', 'mine', 'them', 'whom', 'now', 'over', 'others', '‘ve', 'beside', 'hers', 'anyhow', 'during', 'both', 'almost', 'hereby', 'then', 'your', 'did', 'along', 'formerly', 'six', 'whereupon', 'they', '’d', 'afterwards', 'give', 'in', 'being', 'its', 'besides', 'hence', 'because', 'our', 'does', 'ourselves', 'against', 'for', 'noone', 'she', 'this', 'with', 'would', 're', 'well', 'more', 'yours', '’re', 'none', 'often', 'thence', 'fifty', 'also', '’s', 'he', 'when', 'hundred', 'once', 'seemed', 'can', 'become', 'whereafter', 'either', 'call', 'most', 'us', 'becomes', 'many', 'take', 'neither', 'name', 'eight', 'who', 'back', 'herself', '‘s', 'within', 'less', 'anywhere', 'side', 'into', 'through', 'whereby', 'thereafter', 'from', 'not', 'two', 'make', 'the', '’m', 'first', '‘d', 'next', 'between', 'former', 'each', 'no', 'until', 'somewhere', 'seems', 'and', 'that', \"n't\", 'ever', 'though', 'else', 'enough', 'below', 'one', 'just', 'of', 'everyone', 'therefore', 'whose', \"'d\", 'anyone', 'four', 'very', 'all', 'full', 'thus', 'namely', 'via', 'see', 'could', \"'ve\", 'yourself', 'only', 'amongst', 'we', 'my', 'me', 'those', 'toward', \"'m\", \"'ll\", 'without', 'own', 'already', 'never', 'anything', 'least', 'together', 'nowhere', 'across', 'even', 'something', 'several', 'front', 'up', 'although', 'same', 'few', 'hereafter', 'forty', 'an', 'him', 'i', 'serious', 'do', 'sometime', 'you', 'too', '’ve', 'indeed', 'last', 'always', 'nothing', 'twelve', 'amount', 'a', 'myself', 'wherein', 'be', 'nine', 'about', 'any'}\n"
     ]
    }
   ],
   "source": [
    "# Get English stopwords\n",
    "stopwords_en = en.stop_words.STOP_WORDS\n",
    "print(stopwords_en)"
   ]
  },
  {
   "cell_type": "code",
   "execution_count": 14,
   "metadata": {},
   "outputs": [
    {
     "data": {
      "text/plain": [
       "[['project',\n",
       "  'gutenberg',\n",
       "  'adventures',\n",
       "  'sherlock',\n",
       "  'holmes',\n",
       "  'arthur',\n",
       "  'conan',\n",
       "  'doyle'],\n",
       " ['ebook', 'use', 'cost'],\n",
       " ['restrictions', 'whatsoever'],\n",
       " ['copy', 'away'],\n",
       " ['use', 'terms', 'project', 'gutenberg', 'license', 'included'],\n",
       " ['ebook', 'online', 'www'],\n",
       " ['gutenberg'],\n",
       " ['net'],\n",
       " ['title', 'adventures', 'sherlock', 'holmes'],\n",
       " ['author', 'arthur', 'conan', 'doyle']]"
      ]
     },
     "execution_count": 14,
     "metadata": {},
     "output_type": "execute_result"
    }
   ],
   "source": [
    "# Remove stopwords\n",
    "all_words = []\n",
    "for ix in range(len(word_list)):\n",
    "    all_words.append([word for word in word_list[ix] if (word not in stopwords_en and len(word) > 2)])\n",
    "\n",
    "all_words[:10]"
   ]
  },
  {
   "cell_type": "code",
   "execution_count": 15,
   "metadata": {},
   "outputs": [
    {
     "data": {
      "text/html": [
       "<div>\n",
       "<style scoped>\n",
       "    .dataframe tbody tr th:only-of-type {\n",
       "        vertical-align: middle;\n",
       "    }\n",
       "\n",
       "    .dataframe tbody tr th {\n",
       "        vertical-align: top;\n",
       "    }\n",
       "\n",
       "    .dataframe thead th {\n",
       "        text-align: right;\n",
       "    }\n",
       "</style>\n",
       "<table border=\"1\" class=\"dataframe\">\n",
       "  <thead>\n",
       "    <tr style=\"text-align: right;\">\n",
       "      <th></th>\n",
       "      <th>word</th>\n",
       "      <th>quantity</th>\n",
       "    </tr>\n",
       "  </thead>\n",
       "  <tbody>\n",
       "    <tr>\n",
       "      <th>0</th>\n",
       "      <td>said</td>\n",
       "      <td>486</td>\n",
       "    </tr>\n",
       "    <tr>\n",
       "      <th>1</th>\n",
       "      <td>holmes</td>\n",
       "      <td>465</td>\n",
       "    </tr>\n",
       "    <tr>\n",
       "      <th>2</th>\n",
       "      <td>man</td>\n",
       "      <td>305</td>\n",
       "    </tr>\n",
       "    <tr>\n",
       "      <th>3</th>\n",
       "      <td>little</td>\n",
       "      <td>269</td>\n",
       "    </tr>\n",
       "    <tr>\n",
       "      <th>4</th>\n",
       "      <td>think</td>\n",
       "      <td>174</td>\n",
       "    </tr>\n",
       "    <tr>\n",
       "      <th>5</th>\n",
       "      <td>room</td>\n",
       "      <td>171</td>\n",
       "    </tr>\n",
       "    <tr>\n",
       "      <th>6</th>\n",
       "      <td>know</td>\n",
       "      <td>170</td>\n",
       "    </tr>\n",
       "    <tr>\n",
       "      <th>7</th>\n",
       "      <td>shall</td>\n",
       "      <td>169</td>\n",
       "    </tr>\n",
       "    <tr>\n",
       "      <th>8</th>\n",
       "      <td>come</td>\n",
       "      <td>161</td>\n",
       "    </tr>\n",
       "    <tr>\n",
       "      <th>9</th>\n",
       "      <td>time</td>\n",
       "      <td>151</td>\n",
       "    </tr>\n",
       "  </tbody>\n",
       "</table>\n",
       "</div>"
      ],
      "text/plain": [
       "     word  quantity\n",
       "0    said       486\n",
       "1  holmes       465\n",
       "2     man       305\n",
       "3  little       269\n",
       "4   think       174\n",
       "5    room       171\n",
       "6    know       170\n",
       "7   shall       169\n",
       "8    come       161\n",
       "9    time       151"
      ]
     },
     "execution_count": 15,
     "metadata": {},
     "output_type": "execute_result"
    }
   ],
   "source": [
    "# Get the most common words in the document after removing the stopwords\n",
    "n_words = count_words(all_words, 50)\n",
    "df = DataFrame.from_records(n_words, columns = ['word', 'quantity'])\n",
    "df.head(10)"
   ]
  },
  {
   "cell_type": "code",
   "execution_count": 16,
   "metadata": {},
   "outputs": [
    {
     "data": {
      "image/png": "[encoded data removed]",
      "text/plain": [
       "<Figure size 1296x432 with 1 Axes>"
      ]
     },
     "metadata": {
      "needs_background": "light"
     },
     "output_type": "display_data"
    }
   ],
   "source": [
    "# Plot the most common words in the document after removing the stopwords\n",
    "fig = plt.figure(figsize = (18, 6))\n",
    "sns.barplot(x = 'word', y = 'quantity', data = df)\n",
    "plt.title('The 50 Most Common Words in document')\n",
    "plt.show()"
   ]
  },
  {
   "cell_type": "markdown",
   "metadata": {},
   "source": [
    "### Step 3 - Create a Word2Vec model"
   ]
  },
  {
   "cell_type": "code",
   "execution_count": 17,
   "metadata": {},
   "outputs": [],
   "source": [
    "# Create Word2Vec model\n",
    "w2v_model = Word2Vec(all_words, min_count = 2)"
   ]
  },
  {
   "cell_type": "markdown",
   "metadata": {},
   "source": [
    "**Vocabulary:** unique words of the document."
   ]
  },
  {
   "cell_type": "code",
   "execution_count": 18,
   "metadata": {},
   "outputs": [
    {
     "data": {
      "text/plain": [
       "4072"
      ]
     },
     "execution_count": 18,
     "metadata": {},
     "output_type": "execute_result"
    }
   ],
   "source": [
    "# Show vocabulary size: unique words occurring at least twice\n",
    "vocabulary = w2v_model.wv.vocab  \n",
    "len(vocabulary)"
   ]
  },
  {
   "cell_type": "code",
   "execution_count": 19,
   "metadata": {},
   "outputs": [
    {
     "data": {
      "text/plain": [
       "array([ 2.8449595e-03, -4.9694366e-04,  1.9230103e-03,  4.0492006e-03,\n",
       "        1.0729039e-03, -2.5723472e-03,  5.4888036e-03, -3.7692313e-03,\n",
       "       -7.4848642e-05, -1.6766953e-03,  1.7807762e-03, -1.6892144e-03,\n",
       "        2.5574917e-03,  2.1110116e-04,  3.0710178e-03,  3.1984823e-03,\n",
       "        3.2331848e-03,  2.7966057e-03,  3.1579782e-03,  1.3582964e-03,\n",
       "       -2.0590653e-03,  2.4833903e-03,  2.9446464e-04,  2.0955815e-03,\n",
       "        3.5245351e-03,  1.3824453e-03, -1.3032445e-03,  4.8048627e-03,\n",
       "        1.8905426e-03, -4.1177152e-03,  5.3840424e-03,  3.9010916e-03,\n",
       "        5.1269173e-03,  4.2400818e-04, -2.0349710e-03, -3.8327286e-03,\n",
       "       -2.0516610e-03, -3.9965967e-03,  2.5268099e-03, -1.2546158e-03,\n",
       "        3.9905938e-03, -5.4420991e-04, -7.6779717e-04, -4.2339549e-03,\n",
       "       -2.8023152e-03, -8.9949672e-04, -2.5319629e-03, -5.5303420e-03,\n",
       "       -3.2150629e-03,  5.1356154e-03, -4.9937009e-03, -2.8191484e-04,\n",
       "        9.7763329e-04, -3.1506915e-03,  2.5469938e-03,  1.3207507e-03,\n",
       "        3.1148709e-04,  4.3498762e-03,  5.2407000e-04, -1.2459328e-03,\n",
       "        8.4624614e-04, -1.6040873e-03,  8.7911281e-04, -4.0397691e-03,\n",
       "       -9.0108102e-04, -3.5283726e-03, -1.6270311e-03,  3.1947384e-03,\n",
       "       -9.6376200e-04, -3.5352944e-03, -3.8870417e-03, -1.7466254e-03,\n",
       "       -3.2097468e-04,  2.6903613e-03,  4.2513735e-04, -3.3527166e-03,\n",
       "        2.4551398e-04,  3.2865391e-03,  3.2840662e-03, -4.0097436e-04,\n",
       "       -4.7572777e-03, -1.2515705e-03, -2.3117797e-03,  8.3367218e-04,\n",
       "       -5.5916058e-03,  3.1234799e-03,  4.5684292e-03,  1.7478068e-04,\n",
       "       -1.6598348e-03,  1.1321295e-03, -4.2953067e-03,  1.0541234e-03,\n",
       "        4.6791085e-03,  1.9311790e-03, -4.2412737e-03, -2.9575401e-03,\n",
       "       -2.2138522e-03, -1.8380523e-03,  2.2053844e-03,  3.2701399e-03],\n",
       "      dtype=float32)"
      ]
     },
     "execution_count": 19,
     "metadata": {},
     "output_type": "execute_result"
    }
   ],
   "source": [
    "# Show 'project' vector\n",
    "w2v_model.wv['project']"
   ]
  },
  {
   "cell_type": "markdown",
   "metadata": {},
   "source": [
    "**Similar Words:** Words more similar in terms of meaning and context."
   ]
  },
  {
   "cell_type": "code",
   "execution_count": 20,
   "metadata": {},
   "outputs": [
    {
     "data": {
      "text/plain": [
       "[('soon', 0.4715343415737152),\n",
       " ('think', 0.470091849565506),\n",
       " ('hall', 0.4661974310874939),\n",
       " ('cry', 0.4632185399532318),\n",
       " ('matter', 0.45925986766815186)]"
      ]
     },
     "execution_count": 20,
     "metadata": {},
     "output_type": "execute_result"
    }
   ],
   "source": [
    "# Finding Positive Similar Words\n",
    "sim_words_pos = w2v_model.wv.most_similar(positive = ['engineer'], topn = 5)\n",
    "sim_words_pos"
   ]
  },
  {
   "cell_type": "code",
   "execution_count": 21,
   "metadata": {},
   "outputs": [
    {
     "data": {
      "text/plain": [
       "[('affected', 0.33061444759368896),\n",
       " ('group', 0.2769841253757477),\n",
       " ('florida', 0.2563122510910034),\n",
       " ('flashed', 0.25461259484291077),\n",
       " ('daresay', 0.25313204526901245)]"
      ]
     },
     "execution_count": 21,
     "metadata": {},
     "output_type": "execute_result"
    }
   ],
   "source": [
    "# Finding Negative Similar Words\n",
    "sim_words_neg = w2v_model.wv.most_similar(negative = ['engineer'], topn = 5)\n",
    "sim_words_neg"
   ]
  },
  {
   "cell_type": "markdown",
   "metadata": {},
   "source": [
    "<hr>\n",
    "<p><a href=\"https://github.com/ansegura7/NLP/\">« Home</a></p>"
   ]
  }
 ],
 "metadata": {
  "kernelspec": {
   "display_name": "Python 3",
   "language": "python",
   "name": "python3"
  },
  "language_info": {
   "codemirror_mode": {
    "name": "ipython",
    "version": 3
   },
   "file_extension": ".py",
   "mimetype": "text/x-python",
   "name": "python",
   "nbconvert_exporter": "python",
   "pygments_lexer": "ipython3",
   "version": "3.6.8"
  }
 },
 "nbformat": 4,
 "nbformat_minor": 2
}
