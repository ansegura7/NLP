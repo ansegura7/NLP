{
 "cells": [
  {
   "cell_type": "markdown",
   "metadata": {},
   "source": [
    "# Natural Language Processing with spaCy"
   ]
  },
  {
   "cell_type": "markdown",
   "metadata": {},
   "source": [
    "- **Created by Andrés Segura Tinoco**\n",
    "- **Created on June 04, 2019**"
   ]
  },
  {
   "cell_type": "markdown",
   "metadata": {},
   "source": [
    "Natural language processing (NLP) is a discipline where computer science, artificial intelligence and cognitive logic are intercepted, with the objective that machines can read and understand our language for decision making."
   ]
  },
  {
   "cell_type": "markdown",
   "metadata": {},
   "source": [
    "## Example with a document in Spanish"
   ]
  },
  {
   "cell_type": "code",
   "execution_count": 1,
   "metadata": {},
   "outputs": [],
   "source": [
    "# Load Python libraries\n",
    "import io\n",
    "from collections import Counter"
   ]
  },
  {
   "cell_type": "code",
   "execution_count": 2,
   "metadata": {},
   "outputs": [],
   "source": [
    "# Load NLP libraries from spacy\n",
    "import spacy"
   ]
  },
  {
   "cell_type": "markdown",
   "metadata": {},
   "source": [
    "### Step 1 - Read natural text from a book"
   ]
  },
  {
   "cell_type": "code",
   "execution_count": 3,
   "metadata": {},
   "outputs": [],
   "source": [
    "# Util function to read a plain text file\n",
    "def read_text_file(file_path):\n",
    "    text = \"\"\n",
    "    with io.open(file_path, 'r', encoding = 'ISO-8859-1') as f:\n",
    "        text = f.read()\n",
    "    \n",
    "    return text;"
   ]
  },
  {
   "cell_type": "code",
   "execution_count": 4,
   "metadata": {},
   "outputs": [],
   "source": [
    "# Get text sample\n",
    "file_path = \"../data/es/El Grillo del Hogar - Charles Dickens.txt\"\n",
    "book_text = read_text_file(file_path)"
   ]
  },
  {
   "cell_type": "code",
   "execution_count": 5,
   "metadata": {},
   "outputs": [
    {
     "data": {
      "text/plain": [
       "'El grillo del hogar\\n(The Cricket of the Heard)\\nde\\n\\nCharles Dickens\\nEste libro electrónico es cortesía de\\n\\nhttp://www.dominiopublico.es\\nPrimer grito\\nCapítulo I\\nCapítulo II\\nCapítulo III\\nCapítulo IV\\nCapítulo V\\nCapítulo VI\\nSegundo grito\\nCapítulo I\\nCapítulo II\\nCapítulo III\\nCapítulo IV\\nCapítulo V\\nCapítulo VI\\nTercer grito\\nCapítulo I\\nCapítulo II\\nCapítulo III\\nCapítulo IV\\nCapítulo V\\nCapítulo VI\\n\\nPrimer grito\\n- I -\\nEmpezó el puchero. No necesito que me contéis lo que la señora Peerybingle dijera; yo me entiendo. Dejad que la señora Peerybingle se pase hasta la consumación de los siglos asegurando la imposibilidad de decidir cuál empezó: yo digo que fue el puchero. Tengo motivos para saberlo. El puchero empezó cinco minutos antes que el grillo, según el relojito holandés de cuadrante barnizado situado en el rincón.\\n¡Como si el reloj no hubiese cesado de tocar! ¡Como si el segadorcido de movimientos convulsivos y bruscos que lo remata, paseando la hoz de derecha a izquierda y luego de izquierda a d'"
      ]
     },
     "execution_count": 5,
     "metadata": {},
     "output_type": "execute_result"
    }
   ],
   "source": [
    "# Show first 1000 characters of document\n",
    "book_text[:1000]"
   ]
  },
  {
   "cell_type": "markdown",
   "metadata": {},
   "source": [
    "### Step 2 - Create a NLP model"
   ]
  },
  {
   "cell_type": "code",
   "execution_count": 6,
   "metadata": {},
   "outputs": [],
   "source": [
    "# Create NLP model for spanish language\n",
    "nlp = spacy.load('es')\n",
    "doc_es = nlp(book_text)"
   ]
  },
  {
   "cell_type": "markdown",
   "metadata": {},
   "source": [
    "**Vocabulary:** unique words of the document."
   ]
  },
  {
   "cell_type": "code",
   "execution_count": 7,
   "metadata": {},
   "outputs": [
    {
     "data": {
      "text/plain": [
       "5630"
      ]
     },
     "execution_count": 7,
     "metadata": {},
     "output_type": "execute_result"
    }
   ],
   "source": [
    "# Get vocabulary\n",
    "vocabulary_es = list(set(str(token).lower() for token in doc_es if not token.is_stop and token.is_alpha))\n",
    "len(vocabulary_es)"
   ]
  },
  {
   "cell_type": "code",
   "execution_count": 8,
   "metadata": {},
   "outputs": [
    {
     "name": "stdout",
     "output_type": "stream",
     "text": [
      "['encuentro', 'salir', 'absurdas', 'choques', 'engañaréis', 'partes', 'pasando', 'américas', 'gentes', 'tendremos', 'desenvolverse', 'llenó', 'significado', 'contenido', 'calificativo', 'caer', 'desconocidas', 'partido', 'pudiese', 'abrigo', 'programa', 'encanta', 'rebosantes', 'tac', 'semejanza', 'viaje', 'amueblada', 'sucesivas', 'agradaría', 'acho', 'entendéis', 'ventanas', 'gesto', 'querido', 'imperfecta', 'incoherente', 'envuelto', 'arreglar', 'conjunto', 'instalada', 'apasionado', 'pesa', 'solemnizar', 'benigno', 'césped', 'rinconcito', 'barcazas', 'ropón', 'ganado', 'horriblemente', 'malignidad', 'gozosa', 'borracho', 'haberse', 'proposición', 'tantas', 'incertidumbre', 'encerrarla', 'sale', 'arrancáronle', 'o', 'lanza', 'guardaba', 'apartaré', 'feos', 'marcharse', 'cancioncilla', 'rogó', 'oían', 'harta', 'buscando', 'pisadas', 'legumbres', 'reunía', 'conferencias', 'puntapiés', 'espantó', 'simpatía', 'camisa', 'aguardar', 'bandeja', 'montón', 'inadvertidas', 'piscolabis', 'abandonaban', 'soplar', 'absorbido', 'desahogando', 'cogida', 'consolarse', 'particularísimo', 'amplio', 'tuviese', 'ruedas', 'vivacidad', 'aprovechándose', 'encontraría', 'pasándola', 'pronunciando', 'digno', 'semejantes', 'alcanzarla', 'falsos', 'alambre', 'espectáculo', 'asegurar', 'aligerar', 'concentrando', 'echó', 'olvidado', 'celo', 'oídme', 'enumerar', 'buscarle', 'contemplación', 'colocación', 'pregunta', 'formal', 'iniciar', 'canta', 'acordaos', 'átomo', 'colocándoselos', 'recibir', 'millas', 'asunto', 'belleza', 'saco', 'notábase', 'enviaré', 'secar', 'anteojos', 'sonámbulo', 'sang', 'susodicha', 'corrían', 'título', 'dejándome', 'franela', 'haciéndole', 'aviso', 'escabel', 'apartando', 'particular', 'juzgaba', 'mordisqueando', 'a', 'cantata', 'silenciosa', 'conversación', 'interrumpida', 'slowboy', 'pensamientos', 'admira', 'hombros', 'podíais', 'colmo', 'puesta', 'estudio', 'variose', 'dejado', 'milla', 'rama', 'podía', 'entrase', 'espadas', 'ansiedad', 'of', 'alzan', 'innegable', 'vivientes', 'intentaba', 'reproducían', 'dulcemente', 'ii', 'estuviese', 'demasiada', 'presentaban', 'padeciendo', 'escuchado', 'fuésemos', 'dichosos', 'brillante', 'aprisa', 'sillita', 'representado', 'originado', 'viola', 'm', 'trombones', 'niñez', 'iría', 'trazarse', 'caracol', 'ocurre', 'rota', 'creciente', 'mimada', 'seguiremos', 'estancia']\n"
     ]
    }
   ],
   "source": [
    "# Show vocabulary\n",
    "print(vocabulary_es[0:200])"
   ]
  },
  {
   "cell_type": "markdown",
   "metadata": {},
   "source": [
    "**Stopwords:** refers to the most common words in a language, which do not significantly affect the meaning of the text."
   ]
  },
  {
   "cell_type": "code",
   "execution_count": 9,
   "metadata": {},
   "outputs": [
    {
     "data": {
      "text/plain": [
       "416"
      ]
     },
     "execution_count": 9,
     "metadata": {},
     "output_type": "execute_result"
    }
   ],
   "source": [
    "# Get unique stop-words\n",
    "stop_words_es = list(set(str(token).lower() for token in doc_es if token.is_stop))\n",
    "len(stop_words_es)"
   ]
  },
  {
   "cell_type": "code",
   "execution_count": 10,
   "metadata": {},
   "outputs": [
    {
     "name": "stdout",
     "output_type": "stream",
     "text": [
      "['más', 'ejemplo', 'trata', 'siguiente', 'ahora', 'propio', 'van', 'cuál', 'encuentra', 'allí', 'anterior', 'para', 'realizado', 'valor', 'donde', 'hemos', 'debido', 'ésta', 'adelante', 'hacemos', 'deben', 'habían', 'después', 'sino', 'saber', 'cuántos', 'últimas', 'día', 'desde', 'última', 'sabemos', 'trabajar', 'del', 'ninguna', 'principalmente', 'mismos', 'mía', 'parece', 'muchas', 'hay', 'nuevo', 'existen', 'no', 'quizá', 'ser', 'como', 'quienes', 'verdadero', 'nosotras', 'conmigo', 'era', 'cierto', 'detrás', 'alrededor', 'vuestro', 'he', 'cinco', 'las', 'ambos', 'ellas', 'demás', 'eso', 'el', 'soy', 'voy', 'dos', 'igual', 'fuera', 'tuyos', 'este', 'sin', 'modo', 'por', 'aun', 'cualquier', 'dijeron', 'si', 'ellos', 'claro', 'llevar', 'ver', 'casi', 'algunos', 'pues', 'contra', 'todavía', 'creo', 'mí', 'mismas', 'parte', 'unas', 'estar', 'misma', 'estaba', 'bien', 'quiere', 'muchos', 'han', 'porque', 'temprano', 'próximos', 'hasta', 'lado', 'ti', 'están', 'aquélla', 'entre', 'general', 'tampoco', 'ayer', 'menos', 'se', 'hicieron', 'propias', 'partir', 'va', 'uso', 'da', 'dar', 'uno', 'esta', 'te', 'decir', 'trabajo', 'lejos', 'nuevos', 'tiene', 'expresó', 'también', 'fue', 'mas', 'trabajan', 'poco', 'cerca', 'estuvo', 'míos', 'pocos', 'podemos', 'propios', 'durante', 'toda', 'nueva', 'aún', 'hacia', 'cuantos', 'mío', 'su', 'vuestros', 'pasado', 'nuestra', 'pocas', 'cómo', 'vosotros', 'horas', 'respecto', 'mejor', 'pueden', 'vaya', 'vuestras', 'tercera', 'así', 'tenemos', 'menudo', 'bastante', 'estas', 'esas', 'entonces', 'aunque', 'cada', 'será', 'habrá', 'acuerdo', 'cuándo', 'ha', 'final', 'nosotros', 'tras', 'tarde', 'ningunos', 'solos', 'explicó', 'ello', 'tanto', 'vuestra', 'sea', 'otros', 'hizo', 'manera', 'ese', 'quiénes', 'os', 'ir', 'buen', 'todo', 'está', 'aquellos', 'ésa', 'siempre', 'podrían', 'suyo', 'dio', 'sé', 'aquí', 'gran', 'esos', 'incluso', 'solo', 'veces', 'pueda', 'mis', 'haciendo', 'son', 'vais', 'ni', 'ella', 'poca', 'ustedes', 'éste', 'esto', 'cuando', 'otro', 'les', 'breve', 'estos', 'tengo', 'primero', 'delante', 'hacerlo', 'sería', 'través', 'sigue', 'demasiado', 'quién', 'puede', 'mayor', 'último', 'pero', 'cierta', 'tus', 'algunas', 'alguna', 'quedó', 'bajo', 'tan', 'momento', 'la', 'mediante', 'saben', 'un', 'junto', 'mi', 'varias', 'dice', 'sola', 'dónde', 'que', 'estado', 'sabe', 'además', 'estoy', 'le', 'tener', 'excepto', 'dicho', 'sí', 'nuevas', 'ciertas', 'pasada', 'cuánto', 'quien', 'sobre', 'días', 'algún', 'fui', 'antes', 'nuestro', 'luego', 'tenga', 'realizar', 'consigo', 'éstos', 'poner', 'alguno', 'estaban', 'primer', 'eran', 'ya', 'solamente', 'nuestras', 'pesar', 'próximo', 'mucho', 'estará', 'somos', 'buena', 'haya', 'dado', 'medio', 'grandes', 'puedo', 'en', 'encima', 'suyas', 'primera', 'tres', 'debajo', 'muy', 'sean', 'habla', 'mismo', 'podrá', 'hacer', 'dejó', 'vez', 'siendo', 'vamos', 'usar', 'tiempo', 'cuantas', 'segunda', 'lugar', 'cual', 'mal', 'nada', 'cuenta', 'nos', 'dentro', 'ningún', 'aquella', 'tenido', 'pudo', 'bueno', 'me', 'una', 'tuvo', 'manifestó', 'según', 'ante', 'diferente', 'todas', 'podría', 'dicen', 'suya', 'dijo', 'cuatro', 'estamos', 'seis', 'yo', 'añadió', 'cuanto', 'aquél', 'señaló', 'qué', 'al', 'usted', 'debe', 'otras', 'mientras', 'poder', 'buenos', 'solas', 'esa', 'dan', 'él', 'nadie', 'tu', 'verdad', 'con', 'ahí', 'algo', 'apenas', 'de', 'sois', 'aquel', 'sus', 'realizó', 'existe', 'tendrá', 'hubo', 'tienen', 'propia', 'ciertos', 'unos', 'sólo', 'cosas', 'todos', 'verdadera', 'posible', 'peor', 'lo', 'había', 'dieron', 'los', 'arriba', 'otra', 'buenas', 'hecho', 'fin', 'nunca', 'hace', 'tal', 'es', 'raras', 'pronto', 'mucha', 'hoy', 'cuales', 'llegó', 'fueron', 'largo', 'haber', 'sido', 'segundo', 'indicó', 'tenía', 'conocer']\n"
     ]
    }
   ],
   "source": [
    "# Show unique stop-words\n",
    "print(stop_words_es)"
   ]
  },
  {
   "cell_type": "code",
   "execution_count": 11,
   "metadata": {},
   "outputs": [
    {
     "name": "stdout",
     "output_type": "stream",
     "text": [
      "1 - Entity: The Cricket of the Heard , Label: MISC\n",
      "2 - Entity: Charles DickensEste , Label: PER\n",
      "3 - Entity: Capítulo ICapítulo IICapítulo IIICapítulo IV , Label: PER\n",
      "4 - Entity: Primer grito , Label: MISC\n",
      "6 - Entity: No necesito que me contéis , Label: MISC\n",
      "7 - Entity: Peerybingle dijera , Label: MISC\n",
      "8 - Entity: Dejad , Label: MISC\n",
      "9 - Entity: Peerybingle , Label: MISC\n",
      "10 - Entity: Tengo , Label: MISC\n",
      "11 - Entity: El puchero empezó , Label: MISC\n",
      "13 - Entity: Por nada del mundo opondría mi opinión , Label: MISC\n",
      "14 - Entity: Peerybingle , Label: MISC\n",
      "15 - Entity: Pero se trata de una cuestión de hecho , Label: MISC\n",
      "16 - Entity: Si insistís , Label: MISC\n",
      "17 - Entity: ¿cómo , Label: MISC\n",
      "18 - Entity: Una lucha musical , Label: MISC\n",
      "19 - Entity: Vais , Label: LOC\n",
      "20 - Entity: Euclides , Label: PER\n",
      "21 - Entity: La señora Peerybingle , Label: MISC\n",
      "22 - Entity: De vuelta ya , Label: MISC\n",
      "23 - Entity: Peerybingle , Label: MISC\n",
      "24 - Entity: Entonces perdió su sangre fría , Label: MISC\n",
      "25 - Entity: Peerybingle , Label: MISC\n",
      "26 - Entity: No quería dejarse acomodar sobre la barra superior de la rejilla , Label: MISC\n",
      "27 - Entity: Hay más: la tapadera , Label: MISC\n",
      "28 - Entity: Peerybingle , Label: MISC\n",
      "29 - Entity: El cascarón del Royal , Label: MISC\n",
      "30 - Entity: George , Label: PER\n",
      "31 - Entity: Peerybingle , Label: MISC\n",
      "32 - Entity: Peerybingle , Label: MISC\n",
      "33 - Entity: Nadie me forzará a hervir» , Label: MISC\n",
      "34 - Entity: Peerybingle , Label: MISC\n",
      "35 - Entity: No obstante , Label: MISC\n",
      "36 - Entity: Pero hay que notar , Label: MISC\n",
      "37 - Entity: Cuando el cuclillo , Label: MISC\n",
      "38 - Entity: En efecto , Label: MISC\n",
      "39 - Entity: En aquel momento el puchero , Label: MISC\n",
      "40 - Entity: En aquel momento , Label: MISC\n",
      "42 - Entity: Habríais , Label: PER\n",
      "43 - Entity: La señora Peerybingle , Label: MISC\n",
      "45 - Entity: No es más , Label: MISC\n",
      "46 - Entity: El vasto llano , Label: MISC\n",
      "47 - Entity: El poste indicador está cubierto de escarcha , Label: MISC\n",
      "48 - Entity: La lluvia , Label: MISC\n",
      "50 - Entity: Perseveró , Label: ORG\n"
     ]
    }
   ],
   "source": [
    "# Returns a text with data quality\n",
    "def text_quality(text):\n",
    "    new_text = text.replace('\\n', '')\n",
    "    return new_text.strip('\\r\\n')\n",
    "\n",
    "# Print out named first 50 entities\n",
    "for ix in range(50):\n",
    "    ent = doc_es.ents[ix]\n",
    "    ent_text = text_quality(ent.text)\n",
    "    \n",
    "    if len(ent_text) > 3:\n",
    "        print((ix + 1), '- Entity:', ent_text, ', Label:', ent.label_)"
   ]
  },
  {
   "cell_type": "markdown",
   "metadata": {},
   "source": [
    "### Step 3 - Working with POS and sentences"
   ]
  },
  {
   "cell_type": "markdown",
   "metadata": {},
   "source": [
    "**POS**: the parts of speech explain how a word is used in a sentence."
   ]
  },
  {
   "cell_type": "code",
   "execution_count": 12,
   "metadata": {},
   "outputs": [
    {
     "data": {
      "text/plain": [
       "{'ADJ',\n",
       " 'ADP',\n",
       " 'ADV',\n",
       " 'AUX',\n",
       " 'CONJ',\n",
       " 'DET',\n",
       " 'INTJ',\n",
       " 'NOUN',\n",
       " 'NUM',\n",
       " 'PART',\n",
       " 'PRON',\n",
       " 'PROPN',\n",
       " 'PUNCT',\n",
       " 'SCONJ',\n",
       " 'SPACE',\n",
       " 'SYM',\n",
       " 'VERB'}"
      ]
     },
     "execution_count": 12,
     "metadata": {},
     "output_type": "execute_result"
    }
   ],
   "source": [
    "# Part of speech (POS) used in this document\n",
    "set(token.pos_ for token in doc_es)"
   ]
  },
  {
   "cell_type": "markdown",
   "metadata": {},
   "source": [
    "**Sentences:** a set of words that is complete in itself and typically containing a subject and predicate."
   ]
  },
  {
   "cell_type": "code",
   "execution_count": 13,
   "metadata": {},
   "outputs": [
    {
     "data": {
      "text/plain": [
       "1621"
      ]
     },
     "execution_count": 13,
     "metadata": {},
     "output_type": "execute_result"
    }
   ],
   "source": [
    "# How many sentences are in this text?\n",
    "sentences = [s for s in doc_es.sents]\n",
    "len(sentences)"
   ]
  },
  {
   "cell_type": "code",
   "execution_count": 14,
   "metadata": {},
   "outputs": [
    {
     "data": {
      "text/plain": [
       "[No necesito que me contéis lo que la señora Peerybingle dijera; yo me entiendo.,\n",
       " Dejad que la señora Peerybingle se pase hasta la consumación de los siglos asegurando la imposibilidad de decidir cuál empezó: yo digo que fue el puchero.,\n",
       " Tengo motivos para saberlo.,\n",
       " El puchero empezó cinco minutos antes que el grillo, según el relojito holandés de cuadrante barnizado situado en el rincón.,\n",
       " ¡Como si el reloj no hubiese cesado de tocar! ¡Como si el segadorcido de movimientos convulsivos y bruscos que lo remata, paseando la hoz de derecha a izquierda y luego de izquierda a derecha ante la fachada de su palacio morisco, no hubiese segado medio acre de césped imaginario antes que el grillo hubiese hecho notar su presencia!,\n",
       " A decir verdad, no fui nunca terco, como todo el mundo sabe.,\n",
       " Por nada del mundo opondría mi opinión personal a la opinión de la señora Peerybingle, si no estuviese perfectamente seguro de lo ocurrido.,\n",
       " «Nada me induciría a semejante cosa.,\n",
       " Pero se trata de una cuestión de hecho, y el hecho es que el puchero empezó por lo menos cinco minutos antes que el grillo hubiese dado señal de vida.,\n",
       " Si insistís, apostaré que transcurrieron diez minutos.]"
      ]
     },
     "execution_count": 14,
     "metadata": {},
     "output_type": "execute_result"
    }
   ],
   "source": [
    "# Show first 10 sentences\n",
    "sentences[1:11]"
   ]
  },
  {
   "cell_type": "code",
   "execution_count": 15,
   "metadata": {},
   "outputs": [
    {
     "data": {
      "text/plain": [
       "48"
      ]
     },
     "execution_count": 15,
     "metadata": {},
     "output_type": "execute_result"
    }
   ],
   "source": [
    "# Get the sentences in which the 'grillo' appears\n",
    "cricket_sent = [sent for sent in doc_es.sents if 'grillo' in sent.string]\n",
    "len(cricket_sent)"
   ]
  },
  {
   "cell_type": "code",
   "execution_count": 16,
   "metadata": {},
   "outputs": [
    {
     "data": {
      "text/plain": [
       "[El puchero empezó cinco minutos antes que el grillo, según el relojito holandés de cuadrante barnizado situado en el rincón.,\n",
       " ¡Como si el reloj no hubiese cesado de tocar! ¡Como si el segadorcido de movimientos convulsivos y bruscos que lo remata, paseando la hoz de derecha a izquierda y luego de izquierda a derecha ante la fachada de su palacio morisco, no hubiese segado medio acre de césped imaginario antes que el grillo hubiese hecho notar su presencia!,\n",
       " Pero se trata de una cuestión de hecho, y el hecho es que el puchero empezó por lo menos cinco minutos antes que el grillo hubiese dado señal de vida.,\n",
       " Parecía que la vasija y el grillo luchaban.,\n",
       " La lluvia congelada hace resbaladizo el camino; más abajo el agua no se ha convertido del todo en hielo, pero ya no es libre; nada conserva su forma natural; pero ¡él viene, él viene, él viene!\n",
       " Aquí, precisamente en este punto, fue cuando el grillo entró en escena con un crrri, crrri, crrri, de magnífica potencia a coro con el puchero; pero con una voz tan asombradamente desproporcionada a su estatura -¡su estatura!, era casi invisible-, sobre todo comparándole con el puchero, que si por desgracia hubiese reventado como un cañón excesivamente cargado, cayendo, víctima de su celo, su cuerpecito roto en mil fragmentos, no hubiera parecido sino la consecuencia natural y perseguida con su trabajo afanoso.,\n",
       " Perseveró con ardor constante; pero el grillo se erigió en concertino y se mantuvo en su supremacía.,\n",
       " No obstante, marchaban muy bien unidos el grillo y el puchero.,\n",
       " Cuando volvió a sentarse en su sitio, el grillo y el puchero se esmeraban todavía en el canto con cierta rivalidad furiosa, siendo indudablemente el lado flaco del puchero la presunción de vencer constantemente.,\n",
       " El grillo logra una milla de delantera.,\n",
       " ¡Crrri, crrri, crrri!..., el grillo dobla la esquina.]"
      ]
     },
     "execution_count": 16,
     "metadata": {},
     "output_type": "execute_result"
    }
   ],
   "source": [
    "# Show the first 10 sentences in which the 'grillo' appears\n",
    "cricket_sent[1:11]"
   ]
  },
  {
   "cell_type": "code",
   "execution_count": 17,
   "metadata": {},
   "outputs": [],
   "source": [
    "# Returns the most common entities and their quantity\n",
    "def find_entities(doc, ent_type, n):\n",
    "    entities = Counter()\n",
    "    \n",
    "    for ent in doc.ents:\n",
    "        if ent.label_ == ent_type:\n",
    "            ent_name = text_quality(ent.lemma_)\n",
    "            entities[ent_name] += 1\n",
    "    \n",
    "    return entities.most_common(n)"
   ]
  },
  {
   "cell_type": "code",
   "execution_count": 18,
   "metadata": {},
   "outputs": [
    {
     "data": {
      "text/plain": [
       "[('John', 132),\n",
       " ('Dot', 82),\n",
       " ('May', 38),\n",
       " ('Tackleton', 38),\n",
       " ('Berta', 32),\n",
       " ('John Peerybingle', 16),\n",
       " ('Tilly', 14),\n",
       " ('Fielding', 10),\n",
       " ('Boxer', 8),\n",
       " ('Dots', 8),\n",
       " ('John !', 7),\n",
       " ('Caleb Plummer', 7),\n",
       " ('Eduardo', 7),\n",
       " ('Dios', 5),\n",
       " ('¿', 5),\n",
       " ('Gruff', 5),\n",
       " ('Dot-', 5),\n",
       " ('Pero', 4),\n",
       " ('Nada', 4),\n",
       " ('May Fielding', 4)]"
      ]
     },
     "execution_count": 18,
     "metadata": {},
     "output_type": "execute_result"
    }
   ],
   "source": [
    "# Show entities of type PERSON\n",
    "find_entities(doc_es, 'PER', 20)"
   ]
  },
  {
   "cell_type": "code",
   "execution_count": 19,
   "metadata": {},
   "outputs": [],
   "source": [
    "# Returns persons adjectives\n",
    "def get_person_adj(doc, person):\n",
    "    adjectives = []\n",
    "    \n",
    "    for ent in doc.ents:\n",
    "        if ent.lemma_ == person:\n",
    "            for token in ent.subtree:\n",
    "                if token.pos_ == 'ADJ': # Adjective\n",
    "                    adjectives.append(token.lemma_)\n",
    "    \n",
    "    for ent in doc.ents:\n",
    "        if ent.lemma_ == person:\n",
    "            if ent.root.dep_ == 'nsubj': # Nominal subject\n",
    "                for child in ent.root.head.children:\n",
    "                    if child.dep_ == 'acomp': # Adjectival complement\n",
    "                        adjectives.append(child.lemma_)\n",
    "    \n",
    "    return list(set(adjectives))"
   ]
  },
  {
   "cell_type": "code",
   "execution_count": 20,
   "metadata": {},
   "outputs": [
    {
     "name": "stdout",
     "output_type": "stream",
     "text": [
      "['pobre', 'cabizbajo', 'afectuoso', 'venturoso', 'honrar', 'llenar', 'macizar', 'alto', 'turbada-', '-Querido', 'atentar', 'lento', 'suplicar', 'amar']\n"
     ]
    }
   ],
   "source": [
    "# Show the adjectives used for John (most common entity)\n",
    "print(get_person_adj(doc_es, 'John'))"
   ]
  },
  {
   "cell_type": "code",
   "execution_count": 21,
   "metadata": {},
   "outputs": [],
   "source": [
    "# Returns the people who use a certain verb\n",
    "def verb_persons(doc, verb, n):\n",
    "    verb_count = Counter()\n",
    "    \n",
    "    for ent in doc.ents:\n",
    "        if ent.label_ == 'PER' and ent.root.head.lemma_ == verb:\n",
    "            verb_count[ent.text] += 1\n",
    "    \n",
    "    return verb_count.most_common(n)"
   ]
  },
  {
   "cell_type": "code",
   "execution_count": 22,
   "metadata": {},
   "outputs": [
    {
     "data": {
      "text/plain": [
       "[('Dot', 2),\n",
       " ('Tackleton', 2),\n",
       " ('John', 1),\n",
       " ('Mal', 1),\n",
       " ('May', 1),\n",
       " ('Dios', 1),\n",
       " ('Nada', 1)]"
      ]
     },
     "execution_count": 22,
     "metadata": {},
     "output_type": "execute_result"
    }
   ],
   "source": [
    "# Show the people who use a certain verb\n",
    "verb_persons(doc_es, 'hacer', 10)"
   ]
  },
  {
   "cell_type": "markdown",
   "metadata": {},
   "source": [
    "<hr>\n",
    "<p><a href=\"https://github.com/ansegura7/NLP/\">« Home</a></p>"
   ]
  }
 ],
 "metadata": {
  "kernelspec": {
   "display_name": "Python 3",
   "language": "python",
   "name": "python3"
  },
  "language_info": {
   "codemirror_mode": {
    "name": "ipython",
    "version": 3
   },
   "file_extension": ".py",
   "mimetype": "text/x-python",
   "name": "python",
   "nbconvert_exporter": "python",
   "pygments_lexer": "ipython3",
   "version": "3.6.8"
  }
 },
 "nbformat": 4,
 "nbformat_minor": 2
}
