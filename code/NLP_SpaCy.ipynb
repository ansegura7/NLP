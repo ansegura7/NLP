{
 "cells": [
  {
   "cell_type": "markdown",
   "metadata": {},
   "source": [
    "# NLP - spaCy"
   ]
  },
  {
   "cell_type": "markdown",
   "metadata": {},
   "source": [
    "- **Created by Andrés Segura Tinoco**\n",
    "- **Created on June 04, 2019**\n",
    "- **Updated on Apr 06, 2021**"
   ]
  },
  {
   "cell_type": "markdown",
   "metadata": {},
   "source": [
    "**Natural language processing (NLP):** is a discipline where computer science, artificial intelligence and cognitive logic are intercepted, with the objective that machines can read and understand our language for decision making <a href=\"#link_one\">[1]</a>.\n",
    "\n",
    "**spaCy:** features fast statistical NER as well as an open-source named-entity visualizer <a href=\"#link_two\">[2]</a>."
   ]
  },
  {
   "cell_type": "markdown",
   "metadata": {},
   "source": [
    "## Example with a document in Spanish"
   ]
  },
  {
   "cell_type": "code",
   "execution_count": 1,
   "metadata": {},
   "outputs": [],
   "source": [
    "# Load Python libraries\n",
    "import io\n",
    "from collections import Counter"
   ]
  },
  {
   "cell_type": "code",
   "execution_count": 2,
   "metadata": {},
   "outputs": [],
   "source": [
    "# Load NLP libraries from spacy\n",
    "import spacy"
   ]
  },
  {
   "cell_type": "code",
   "execution_count": 3,
   "metadata": {},
   "outputs": [
    {
     "data": {
      "text/plain": [
       "'3.0.5'"
      ]
     },
     "execution_count": 3,
     "metadata": {},
     "output_type": "execute_result"
    }
   ],
   "source": [
    "# Verify installed spacy version\n",
    "spacy.__version__"
   ]
  },
  {
   "cell_type": "markdown",
   "metadata": {},
   "source": [
    "### Step 1 - Read natural text from a book"
   ]
  },
  {
   "cell_type": "code",
   "execution_count": 4,
   "metadata": {},
   "outputs": [],
   "source": [
    "# Util function to read a plain text file\n",
    "def read_text_file(file_path):\n",
    "    text = \"\"\n",
    "    with io.open(file_path, 'r', encoding='ISO-8859-1') as f:\n",
    "        text = f.read()\n",
    "    \n",
    "    return text"
   ]
  },
  {
   "cell_type": "code",
   "execution_count": 5,
   "metadata": {},
   "outputs": [],
   "source": [
    "# Get text sample\n",
    "file_path = \"../data/es/El Grillo del Hogar - Charles Dickens.txt\"\n",
    "book_text = read_text_file(file_path)"
   ]
  },
  {
   "cell_type": "code",
   "execution_count": 6,
   "metadata": {},
   "outputs": [
    {
     "data": {
      "text/plain": [
       "'El grillo del hogar\\n(The Cricket of the Heard)\\nde\\n\\nCharles Dickens\\nEste libro electrónico es cortesía de\\n\\nhttp://www.dominiopublico.es\\nPrimer grito\\nCapítulo I\\nCapítulo II\\nCapítulo III\\nCapítulo IV\\nCapítulo V\\nCapítulo VI\\nSegundo grito\\nCapítulo I\\nCapítulo II\\nCapítulo III\\nCapítulo IV\\nCapítulo V\\nCapítulo VI\\nTercer grito\\nCapítulo I\\nCapítulo II\\nCapítulo III\\nCapítulo IV\\nCapítulo V\\nCapítulo VI\\n\\nPrimer grito\\n- I -\\nEmpezó el puchero. No necesito que me contéis lo que la señora Peerybingle dijera; yo me entiendo. Dejad que la señora Peerybingle se pase hasta la consumación de los siglos asegurando la imposibilidad de decidir cuál empezó: yo digo que fue el puchero. Tengo motivos para saberlo. El puchero empezó cinco minutos antes que el grillo, según el relojito holandés de cuadrante barnizado situado en el rincón.\\n¡Como si el reloj no hubiese cesado de tocar! ¡Como si el segadorcido de movimientos convulsivos y bruscos que lo remata, paseando la hoz de derecha a izquierda y luego de izquierda a d'"
      ]
     },
     "execution_count": 6,
     "metadata": {},
     "output_type": "execute_result"
    }
   ],
   "source": [
    "# Show first 1000 raw characters of document\n",
    "book_text[:1000]"
   ]
  },
  {
   "cell_type": "markdown",
   "metadata": {},
   "source": [
    "### Step 2 - Create a NLP model"
   ]
  },
  {
   "cell_type": "code",
   "execution_count": 7,
   "metadata": {},
   "outputs": [],
   "source": [
    "# Create NLP model for spanish language\n",
    "nlp = spacy.load('es_core_news_sm')\n",
    "doc_es = nlp(book_text)"
   ]
  },
  {
   "cell_type": "markdown",
   "metadata": {},
   "source": [
    "**- Vocabulary:** unique words of the document."
   ]
  },
  {
   "cell_type": "code",
   "execution_count": 8,
   "metadata": {},
   "outputs": [
    {
     "data": {
      "text/plain": [
       "5613"
      ]
     },
     "execution_count": 8,
     "metadata": {},
     "output_type": "execute_result"
    }
   ],
   "source": [
    "# Get vocabulary\n",
    "vocabulary_es = list(set(str(token).lower() for token in doc_es if not token.is_stop and token.is_alpha))\n",
    "len(vocabulary_es)"
   ]
  },
  {
   "cell_type": "code",
   "execution_count": 9,
   "metadata": {},
   "outputs": [
    {
     "name": "stdout",
     "output_type": "stream",
     "text": [
      "['novia', 'posibles', 'negra', 'motivo', 'acusación', 'ciertamente', 'término', 'tranquilidad', 'creedme', 'fortaleza', 'sincera', 'marco', 'fielmente', 'matar', 'íbamos', 'simultáneamente', 'niñera', 'instrumentos', 'despedazarle', 'efusión', 'esperarlo', 'ceremoniosamente', 'soportal', 'capacidad', 'sumido', 'haceros', 'satisfecho', 'acordaba', 'dirigida', 'caminaban', 'descubrir', 'espíritu', 'propuso', 'opinión', 'hoja', 'contemplándola', 'fulgor', 'expansión', 'dolor', 'rosal', 'fatigarme', 'fusiles', 'vendrá', 'fueseis', 'ferozmente', 'magia', 'movimiento', 'ensayar', 'agradecería', 'indiscreto', 'chiquillo', 'recibirlos', 'solemnizar', 'salpicado', 'próxima', 'embozada', 'maliciosamente', 'comercio', 'desprecio', 'amuebladas', 'media', 'colgaba', 'mejillas', 'satisfacer', 'dulzura', 'establecida', 'experimenté', 'dándose', 'ejecutar', 'estraza', 'imposibilidad', 'abertura', 'pronunciadas', 'gozo', 'beso', 'inmovilidad', 'marisco', 'cesta', 'cazuela', 'derecha', 'especie', 'malicia', 'expensas', 'traía', 'hiciese', 'roto', 'estaturas', 'dichosos', 'unánimemente', 'moda', 'calificativo', 'mérito', 'indudable', 'aumentaba', 'carruajes', 'escucho', 'inglaterra', 'atracción', 'gentleman', 'serena', 'mágica', 'pesadilla', 'fabricado', 'observando', 'talones', 'admitirle', 'cubriese', 'podré', 'friccionado', 'montón', 'sustantivos', 'carretas', 'venga', 'lúgubre', 'palacio', 'hipocritona', 'levantaos', 'pronunciar', 'toldo', 'pasa', 'bruma', 'faltado', 'percance', 'conoceros', 'maestro', 'casualidad', 'apreciable', 'espero', 'conmovió', 'guardadoras', 'arrebatado', 'caricias', 'contentado', 'paquetitos', 'extemporáneo', 'darle', 'nave', 'desencajada', 'soportar', 'creerla', 'linterna', 'importe', 'intenciones', 'pedazos', 'bautismo', 'dirección', 'cuidarse', 'heno', 'introducir', 'hablarla', 'abiertos', 'sentándose', 'comprenderme', 'soltero', 'gritado', 'tela', 'diminutas', 'semejanza', 'apetitosa', 'inclinó', 'soledad', 'llegará', 'suntuosos', 'producían', 'esperaré', 'conoces', 'brillan', 'probarle', 'ofrecerle', 'espectáculo', 'actitud', 'celo', 'tilly', 'presagio', 'pelado', 'rompiendo', 'fragmentos', 'trivial', 'fundado', 'pretendientes', 'conversando', 'estatura', 'creí', 'enormes', 'siniestro', 'batallando', 'persona', 'comprendo', 'desnuda', 'rastrojos', 'cruzadas', 'redoblaron', 'osaran', 'haced', 'satisfacían', 'paseándose', 'paja', 'elevarse', 'cubiertas', 'aptos']\n"
     ]
    }
   ],
   "source": [
    "# Show first 200 words of the vocabulary\n",
    "print(vocabulary_es[0:200])"
   ]
  },
  {
   "cell_type": "markdown",
   "metadata": {},
   "source": [
    "**- Stopwords:** refers to the most common words in a language, which do not significantly affect the meaning of the text."
   ]
  },
  {
   "cell_type": "code",
   "execution_count": 10,
   "metadata": {},
   "outputs": [
    {
     "data": {
      "text/plain": [
       "416"
      ]
     },
     "execution_count": 10,
     "metadata": {},
     "output_type": "execute_result"
    }
   ],
   "source": [
    "# Get unique stop-words\n",
    "stop_words_es = list(set(str(token).lower() for token in doc_es if token.is_stop))\n",
    "len(stop_words_es)"
   ]
  },
  {
   "cell_type": "code",
   "execution_count": 11,
   "metadata": {},
   "outputs": [
    {
     "name": "stdout",
     "output_type": "stream",
     "text": [
      "['quiere', 'principalmente', 'poder', 'qué', 'breve', 'buena', 'te', 'muchos', 'lado', 'ninguna', 'veces', 'porque', 'contra', 'mismo', 'tus', 'unas', 'allí', 'quedó', 'habla', 'entonces', 'podrían', 'sido', 'todas', 'arriba', 'estaba', 'saben', 'ningunos', 'ahora', 'bueno', 'aquel', 'nuevos', 'antes', 'sois', 'pueden', 'llevar', 'da', 'ni', 'toda', 'nada', 'poner', 'vuestro', 'estamos', 'más', 'cosas', 'misma', 'mis', 'todavía', 'ejemplo', 'debajo', 'modo', 'cuales', 'otros', 'pesar', 'primera', 'ante', 'cual', 'va', 'cierto', 'estaban', 'estará', 'la', 'muchas', 'raras', 'hace', 'tarde', 'junto', 'expresó', 'ciertos', 'dicen', 'decir', 'sólo', 'quizá', 'tenía', 'tanto', 'pasada', 'le', 'mi', 'estos', 'incluso', 'verdadera', 'nosotros', 'hoy', 'sobre', 'siendo', 'trabajar', 'explicó', 'estuvo', 'hubo', 'como', 'ayer', 'momento', 'ningún', 'alrededor', 'al', 'podemos', 'quién', 'nunca', 'verdadero', 'posible', 'este', 'es', 'aquí', 'dicho', 'cuanto', 'tenga', 'en', 'delante', 'podría', 'su', 'hay', 'llegó', 'deben', 'mismas', 'tampoco', 'dice', 'dijeron', 'cinco', 'todos', 'tiempo', 'propios', 'puede', 'nosotras', 'aquellos', 'tenemos', 'sería', 'pocos', 'nuevas', 'debido', 'muy', 'peor', 'consigo', 'ti', 'cuantas', 'haber', 'primer', 'bien', 'seis', 'estoy', 'hemos', 'nueva', 'fue', 'para', 'voy', 'algo', 'realizó', 'eso', 'haya', 'cuando', 'esos', 'aquella', 'último', 'ver', 'primero', 'algunas', 'mal', 'dejó', 'usar', 'solas', 'dos', 'están', 'grandes', 'tenido', 'siempre', 'si', 'dentro', 'nuevo', 'nuestras', 'mayor', 'lo', 'unos', 'yo', 'ahí', 'existe', 'un', 'sus', 'vuestras', 'dijo', 'siguiente', 'sola', 'tan', 'nuestro', 'sabemos', 'vais', 'señaló', 'tal', 'esto', 'estas', 'esa', 'mucha', 'que', 'indicó', 'vamos', 'algún', 'manera', 'los', 'alguno', 'acuerdo', 'éstos', 'valor', 'adelante', 'vaya', 'haciendo', 'esta', 'fueron', 'lejos', 'me', 'hizo', 'uso', 'ello', 'hacemos', 'cualquier', 'general', 'cuenta', 'no', 'pues', 'dan', 'hecho', 'verdad', 'quiénes', 'otras', 'encima', 'detrás', 'pronto', 'fin', 'vuestra', 'propias', 'sí', 'otro', 'además', 'tu', 'ellas', 'cómo', 'través', 'las', 'hacerlo', 'dieron', 'propio', 'igual', 'parte', 'sea', 'según', 'otra', 'son', 'cierta', 'uno', 'soy', 'demás', 'míos', 'suyas', 'nadie', 'mí', 'con', 'ustedes', 'luego', 'pasado', 'mismos', 'realizar', 'dar', 'manifestó', 'donde', 'una', 'también', 'ambos', 'cuántos', 'vosotros', 'claro', 'varias', 'lugar', 'buen', 'saber', 'suyo', 'sin', 'pudo', 'quienes', 'hasta', 'era', 'tienen', 'día', 'ésta', 'poca', 'ser', 'ellos', 'cuatro', 'tiene', 'éste', 'después', 'eran', 'propia', 'existen', 'buenos', 'medio', 'estado', 'aquél', 'segundo', 'bastante', 'suya', 'nos', 'trabajo', 'alguna', 'ha', 'segunda', 'sean', 'vez', 'les', 'ir', 'cuánto', 'dado', 'han', 'usted', 'ese', 'tres', 'estar', 'habían', 'está', 'últimas', 'solos', 'será', 'poco', 'durante', 'tuvo', 'diferente', 'aún', 'quien', 'menudo', 'vuestros', 'pocas', 'trabajan', 'pueda', 'aunque', 'entre', 'tuyos', 'debe', 'puedo', 'anterior', 'temprano', 'algunos', 'partir', 'próximo', 'aquélla', 'del', 'ella', 'conmigo', 'tercera', 'esas', 'hicieron', 'sino', 'había', 'se', 'cuantos', 'tendrá', 'bajo', 'ciertas', 'hacia', 'conocer', 'respecto', 'mientras', 'largo', 'por', 'cerca', 'van', 'cuál', 'sé', 'cada', 'tener', 'excepto', 'todo', 'somos', 'fuera', 'menos', 'horas', 'mas', 'parece', 'nuestra', 'gran', 'ya', 'dio', 'habrá', 'mediante', 'última', 'ésa', 'os', 'próximos', 'desde', 'pero', 'él', 'dónde', 'de', 'el', 'mucho', 'añadió', 'casi', 'buenas', 'mía', 'he', 'final', 'mejor', 'apenas', 'encuentra', 'creo', 'así', 'sabe', 'aun', 'solamente', 'tras', 'sigue', 'realizado', 'hacer', 'trata', 'solo', 'tengo', 'cuándo', 'demasiado', 'mío', 'fui', 'días', 'podrá']\n"
     ]
    }
   ],
   "source": [
    "# Show unique stop-words\n",
    "print(stop_words_es)"
   ]
  },
  {
   "cell_type": "markdown",
   "metadata": {},
   "source": [
    "**- Entity:** can be any word or series of words that consistently refers to the same thing."
   ]
  },
  {
   "cell_type": "code",
   "execution_count": 12,
   "metadata": {},
   "outputs": [
    {
     "name": "stdout",
     "output_type": "stream",
     "text": [
      "1 - Entity: The Cricket of the Heard , Label: MISC\n",
      "2 - Entity: Charles Dickens , Label: PER\n",
      "3 - Entity: Este libro electrónico , Label: MISC\n",
      "4 - Entity: Primer grito , Label: MISC\n",
      "5 - Entity: Capítulo I , Label: PER\n",
      "6 - Entity: Capítulo II , Label: PER\n",
      "7 - Entity: Capítulo III , Label: PER\n",
      "8 - Entity: Capítulo IV , Label: PER\n",
      "9 - Entity: Capítulo V , Label: PER\n",
      "10 - Entity: Capítulo VI , Label: PER\n",
      "11 - Entity: Segundo grito , Label: MISC\n",
      "12 - Entity: Capítulo I , Label: PER\n",
      "13 - Entity: Capítulo II , Label: PER\n",
      "14 - Entity: Capítulo III , Label: PER\n",
      "15 - Entity: Capítulo IV , Label: PER\n",
      "16 - Entity: Capítulo V , Label: PER\n",
      "17 - Entity: Capítulo VI , Label: PER\n",
      "18 - Entity: Tercer , Label: MISC\n",
      "19 - Entity: Capítulo I , Label: PER\n",
      "20 - Entity: Capítulo II , Label: PER\n",
      "21 - Entity: Capítulo III , Label: PER\n",
      "22 - Entity: Capítulo IV , Label: PER\n",
      "23 - Entity: Capítulo V , Label: PER\n",
      "24 - Entity: Capítulo VI , Label: PER\n",
      "25 - Entity: Primer , Label: MISC\n",
      "27 - Entity: Empezó , Label: PER\n",
      "28 - Entity: No necesito que me contéis , Label: MISC\n",
      "29 - Entity: Peerybingle , Label: ORG\n",
      "30 - Entity: Dejad , Label: PER\n",
      "31 - Entity: Peerybingle , Label: ORG\n",
      "32 - Entity: Tengo , Label: PER\n",
      "33 - Entity: El puchero empezó , Label: MISC\n",
      "34 - Entity: A decir verdad , Label: MISC\n",
      "35 - Entity: Por nada del mundo opondría mi opinión personal , Label: MISC\n",
      "36 - Entity: Peerybingle , Label: ORG\n",
      "37 - Entity: Dejarme contar el caso tal como ocurrió , Label: MISC\n",
      "38 - Entity: ¿cómo queréis que empiece por el principio , Label: MISC\n",
      "39 - Entity: Parecía , Label: PER\n",
      "40 - Entity: Una lucha musical , Label: MISC\n",
      "41 - Entity: Vais , Label: PER\n",
      "42 - Entity: La señora Peerybingle , Label: MISC\n",
      "43 - Entity: Euclides , Label: PER\n",
      "44 - Entity: La señora Peerybingle , Label: MISC\n",
      "45 - Entity: De vuelta ya , Label: MISC\n",
      "46 - Entity: Peerybingle muy pequeña- , Label: MISC\n",
      "47 - Entity: Peerybingle , Label: ORG\n",
      "48 - Entity: Además , Label: PER\n",
      "49 - Entity: No quería dejarse acomodar sobre la barra superior de la rejilla , Label: MISC\n",
      "50 - Entity: Peerybingle , Label: ORG\n"
     ]
    }
   ],
   "source": [
    "# Returns a text with data quality\n",
    "def text_quality(text):\n",
    "    new_text = text.replace('\\n', '')\n",
    "    return new_text.strip('\\r\\n')\n",
    "\n",
    "# Print out named first 50 entities\n",
    "for ix in range(50):\n",
    "    ent = doc_es.ents[ix]\n",
    "    ent_text = text_quality(ent.text)\n",
    "    \n",
    "    if len(ent_text) > 3:\n",
    "        print((ix + 1), '- Entity:', ent_text, ', Label:', ent.label_)"
   ]
  },
  {
   "cell_type": "markdown",
   "metadata": {},
   "source": [
    "### Step 3 - Working with POS, NER and sentences"
   ]
  },
  {
   "cell_type": "markdown",
   "metadata": {},
   "source": [
    "**- POS:** the parts of speech explain how a word is used in a sentence."
   ]
  },
  {
   "cell_type": "code",
   "execution_count": 13,
   "metadata": {},
   "outputs": [
    {
     "data": {
      "text/plain": [
       "{'ADJ',\n",
       " 'ADP',\n",
       " 'ADV',\n",
       " 'AUX',\n",
       " 'CCONJ',\n",
       " 'DET',\n",
       " 'INTJ',\n",
       " 'NOUN',\n",
       " 'NUM',\n",
       " 'PART',\n",
       " 'PRON',\n",
       " 'PROPN',\n",
       " 'PUNCT',\n",
       " 'SCONJ',\n",
       " 'SPACE',\n",
       " 'SYM',\n",
       " 'VERB'}"
      ]
     },
     "execution_count": 13,
     "metadata": {},
     "output_type": "execute_result"
    }
   ],
   "source": [
    "# Part of speech (POS) used in this document\n",
    "set(token.pos_ for token in doc_es)"
   ]
  },
  {
   "cell_type": "markdown",
   "metadata": {},
   "source": [
    "**- Sentences:** a set of words that is complete in itself and typically containing a subject and predicate."
   ]
  },
  {
   "cell_type": "code",
   "execution_count": 14,
   "metadata": {},
   "outputs": [
    {
     "data": {
      "text/plain": [
       "1699"
      ]
     },
     "execution_count": 14,
     "metadata": {},
     "output_type": "execute_result"
    }
   ],
   "source": [
    "# How many sentences are in this text?\n",
    "sentences = [s for s in doc_es.sents]\n",
    "len(sentences)"
   ]
  },
  {
   "cell_type": "code",
   "execution_count": 15,
   "metadata": {},
   "outputs": [
    {
     "data": {
      "text/plain": [
       "[Capítulo IV,\n",
       " ,\n",
       " Capítulo V\n",
       " Capítulo VI,\n",
       " Segundo grito\n",
       " Capítulo I\n",
       " Capítulo II\n",
       " Capítulo III\n",
       " Capítulo IV,\n",
       " Capítulo V\n",
       " Capítulo VI,\n",
       " Tercer grito\n",
       " Capítulo I\n",
       " Capítulo II\n",
       " Capítulo III\n",
       " Capítulo IV,\n",
       " Capítulo V\n",
       " Capítulo VI\n",
       " \n",
       " Primer,\n",
       " grito\n",
       " - I -\n",
       " Empezó el puchero.,\n",
       " No necesito que me contéis lo que la señora Peerybingle dijera; yo me entiendo.,\n",
       " Dejad que la señora Peerybingle se pase hasta la consumación de los siglos asegurando la imposibilidad de decidir cuál empezó: yo digo que fue el puchero.]"
      ]
     },
     "execution_count": 15,
     "metadata": {},
     "output_type": "execute_result"
    }
   ],
   "source": [
    "# Show first 10 sentences\n",
    "sentences[1:11]"
   ]
  },
  {
   "cell_type": "code",
   "execution_count": 16,
   "metadata": {},
   "outputs": [
    {
     "data": {
      "text/plain": [
       "49"
      ]
     },
     "execution_count": 16,
     "metadata": {},
     "output_type": "execute_result"
    }
   ],
   "source": [
    "# Get the sentences in which the 'grillo' appears\n",
    "pattern = 'grillo'\n",
    "cricket_sent = [sent for sent in doc_es.sents if pattern in sent.text]\n",
    "len(cricket_sent)"
   ]
  },
  {
   "cell_type": "code",
   "execution_count": 17,
   "metadata": {},
   "outputs": [
    {
     "name": "stdout",
     "output_type": "stream",
     "text": [
      "- El puchero empezó cinco minutos antes que el grillo, según el relojito holandés de cuadrante barnizado situado en el rincón.\n",
      "- \n",
      "¡Como si el reloj no hubiese cesado de tocar! ¡Como si el segadorcido de movimientos convulsivos y bruscos que lo remata, paseando la hoz de derecha a izquierda y luego de izquierda a derecha ante la fachada de su palacio morisco, no hubiese segado medio acre de césped imaginario antes que el grillo hubiese hecho notar su presencia!\n",
      "A decir verdad, no fui nunca terco, como todo el mundo sabe.\n",
      "- Pero se trata de una cuestión de hecho, y el hecho es que el puchero empezó por lo menos cinco minutos antes que el grillo hubiese dado señal de vida.\n",
      "- Es lo que hubiera hecho desde la primera frase a no considerar que si cuento una historia debo empezar por el principio, y ¿cómo queréis que empiece por el principio si no empiezo por la vasija?\n",
      "Parecía que la vasija y el grillo luchaban.\n",
      "- Aquí, precisamente en este punto, fue cuando el grillo entró en escena con un crrri, crrri, crrri, de magnífica potencia a coro con el puchero; pero con una voz tan asombradamente desproporcionada a su estatura -¡su estatura!, era casi invisible-, sobre todo comparándole con el puchero, que si por desgracia hubiese reventado como un cañón excesivamente cargado, cayendo, víctima de su celo, su cuerpecito roto en mil fragmentos, no hubiera parecido sino la consecuencia natural y perseguida con su trabajo afanoso.\n",
      "- Perseveró con ardor constante; pero el grillo se erigió en concertino y se mantuvo en su supremacía.\n",
      "- No obstante, marchaban muy bien unidos el grillo y el puchero.\n",
      "- Cuando volvió a sentarse en su sitio, el grillo y el puchero se esmeraban todavía en el canto con cierta rivalidad furiosa, siendo indudablemente el lado flaco del puchero la presunción de vencer constantemente.\n",
      "- El grillo logra una milla de delantera.\n",
      "- ¡Crrri, crrri, crrri!..., el grillo dobla la esquina.\n"
     ]
    }
   ],
   "source": [
    "# Show the first 10 sentences in which the 'grillo' appears\n",
    "for sent in cricket_sent[1:11]:\n",
    "    print('-', sent)"
   ]
  },
  {
   "cell_type": "markdown",
   "metadata": {},
   "source": [
    "**- NER:** Named Entity Recognition."
   ]
  },
  {
   "cell_type": "code",
   "execution_count": 18,
   "metadata": {},
   "outputs": [],
   "source": [
    "# Returns the most common entities and their quantity\n",
    "def find_entities(doc, ent_type, n):\n",
    "    entities = Counter()\n",
    "    \n",
    "    for ent in doc.ents:\n",
    "        if ent.label_ == ent_type:\n",
    "            ent_name = text_quality(ent.lemma_)\n",
    "            entities[ent_name] += 1\n",
    "    \n",
    "    return entities.most_common(n)"
   ]
  },
  {
   "cell_type": "code",
   "execution_count": 19,
   "metadata": {},
   "outputs": [
    {
     "data": {
      "text/plain": [
       "[('John', 153),\n",
       " ('Tackleton', 68),\n",
       " ('Caleb', 56),\n",
       " ('Berta', 43),\n",
       " ('May', 38),\n",
       " ('John-', 16),\n",
       " ('John Peerybingle', 15),\n",
       " ('Tilly', 14),\n",
       " ('¿', 12),\n",
       " ('después', 10),\n",
       " ('Tilly Slowboy', 8),\n",
       " ('Dot', 7),\n",
       " ('Eduardo', 7),\n",
       " ('May Fielding', 6),\n",
       " ('Sol', 5),\n",
       " ('aquí', 5),\n",
       " ('Peerybingle', 5),\n",
       " ('ir', 5),\n",
       " ('además', 4),\n",
       " ('¡ Crrri', 4)]"
      ]
     },
     "execution_count": 19,
     "metadata": {},
     "output_type": "execute_result"
    }
   ],
   "source": [
    "# Show entities of type PERSON\n",
    "find_entities(doc_es, 'PER', 20)"
   ]
  },
  {
   "cell_type": "code",
   "execution_count": 20,
   "metadata": {},
   "outputs": [],
   "source": [
    "# Returns persons adjectives\n",
    "def get_person_adj(doc, person):\n",
    "    adjectives = []\n",
    "    \n",
    "    for ent in doc.ents:\n",
    "        if ent.lemma_ == person:\n",
    "            for token in ent.subtree:\n",
    "                if token.pos_ == 'ADJ': # Adjective\n",
    "                    adjectives.append(token.lemma_)\n",
    "    \n",
    "    for ent in doc.ents:\n",
    "        if ent.lemma_ == person:\n",
    "            if ent.root.dep_ == 'nsubj': # Nominal subject\n",
    "                for child in ent.root.head.children:\n",
    "                    if child.dep_ == 'acomp': # Adjectival complement\n",
    "                        adjectives.append(child.lemma_)\n",
    "    \n",
    "    return list(set(adjectives))"
   ]
  },
  {
   "cell_type": "code",
   "execution_count": 21,
   "metadata": {},
   "outputs": [
    {
     "name": "stdout",
     "output_type": "stream",
     "text": [
      "['extrañado', 'eficazmente', 'diligente', 'distraído', 'venturoso', 'pensativo', 'cabizbajo', 'amado', 'santo', 'turbada-']\n"
     ]
    }
   ],
   "source": [
    "# Show the adjectives used for John (most common entity)\n",
    "curr_person = 'John'\n",
    "print(get_person_adj(doc_es, curr_person))"
   ]
  },
  {
   "cell_type": "code",
   "execution_count": 22,
   "metadata": {},
   "outputs": [],
   "source": [
    "# Returns the people who use a certain verb\n",
    "def verb_persons(doc, verb, n):\n",
    "    verb_count = Counter()\n",
    "    \n",
    "    for ent in doc.ents:\n",
    "        if ent.label_ == 'PER' and ent.root.head.lemma_ == verb:\n",
    "            verb_count[ent.text] += 1\n",
    "    \n",
    "    return verb_count.most_common(n)"
   ]
  },
  {
   "cell_type": "code",
   "execution_count": 23,
   "metadata": {},
   "outputs": [
    {
     "data": {
      "text/plain": [
       "[('John', 3),\n",
       " ('Pronto', 1),\n",
       " ('Tiempo', 1),\n",
       " ('Hacía', 1),\n",
       " ('Tackleton', 1),\n",
       " ('Hizo', 1),\n",
       " ('Tilly', 1),\n",
       " ('¡Cuánto', 1),\n",
       " ('May', 1)]"
      ]
     },
     "execution_count": 23,
     "metadata": {},
     "output_type": "execute_result"
    }
   ],
   "source": [
    "# Show the people who use a certain verb\n",
    "curr_verb = 'hacer'\n",
    "verb_persons(doc_es, curr_verb, 10)"
   ]
  },
  {
   "cell_type": "code",
   "execution_count": 24,
   "metadata": {},
   "outputs": [
    {
     "data": {
      "text/plain": [
       "1340"
      ]
     },
     "execution_count": 24,
     "metadata": {},
     "output_type": "execute_result"
    }
   ],
   "source": [
    "# Get ADJ type labels\n",
    "adj_tokens = list(set(str(token.orth_).lower() for token in doc_es if token.pos_ == 'ADJ'))\n",
    "len(adj_tokens)"
   ]
  },
  {
   "cell_type": "code",
   "execution_count": 25,
   "metadata": {},
   "outputs": [
    {
     "name": "stdout",
     "output_type": "stream",
     "text": [
      "['desengañados', 'altaneras', 'irreprochable', 'hablado', 'posibles', 'negra', 'motivo', 'perfectas', 'zumba', 'buena', 'bendecido', 'inclinada', 'creedme', 'tentativas', 'sincera', 'inspirada', 'triunfante', 'ceñuda', 'niñera', 'ceremoniosamente', 'impenetrable', 'dichos', 'furtivas', 'sumido', 'satisfecho', 'gozosas', 'ningunos', 'dirigida', 'ingeniosa', 'domésticas', 'extraordinario', 'mezcla', 'calculado', 'linda', 'contado', 'colocado', 'indiscreto', 'heterogéneos', 'contrario', 'vivísima', 'antiguo', 'salpicado', 'próxima', 'embozada', 'brillante', 'desprecio', 'enmohecidas', 'amuebladas', 'frecuentes', 'cierto']\n"
     ]
    }
   ],
   "source": [
    "# Show ADJ type labels\n",
    "print(adj_tokens[:50])"
   ]
  },
  {
   "cell_type": "code",
   "execution_count": 26,
   "metadata": {},
   "outputs": [
    {
     "data": {
      "text/plain": [
       "1340"
      ]
     },
     "execution_count": 26,
     "metadata": {},
     "output_type": "execute_result"
    }
   ],
   "source": [
    "# Get PROPN type labels\n",
    "propn_tokens = list(set(str(token.orth_).lower() for token in doc_es if token.pos_ == 'PROPN'))\n",
    "len(adj_tokens)"
   ]
  },
  {
   "cell_type": "code",
   "execution_count": 27,
   "metadata": {},
   "outputs": [
    {
     "name": "stdout",
     "output_type": "stream",
     "text": [
      "['-añadió', 'cuánto', 'inglaterra', 'hombrecillo-', 'san', 'dondequiera', 'california', 'faz-', 'navidad', '-dijo', 'vi', 'dímelo', 'ésta-', '-john', 'miss', 'hiciéronle', 'dadle', 'hija', 'tac', 'sentada', 'invariablemente', '-lo', 'habríais', 'entrad', '-permitidme', '-¡su', 'vito', '-¡me', 'oídme', 'cuán', 'dicho', '-deletreó', 'mutuamente-', 'acercaos', 'naturaleza', 'hadas-', 'peerybingle', 'danza', 'capítulo', 'cuello-', 'perdía', 'sospechar', 'g.', 'robinsón', 'tic', '-porque', 'sansón', 'sol', 'of', 'uh']\n"
     ]
    }
   ],
   "source": [
    "# Show PROPN type labels\n",
    "print(propn_tokens[:50])"
   ]
  },
  {
   "cell_type": "markdown",
   "metadata": {},
   "source": [
    "## Reference"
   ]
  },
  {
   "cell_type": "markdown",
   "metadata": {},
   "source": [
    "<a name='link_one' href='https://en.wikipedia.org/wiki/Natural_language_processing' target='_blank' >[1]</a> Wikipedia - Natural language processing.  \n",
    "<a name='link_two' href='https://spacy.io/' target='_blank' >[2]</a> spaCy website.  "
   ]
  },
  {
   "cell_type": "markdown",
   "metadata": {},
   "source": [
    "<hr>\n",
    "<p><a href=\"https://ansegura7.github.io/NLP/\">« Home</a></p>"
   ]
  }
 ],
 "metadata": {
  "kernelspec": {
   "display_name": "Python 3",
   "language": "python",
   "name": "python3"
  },
  "language_info": {
   "codemirror_mode": {
    "name": "ipython",
    "version": 3
   },
   "file_extension": ".py",
   "mimetype": "text/x-python",
   "name": "python",
   "nbconvert_exporter": "python",
   "pygments_lexer": "ipython3",
   "version": "3.8.5"
  }
 },
 "nbformat": 4,
 "nbformat_minor": 2
}
