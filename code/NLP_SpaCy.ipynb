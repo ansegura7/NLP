{
 "cells": [
  {
   "cell_type": "markdown",
   "metadata": {},
   "source": [
    "# Natural Language Processing with spaCy"
   ]
  },
  {
   "cell_type": "markdown",
   "metadata": {},
   "source": [
    "- **Created by Andrés Segura Tinoco**\n",
    "- **Created on June 04, 2019**"
   ]
  },
  {
   "cell_type": "markdown",
   "metadata": {},
   "source": [
    "Natural language processing (NLP) is a discipline where computer science, artificial intelligence and cognitive logic are intercepted, with the objective that machines can read and understand our language for decision making."
   ]
  },
  {
   "cell_type": "markdown",
   "metadata": {},
   "source": [
    "## Example with a document in Spanish"
   ]
  },
  {
   "cell_type": "code",
   "execution_count": 1,
   "metadata": {},
   "outputs": [],
   "source": [
    "# Load Python libraries\n",
    "import io\n",
    "from collections import Counter"
   ]
  },
  {
   "cell_type": "code",
   "execution_count": 2,
   "metadata": {},
   "outputs": [],
   "source": [
    "# Load NLP libraries from spacy\n",
    "import spacy\n",
    "from spacy import displacy\n",
    "from spacy.lang.es.stop_words import STOP_WORDS"
   ]
  },
  {
   "cell_type": "markdown",
   "metadata": {},
   "source": [
    "### Step 1 - Read natural text from a book"
   ]
  },
  {
   "cell_type": "code",
   "execution_count": 3,
   "metadata": {},
   "outputs": [],
   "source": [
    "# Util function to read a plain text file\n",
    "def read_text_file(file_path):\n",
    "    text = \"\"\n",
    "    with io.open(file_path, 'r', encoding = 'ISO-8859-1') as f:\n",
    "        text = f.read()\n",
    "    \n",
    "    return text;"
   ]
  },
  {
   "cell_type": "code",
   "execution_count": 4,
   "metadata": {},
   "outputs": [],
   "source": [
    "# Get text sample\n",
    "file_path = \"../data/es/El Grillo del Hogar - Charles Dickens.txt\"\n",
    "book_text = read_text_file(file_path)"
   ]
  },
  {
   "cell_type": "code",
   "execution_count": 5,
   "metadata": {},
   "outputs": [
    {
     "data": {
      "text/plain": [
       "'El grillo del hogar\\n(The Cricket of the Heard)\\nde\\n\\nCharles Dickens\\nEste libro electrónico es cortesía de\\n\\nhttp://www.dominiopublico.es\\nPrimer grito\\nCapítulo I\\nCapítulo II\\nCapítulo III\\nCapítulo IV\\nCapítulo V\\nCapítulo VI\\nSegundo grito\\nCapítulo I\\nCapítulo II\\nCapítulo III\\nCapítulo IV\\nCapítulo V\\nCapítulo VI\\nTercer grito\\nCapítulo I\\nCapítulo II\\nCapítulo III\\nCapítulo IV\\nCapítulo V\\nCapítulo VI\\n\\nPrimer grito\\n- I -\\nEmpezó el puchero. No necesito que me contéis lo que la señora Peerybingle dijera; yo me entiendo. Dejad que la señora Peerybingle se pase hasta la consumación de los siglos asegurando la imposibilidad de decidir cuál empezó: yo digo que fue el puchero. Tengo motivos para saberlo. El puchero empezó cinco minutos antes que el grillo, según el relojito holandés de cuadrante barnizado situado en el rincón.\\n¡Como si el reloj no hubiese cesado de tocar! ¡Como si el segadorcido de movimientos convulsivos y bruscos que lo remata, paseando la hoz de derecha a izquierda y luego de izquierda a d'"
      ]
     },
     "execution_count": 5,
     "metadata": {},
     "output_type": "execute_result"
    }
   ],
   "source": [
    "# Show first 1000 characters of document\n",
    "book_text[:1000]"
   ]
  },
  {
   "cell_type": "markdown",
   "metadata": {},
   "source": [
    "### Step 2 - Create a NLP model"
   ]
  },
  {
   "cell_type": "code",
   "execution_count": 6,
   "metadata": {},
   "outputs": [],
   "source": [
    "# Create NLP model for spanish language\n",
    "nlp = spacy.load('es')\n",
    "doc_es = nlp(book_text)"
   ]
  },
  {
   "cell_type": "code",
   "execution_count": 7,
   "metadata": {},
   "outputs": [
    {
     "data": {
      "text/plain": [
       "5630"
      ]
     },
     "execution_count": 7,
     "metadata": {},
     "output_type": "execute_result"
    }
   ],
   "source": [
    "# Get vocabulary\n",
    "vocabulary_es = list(set(str(token).lower() for token in doc_es if not token.is_stop and token.is_alpha))\n",
    "len(vocabulary_es)"
   ]
  },
  {
   "cell_type": "code",
   "execution_count": 8,
   "metadata": {},
   "outputs": [
    {
     "name": "stdout",
     "output_type": "stream",
     "text": [
      "['tortas', 'jovial', 'interrumpido', 'coloradote', 'antojo', 'quijada', 'sacudiendo', 'lejano', 'repertorio', 'retuvo', 'lugares', 'novelas', 'recobrando', 'leed', 'inocencias', 'vibrantes', 'docena', 'descubierto', 'lodo', 'viva', 'malignidad', 'vacuna', 'acompañándola', 'levantado', 'desencajada', 'estela', 'paciencia', 'imposibilidad', 'felicidades', 'moda', 'poniéndolas', 'vagarosas', 'apostaré', 'guardadoras', 'historia', 'consolarse', 'ayudar', 'puso', 'abandonando', 'consolaría', 'formaba', 'pájaro', 'oídme', 'ancianos', 'magnífica', 'desdicha', 'persuadido', 'carcomidas', 'causarán', 'contemplado', 'ansiado', 'enferma', 'guiña', 'siguiese', 'dejándose', 'ponía', 'estéis', 'oído', 'abejas', 'esplendidez', 'penetró', 'tendríais', 'sociales', 'largamente', 'encendido', 'asuntos', 'afirmación', 'empezando', 'cuento', 'mala', 'milagros', 'firme', 'festín', 'tranquilamente', 'vestidos', 'permanecer', 'sobrecogido', 'acre', 'vejez', 'viene', 'sedientos', 'cajita', 'indicando', 'tomase', 'encajado', 'gusto', 'carruajes', 'golpes', 'heno', 'pronunciadísimo', 'minúsculos', 'completar', 'costa', 'arrodillándose', 'fulgurar', 'empedrado', 'presión', 'figón', 'consiguiente', 'tareas', 'temblando', 'razas', 'darte', 'obligada', 'penosa', 'arreglarle', 'ocurra', 'bautismo', 'asalto', 'cerraba', 'tratado', 'granada', 'fielding', 'admirable', 'iguales', 'caprichosa', 'mohoso', 'ocurre', 'sillonazo', 'madres', 'términos', 'decid', 'espantosa', 'suspendido', 'enorgulleceros', 'fundado', 'jóvenes', 'creer', 'enemigo', 'resultarían', 'rojo', 'incontestablemente', 'sed', 'señalaba', 'pintaba', 'perpetua', 'superficie', 'clarinetes', 'muriese', 'temerían', 'miembro', 'agradecería', 'trastornaba', 'espanto', 'enseñar', 'mitra', 'atención', 'exhibir', 'destempladamente', 'apoyaban', 'esquina', 'salida', 'formase', 'amado', 'inspirar', 'docenas', 'simultáneamente', 'lindísimo', 'animal', 'despedazarle', 'atenta', 'dots', 'creen', 'levantándole', 'puntos', 'aflige', 'paz', 'volverse', 'dondequiera', 'semejantes', 'nte', 'incalculable', 'familia', 'líquido', 'maravillosa', 'locos', 'inquieto', 'silla', 'turno', 'mostrarle', 'expósita', 'hablado', 'mano', 'interesados', 'ofrecía', 'echó', 'fueseis', 'gustan', 'hubierais', 'santa', 'riendas', 'emprendió', 'comparársele', 'diferencias', 'frase', 'perdón', 'persuaden', 'infiltra', 'escapar', 'faja']\n"
     ]
    }
   ],
   "source": [
    "# Show vocabulary\n",
    "print(vocabulary_es[0:200])"
   ]
  },
  {
   "cell_type": "code",
   "execution_count": 9,
   "metadata": {},
   "outputs": [
    {
     "data": {
      "text/plain": [
       "416"
      ]
     },
     "execution_count": 9,
     "metadata": {},
     "output_type": "execute_result"
    }
   ],
   "source": [
    "# Get unique stop-words\n",
    "stop_words_es = list(set(str(token).lower() for token in doc_es if token.is_stop))\n",
    "len(stop_words_es)"
   ]
  },
  {
   "cell_type": "code",
   "execution_count": 10,
   "metadata": {},
   "outputs": [
    {
     "name": "stdout",
     "output_type": "stream",
     "text": [
      "['he', 'nueva', 'míos', 'luego', 'el', 'segunda', 'nadie', 'último', 'era', 'es', 'tras', 'solos', 'señaló', 'acuerdo', 'trabajar', 'nosotras', 'sus', 'unas', 'poder', 'lado', 'mediante', 'donde', 'respecto', 'va', 'largo', 'trabajan', 'son', 'cuando', 'que', 'buenos', 'tres', 'gran', 'hay', 'nuestro', 'dan', 'bueno', 'poca', 'esos', 'verdadero', 'sola', 'hacemos', 'llegó', 'vuestras', 'haciendo', 'ello', 'partir', 'general', 'tu', 'podrían', 'tal', 'lejos', 'mismo', 'esa', 'otra', 'otras', 'final', 'nada', 'breve', 'pues', 'nos', 'estará', 'manifestó', 'dejó', 'siempre', 'puede', 'otros', 'ver', 'trata', 'ahora', 'cual', 'sea', 'parte', 'hacia', 'incluso', 'días', 'excepto', 'cerca', 'temprano', 'están', 'eso', 'conmigo', 'mis', 'tarde', 'cada', 'sé', 'ayer', 'estas', 'trabajo', 'buenas', 'dijeron', 'alrededor', 'cuanto', 'adelante', 'ningún', 'algunos', 'podría', 'ella', 'fin', 'peor', 'muy', 'por', 'dado', 'consigo', 'lugar', 'aquel', 'cuatro', 'estaban', 'fui', 'aquellos', 'será', 'así', 'allí', 'nuestras', 'propio', 'voy', 'junto', 'de', 'está', 'quiénes', 'suyas', 'sólo', 'habían', 'día', 'una', 'tiempo', 'usted', 'explicó', 'cuánto', 'te', 'tuyos', 'estuvo', 'mayor', 'durante', 'cómo', 'ha', 'ellos', 'habrá', 'tendrá', 'podemos', 'primer', 'nuevo', 'tus', 'tener', 'quiere', 'dio', 'del', 'verdad', 'sigue', 'cuantos', 'cosas', 'antes', 'les', 'veces', 'tiene', 'había', 'apenas', 'esto', 'tenía', 'valor', 'sin', 'cuales', 'mismas', 'poco', 'pero', 'dieron', 'si', 'cuál', 'no', 'alguna', 'han', 'quienes', 'cuándo', 'cuántos', 'poner', 'cualquier', 'nuestra', 'solo', 'al', 'quien', 'hicieron', 'van', 'ciertas', 'llevar', 'las', 'demás', 'nuevos', 'suyo', 'próximos', 'sabe', 'éstos', 'según', 'estos', 'este', 'hoy', 'ti', 'saben', 'eran', 'vosotros', 'la', 'mío', 'tenemos', 'añadió', 'contra', 'menudo', 'vamos', 'después', 'pasado', 'conocer', 'dos', 'todos', 'haya', 'haber', 'decir', 'hizo', 'dentro', 'hasta', 'vuestro', 'podrá', 'próximo', 'segundo', 'dónde', 'tienen', 'sois', 'saber', 'pasada', 'habla', 'sido', 'pocas', 'buena', 'sí', 'arriba', 'toda', 'siendo', 'momento', 'debido', 'pesar', 'bastante', 'fue', 'lo', 'entre', 'esas', 'ésta', 'quién', 'siguiente', 'nuevas', 'cuantas', 'bien', 'claro', 'todas', 'quizá', 'además', 'ni', 'fueron', 'mía', 'puedo', 'los', 'somos', 'cuenta', 'encima', 'modo', 'últimas', 'ninguna', 'ejemplo', 'aquélla', 'solas', 'propios', 'dijo', 'primero', 'sabemos', 'ahí', 'da', 'todo', 'éste', 'ese', 'aunque', 'primera', 'muchas', 'cierto', 'pueda', 'realizó', 'tan', 'aquella', 'manera', 'tenga', 'encuentra', 'sean', 'dar', 'para', 'otro', 'raras', 'ir', 'vuestros', 'nunca', 'fuera', 'propia', 'algunas', 'mucha', 'también', 'ser', 'suya', 'mí', 'hacer', 'demasiado', 'mismos', 'realizado', 'dicho', 'más', 'quedó', 'mas', 'yo', 'debajo', 'usar', 'horas', 'todavía', 'algún', 'verdadera', 'mejor', 'detrás', 'tenido', 'grandes', 'ciertos', 'muchos', 'él', 'delante', 'vez', 'como', 'un', 'se', 'ya', 'hace', 'vais', 'tampoco', 'qué', 'hemos', 'algo', 'solamente', 'medio', 'parece', 'mucho', 'aun', 'mal', 'en', 'porque', 'soy', 'aquél', 'ante', 'nosotros', 'expresó', 'bajo', 'hecho', 'estoy', 'cinco', 'ellas', 'realizar', 'debe', 'uso', 'pocos', 'unos', 'tanto', 'indicó', 'creo', 'existe', 'anterior', 'posible', 'estaba', 'mi', 'con', 'me', 'deben', 'estamos', 'propias', 'esta', 'alguno', 'seis', 'mientras', 'sería', 'ésa', 'su', 'ambos', 'través', 'sino', 'diferente', 'estado', 'estar', 'dicen', 'buen', 'pudo', 'igual', 'menos', 'existen', 'uno', 'ningunos', 'sobre', 'vaya', 'casi', 'hubo', 'vuestra', 'cierta', 'pronto', 'dice', 'desde', 'le', 'aquí', 'aún', 'entonces', 'varias', 'última', 'hacerlo', 'pueden', 'principalmente', 'os', 'misma', 'ustedes', 'tercera', 'tuvo', 'tengo']\n"
     ]
    }
   ],
   "source": [
    "# Show unique stop-words\n",
    "print(stop_words_es)"
   ]
  },
  {
   "cell_type": "code",
   "execution_count": 11,
   "metadata": {},
   "outputs": [
    {
     "name": "stdout",
     "output_type": "stream",
     "text": [
      "1 - Entity: The Cricket of the Heard , Label: MISC\n",
      "2 - Entity: Charles DickensEste , Label: PER\n",
      "3 - Entity: Capítulo ICapítulo IICapítulo IIICapítulo IV , Label: PER\n",
      "4 - Entity: Primer grito , Label: MISC\n",
      "6 - Entity: No necesito que me contéis , Label: MISC\n",
      "7 - Entity: Peerybingle dijera , Label: MISC\n",
      "8 - Entity: Dejad , Label: MISC\n",
      "9 - Entity: Peerybingle , Label: MISC\n",
      "10 - Entity: Tengo , Label: MISC\n",
      "11 - Entity: El puchero empezó , Label: MISC\n",
      "13 - Entity: Por nada del mundo opondría mi opinión , Label: MISC\n",
      "14 - Entity: Peerybingle , Label: MISC\n",
      "15 - Entity: Pero se trata de una cuestión de hecho , Label: MISC\n",
      "16 - Entity: Si insistís , Label: MISC\n",
      "17 - Entity: ¿cómo , Label: MISC\n",
      "18 - Entity: Una lucha musical , Label: MISC\n",
      "19 - Entity: Vais , Label: LOC\n",
      "20 - Entity: Euclides , Label: PER\n",
      "21 - Entity: La señora Peerybingle , Label: MISC\n",
      "22 - Entity: De vuelta ya , Label: MISC\n",
      "23 - Entity: Peerybingle , Label: MISC\n",
      "24 - Entity: Entonces perdió su sangre fría , Label: MISC\n",
      "25 - Entity: Peerybingle , Label: MISC\n",
      "26 - Entity: No quería dejarse acomodar sobre la barra superior de la rejilla , Label: MISC\n",
      "27 - Entity: Hay más: la tapadera , Label: MISC\n",
      "28 - Entity: Peerybingle , Label: MISC\n",
      "29 - Entity: El cascarón del Royal , Label: MISC\n",
      "30 - Entity: George , Label: PER\n",
      "31 - Entity: Peerybingle , Label: MISC\n",
      "32 - Entity: Peerybingle , Label: MISC\n",
      "33 - Entity: Nadie me forzará a hervir» , Label: MISC\n",
      "34 - Entity: Peerybingle , Label: MISC\n",
      "35 - Entity: No obstante , Label: MISC\n",
      "36 - Entity: Pero hay que notar , Label: MISC\n",
      "37 - Entity: Cuando el cuclillo , Label: MISC\n",
      "38 - Entity: En efecto , Label: MISC\n",
      "39 - Entity: En aquel momento el puchero , Label: MISC\n",
      "40 - Entity: En aquel momento , Label: MISC\n",
      "42 - Entity: Habríais , Label: PER\n",
      "43 - Entity: La señora Peerybingle , Label: MISC\n",
      "45 - Entity: No es más , Label: MISC\n",
      "46 - Entity: El vasto llano , Label: MISC\n",
      "47 - Entity: El poste indicador está cubierto de escarcha , Label: MISC\n",
      "48 - Entity: La lluvia , Label: MISC\n",
      "50 - Entity: Perseveró , Label: ORG\n"
     ]
    }
   ],
   "source": [
    "# Returns a text with data quality\n",
    "def text_quality(text):\n",
    "    new_text = text.replace('\\n', '')\n",
    "    return new_text.strip('\\r\\n')\n",
    "\n",
    "# Print out named first 50 entities\n",
    "for ix in range(50):\n",
    "    ent = doc_es.ents[ix]\n",
    "    ent_text = text_quality(ent.text)\n",
    "    \n",
    "    if len(ent_text) > 3:\n",
    "        print((ix + 1), '- Entity:', ent_text, ', Label:', ent.label_)"
   ]
  },
  {
   "cell_type": "markdown",
   "metadata": {},
   "source": [
    "### Step 3 - Work with sentences and POS"
   ]
  },
  {
   "cell_type": "code",
   "execution_count": 12,
   "metadata": {},
   "outputs": [
    {
     "data": {
      "text/plain": [
       "1621"
      ]
     },
     "execution_count": 12,
     "metadata": {},
     "output_type": "execute_result"
    }
   ],
   "source": [
    "# How many sentences are in the text?\n",
    "sentences = [s for s in doc_es.sents]\n",
    "len(sentences)"
   ]
  },
  {
   "cell_type": "code",
   "execution_count": 13,
   "metadata": {},
   "outputs": [
    {
     "data": {
      "text/plain": [
       "[No necesito que me contéis lo que la señora Peerybingle dijera; yo me entiendo.,\n",
       " Dejad que la señora Peerybingle se pase hasta la consumación de los siglos asegurando la imposibilidad de decidir cuál empezó: yo digo que fue el puchero.,\n",
       " Tengo motivos para saberlo.,\n",
       " El puchero empezó cinco minutos antes que el grillo, según el relojito holandés de cuadrante barnizado situado en el rincón.,\n",
       " ¡Como si el reloj no hubiese cesado de tocar! ¡Como si el segadorcido de movimientos convulsivos y bruscos que lo remata, paseando la hoz de derecha a izquierda y luego de izquierda a derecha ante la fachada de su palacio morisco, no hubiese segado medio acre de césped imaginario antes que el grillo hubiese hecho notar su presencia!,\n",
       " A decir verdad, no fui nunca terco, como todo el mundo sabe.,\n",
       " Por nada del mundo opondría mi opinión personal a la opinión de la señora Peerybingle, si no estuviese perfectamente seguro de lo ocurrido.,\n",
       " «Nada me induciría a semejante cosa.,\n",
       " Pero se trata de una cuestión de hecho, y el hecho es que el puchero empezó por lo menos cinco minutos antes que el grillo hubiese dado señal de vida.,\n",
       " Si insistís, apostaré que transcurrieron diez minutos.]"
      ]
     },
     "execution_count": 13,
     "metadata": {},
     "output_type": "execute_result"
    }
   ],
   "source": [
    "# Show the first 10 sentences\n",
    "sentences[1:11]"
   ]
  },
  {
   "cell_type": "code",
   "execution_count": 14,
   "metadata": {},
   "outputs": [
    {
     "data": {
      "text/plain": [
       "48"
      ]
     },
     "execution_count": 14,
     "metadata": {},
     "output_type": "execute_result"
    }
   ],
   "source": [
    "# Get the sentences in which the 'grillo' appears\n",
    "cricket_sent = [sent for sent in doc_es.sents if 'grillo' in sent.string]\n",
    "len(cricket_sent)"
   ]
  },
  {
   "cell_type": "code",
   "execution_count": 15,
   "metadata": {},
   "outputs": [
    {
     "data": {
      "text/plain": [
       "[El puchero empezó cinco minutos antes que el grillo, según el relojito holandés de cuadrante barnizado situado en el rincón.,\n",
       " ¡Como si el reloj no hubiese cesado de tocar! ¡Como si el segadorcido de movimientos convulsivos y bruscos que lo remata, paseando la hoz de derecha a izquierda y luego de izquierda a derecha ante la fachada de su palacio morisco, no hubiese segado medio acre de césped imaginario antes que el grillo hubiese hecho notar su presencia!,\n",
       " Pero se trata de una cuestión de hecho, y el hecho es que el puchero empezó por lo menos cinco minutos antes que el grillo hubiese dado señal de vida.,\n",
       " Parecía que la vasija y el grillo luchaban.,\n",
       " La lluvia congelada hace resbaladizo el camino; más abajo el agua no se ha convertido del todo en hielo, pero ya no es libre; nada conserva su forma natural; pero ¡él viene, él viene, él viene!\n",
       " Aquí, precisamente en este punto, fue cuando el grillo entró en escena con un crrri, crrri, crrri, de magnífica potencia a coro con el puchero; pero con una voz tan asombradamente desproporcionada a su estatura -¡su estatura!, era casi invisible-, sobre todo comparándole con el puchero, que si por desgracia hubiese reventado como un cañón excesivamente cargado, cayendo, víctima de su celo, su cuerpecito roto en mil fragmentos, no hubiera parecido sino la consecuencia natural y perseguida con su trabajo afanoso.,\n",
       " Perseveró con ardor constante; pero el grillo se erigió en concertino y se mantuvo en su supremacía.,\n",
       " No obstante, marchaban muy bien unidos el grillo y el puchero.,\n",
       " Cuando volvió a sentarse en su sitio, el grillo y el puchero se esmeraban todavía en el canto con cierta rivalidad furiosa, siendo indudablemente el lado flaco del puchero la presunción de vencer constantemente.,\n",
       " El grillo logra una milla de delantera.,\n",
       " ¡Crrri, crrri, crrri!..., el grillo dobla la esquina.]"
      ]
     },
     "execution_count": 15,
     "metadata": {},
     "output_type": "execute_result"
    }
   ],
   "source": [
    "# Show the first 10 sentences in which the 'grillo' appears\n",
    "cricket_sent[1:11]"
   ]
  },
  {
   "cell_type": "code",
   "execution_count": 16,
   "metadata": {},
   "outputs": [],
   "source": [
    "# Returns the most common entities and their quantity\n",
    "def find_entities(doc, ent_type):\n",
    "    entities = Counter()\n",
    "    \n",
    "    for ent in doc.ents:\n",
    "        if ent.label_ == ent_type:\n",
    "            ent_name = text_quality(ent.lemma_)\n",
    "            entities[ent_name] += 1\n",
    "    \n",
    "    return entities.most_common()"
   ]
  },
  {
   "cell_type": "code",
   "execution_count": 17,
   "metadata": {},
   "outputs": [
    {
     "name": "stdout",
     "output_type": "stream",
     "text": [
      "[('John', 132), ('Dot', 82), ('May', 38), ('Tackleton', 38), ('Berta', 32), ('John Peerybingle', 16), ('Tilly', 14), ('Fielding', 10), ('Boxer', 8), ('Dots', 8), ('John !', 7), ('Caleb Plummer', 7), ('Eduardo', 7), ('Dios', 5), ('¿', 5), ('Gruff', 5), ('Dot-', 5), ('Pero', 4), ('Nada', 4), ('May Fielding', 4), ('He', 3), ('John ?', 3), ('Puedo', 3), ('Cuando', 3), ('Sol', 3), ('Pues', 3), ('¡ Cuán', 3), ('Sois', 2), ('Tenía', 2), ('Estoy', 2), ('Voy', 2), ('Además', 2), ('Ignoro', 2), ('Hay', 2), ('Caleb', 2), ('¿ Acaso', 2), ('Vos', 2), ('Charles Dickens  Este', 1), ('Capítulo I  Capítulo II  Capítulo III  Capítulo IV', 1), ('Euclides', 1), ('George', 1), ('Habríais', 1), ('¡ Crrri', 1), ('Daba', 1), ('John !  -¡Bah !', 1), ('¡ Mirad', 1), ('Estuve', 1), ('Decid', 1), ('Absorta', 1), ('Quería', 1), ('Esperaré', 1), ('Abrid', 1), ('Apodo', 1), ('N. del T. )', 1), ('G.', 1), ('Shem', 1), ('Hams', 1), ('Hela', 1), ('¡ Ojalá', 1), ('Vuestro', 1), ('Tal', 1), ('Caleb !', 1), ('Acabo', 1), ('¡ Buen', 1), ('Comprendo', 1), ('Decía', 1), ('Conozco', 1), ('Atornillándole', 1), ('John ! -interrumpió Dot', 1), ('Veía Dots', 1), ('Slowboys', 1), ('Vio', 1), ('Pero Caleb', 1), ('Noé', 1), ('» Experimenté', 1), ('Hacía', 1), ('Forzosamente', 1), ('May !', 1), ('Necesito', 1), ('Tosió', 1), ('Robinsón Crusoe', 1), ('Temí', 1), ('Algunos', 1), ('No', 1), ('Sujetó', 1), ('astuto Tackleton', 1), ('señor Tackleton', 1), ('Hizo', 1), ('Estaré', 1), ('¡ Veros', 1), ('¡ Decidle', 1), ('Dadle', 1), ('Mientras', 1), ('Naturaleza', 1), ('Ofrecía', 1), ('Tengo', 1), ('Llamó', 1), ('Mirad', 1), ('Creo', 1), ('Atravesaron', 1), ('Adiós', 1), ('Mientras John', 1), ('Miró', 1), ('Habíase', 1), ('Supongo', 1), ('Vínole', 1), ('Penetró', 1), ('Ayer', 1), ('Oídme', 1), ('Pasé', 1), ('Juro', 1), ('Mal', 1), ('¡ Podríais', 1), ('Llevada', 1), ('San Vito', 1), ('Temía', 1), ('Debo', 1), ('Difícilmente', 1), ('Está', 1), ('Harto', 1), ('Variaciones', 1), ('Viola', 1), ('Están', 1), ('¿ Habéis', 1), ('¡ Vedle', 1), ('Obré', 1), ('Querido', 1), ('Eduardo Plummer', 1), ('¡ Bendito', 1), ('Amigos', 1)]\n"
     ]
    }
   ],
   "source": [
    "# Show entities of type PERSON\n",
    "print(find_entities(doc_es, 'PER'))"
   ]
  },
  {
   "cell_type": "code",
   "execution_count": 18,
   "metadata": {},
   "outputs": [
    {
     "data": {
      "text/plain": [
       "{'ADJ',\n",
       " 'ADP',\n",
       " 'ADV',\n",
       " 'AUX',\n",
       " 'CONJ',\n",
       " 'DET',\n",
       " 'INTJ',\n",
       " 'NOUN',\n",
       " 'NUM',\n",
       " 'PART',\n",
       " 'PRON',\n",
       " 'PROPN',\n",
       " 'PUNCT',\n",
       " 'SCONJ',\n",
       " 'SPACE',\n",
       " 'SYM',\n",
       " 'VERB'}"
      ]
     },
     "execution_count": 18,
     "metadata": {},
     "output_type": "execute_result"
    }
   ],
   "source": [
    "# Part of speech (POS) used in the document\n",
    "set(token.pos_ for token in doc_es)"
   ]
  },
  {
   "cell_type": "markdown",
   "metadata": {},
   "source": [
    "<hr>\n",
    "<p><a href=\"https://github.com/ansegura7/NLP/\">« Home</a></p>"
   ]
  }
 ],
 "metadata": {
  "kernelspec": {
   "display_name": "Python 3",
   "language": "python",
   "name": "python3"
  },
  "language_info": {
   "codemirror_mode": {
    "name": "ipython",
    "version": 3
   },
   "file_extension": ".py",
   "mimetype": "text/x-python",
   "name": "python",
   "nbconvert_exporter": "python",
   "pygments_lexer": "ipython3",
   "version": "3.6.8"
  }
 },
 "nbformat": 4,
 "nbformat_minor": 2
}
