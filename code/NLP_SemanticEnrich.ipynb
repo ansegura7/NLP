{
 "cells": [
  {
   "cell_type": "markdown",
   "metadata": {},
   "source": [
    "# NLP - Semantic Enrichment"
   ]
  },
  {
   "cell_type": "markdown",
   "metadata": {},
   "source": [
    "- **Created by Andrés Segura Tinoco**\n",
    "- **Created on June 13, 2019**\n",
    "- **Updated on April 06, 2021**"
   ]
  },
  {
   "cell_type": "markdown",
   "metadata": {},
   "source": [
    "**Semantic Enrichment** refers in general terms to the technologies and practices used to add semantic metadata to content.\n",
    "\n",
    "**SPARQL** is an RDF query language (a semantic query language for databases) able to retrieve and manipulate data stored in Resource Description Framework (RDF) format. It was made a standard by the RDF Data Access Working Group (DAWG) of the World Wide Web Consortium, and is recognized as one of the key technologies of the semantic web <a href=\"#link_one\">[1]</a>.\n",
    "\n",
    "**DBpedia** is a crowd-sourced community effort to extract structured content from the information created in various Wikimedia projects. This structured information resembles an open knowledge graph (OKG) which is available for everyone on the Web <a href=\"#link_two\">[2]</a>."
   ]
  },
  {
   "cell_type": "markdown",
   "metadata": {},
   "source": [
    "In this document, you can see how to enrich entities of the type:\n",
    "- Person\n",
    "- Country\n",
    "- Place\n",
    "- Company\n",
    "- Movie"
   ]
  },
  {
   "cell_type": "markdown",
   "metadata": {},
   "source": [
    "## Semantic Enrichment using SPARQL"
   ]
  },
  {
   "cell_type": "code",
   "execution_count": 1,
   "metadata": {},
   "outputs": [],
   "source": [
    "# Load SPARQL libraries\n",
    "from SPARQLWrapper import SPARQLWrapper, JSON"
   ]
  },
  {
   "cell_type": "code",
   "execution_count": 2,
   "metadata": {},
   "outputs": [],
   "source": [
    "# Returns a clean entity\n",
    "def get_clean_entity(text):\n",
    "    return text.replace(\"'\", \"\").replace('\"', '')"
   ]
  },
  {
   "cell_type": "code",
   "execution_count": 3,
   "metadata": {},
   "outputs": [],
   "source": [
    "# Make a query to sparql\n",
    "def exec_sparql_query(query, verbose=False):\n",
    "    entry_point = \"https://dbpedia.org/sparql\"\n",
    "    header = \"\"\"\n",
    "             PREFIX dbo:<http://dbpedia.org/ontology/>\n",
    "             PREFIX geo:<http://www.georss.org/georss/>\n",
    "            \"\"\"\n",
    "    try:\n",
    "        query = header + query\n",
    "        if verbose:\n",
    "            print(query)\n",
    "        \n",
    "        sparql = SPARQLWrapper(entry_point)\n",
    "        sparql.setQuery(query)\n",
    "        sparql.setReturnFormat(JSON)\n",
    "        result = sparql.query().convert()\n",
    "        \n",
    "        if result and 'results' in result:\n",
    "            result = result['results']['bindings']\n",
    "        \n",
    "        return result\n",
    "    except:\n",
    "        return None"
   ]
  },
  {
   "cell_type": "markdown",
   "metadata": {},
   "source": [
    "### 1. Person"
   ]
  },
  {
   "cell_type": "code",
   "execution_count": 4,
   "metadata": {},
   "outputs": [],
   "source": [
    "# Query in DBpedia the information associated with the person\n",
    "def query_person(person_name):\n",
    "    person_name = get_clean_entity(person_name)\n",
    "    \n",
    "    query = \"\"\"\n",
    "            SELECT (SAMPLE (?name) AS ?name) (SAMPLE (?birthPlace) AS ?birthPlace) (SAMPLE (?birthDate) AS ?birthDate)\n",
    "                   (SAMPLE (?person) AS ?person) (SAMPLE(?description) AS ?description)\n",
    "            WHERE {\n",
    "                ?person dbo:birthPlace ?birthPlace.\n",
    "                ?person dbo:birthDate ?birthDate.\n",
    "                ?person foaf:name ?name.\n",
    "                ?person rdfs:comment ?description. \n",
    "                FILTER (?name like \"%\"\"\" + person_name + \"\"\"%\"^^xsd:char).\n",
    "                FILTER (langMatches(lang(?description), \"en\")).\n",
    "            }\n",
    "            GROUP BY ?person\n",
    "            ORDER BY ?person\n",
    "            \"\"\"\n",
    "    \n",
    "    # Run query against DBpedia\n",
    "    return exec_sparql_query(query)"
   ]
  },
  {
   "cell_type": "code",
   "execution_count": 5,
   "metadata": {},
   "outputs": [
    {
     "data": {
      "text/plain": [
       "{'name': {'type': 'literal', 'xml:lang': 'en', 'value': 'Steve Jobs'},\n",
       " 'birthPlace': {'type': 'uri',\n",
       "  'value': 'http://dbpedia.org/resource/California'},\n",
       " 'birthDate': {'type': 'typed-literal',\n",
       "  'datatype': 'http://www.w3.org/2001/XMLSchema#date',\n",
       "  'value': '1955-02-24'},\n",
       " 'person': {'type': 'uri', 'value': 'http://dbpedia.org/resource/Steve_Jobs'},\n",
       " 'description': {'type': 'literal',\n",
       "  'xml:lang': 'en',\n",
       "  'value': \"Steven Paul Jobs (; February 24, 1955 – October 5, 2011) was an American business magnate, industrial designer, investor, and media proprietor. He was the chairman, chief executive officer (CEO), and co-founder of Apple Inc., the chairman and majority shareholder of Pixar, a member of The Walt Disney Company's board of directors following its acquisition of Pixar, and the founder, chairman, and CEO of NeXT. Jobs is widely recognized as a pioneer of the personal computer revolution of the 1970s and 1980s, along with Apple co-founder Steve Wozniak.\"}}"
      ]
     },
     "execution_count": 5,
     "metadata": {},
     "output_type": "execute_result"
    }
   ],
   "source": [
    "# Ask DBpedia for 'Steve Jobs' person\n",
    "person_name = 'Steve Jobs'\n",
    "result = query_person(person_name)\n",
    "result[0]"
   ]
  },
  {
   "cell_type": "markdown",
   "metadata": {},
   "source": [
    "### 2. Country"
   ]
  },
  {
   "cell_type": "code",
   "execution_count": 6,
   "metadata": {},
   "outputs": [],
   "source": [
    "# Query in DBpedia the information associated with the country\n",
    "def query_country(country):\n",
    "    country = get_clean_entity(country)\n",
    "    \n",
    "    query = \"\"\"\n",
    "            SELECT (SAMPLE(?name) AS ?name) (SAMPLE(?poblation) AS ?poblation) (SAMPLE(?geoloc) AS ?geoloc)\n",
    "                   (SAMPLE(?place) AS ?place) (SAMPLE(?description) AS ?description)\n",
    "            WHERE {\n",
    "                ?place rdf:type dbo:Country.\n",
    "                ?place dbo:abstract ?description.\n",
    "                ?place rdfs:label ?name.\n",
    "                ?place dbo:populationTotal ?poblation.\n",
    "                ?place geo:point  ?geoloc.\n",
    "                FILTER (langMatches(lang(?name),\"en\")).\n",
    "                FILTER (langMatches(lang(?description),\"en\")).\n",
    "                FILTER (?name like \"%\"\"\" + country + \"\"\"%\"^^xsd:char).\n",
    "            }\n",
    "            GROUP BY ?place\n",
    "            ORDER BY DESC(?poblation)\n",
    "            \"\"\"\n",
    "    \n",
    "    # Run query against DBpedia\n",
    "    return exec_sparql_query(query)"
   ]
  },
  {
   "cell_type": "code",
   "execution_count": 7,
   "metadata": {},
   "outputs": [
    {
     "data": {
      "text/plain": [
       "{'name': {'type': 'literal', 'xml:lang': 'en', 'value': 'Malaysia'},\n",
       " 'poblation': {'type': 'typed-literal',\n",
       "  'datatype': 'http://www.w3.org/2001/XMLSchema#nonNegativeInteger',\n",
       "  'value': '32730000'},\n",
       " 'geoloc': {'type': 'literal', 'value': '2.5 112.5'},\n",
       " 'place': {'type': 'uri', 'value': 'http://dbpedia.org/resource/Malaysia'},\n",
       " 'description': {'type': 'literal',\n",
       "  'xml:lang': 'en',\n",
       "  'value': \"Malaysia ( () mə-LAY-zee-ə, -\\u2060zhə; Malay: [məlejsiə]) is a country in Southeast Asia. The federal constitutional monarchy consists of thirteen states and three federal territories, separated by the South China Sea into two regions, Peninsular Malaysia and Borneo's East Malaysia. Peninsular Malaysia shares a land and maritime border with Thailand and maritime borders with Singapore, Vietnam, and Indonesia. East Malaysia shares land and maritime borders with Brunei and Indonesia and a maritime border with the Philippines and Vietnam. Kuala Lumpur is the national capital and largest city while Putrajaya is the seat of the federal government. With a population of over 32 million, Malaysia is the world's 43th-most populous country. The southernmost point of continental Eurasia is in Tanjung Piai. In the tropics, Malaysia is one of 17 megadiverse countries, home to a number of endemic species. Malaysia has its origins in the Malay kingdoms which, from the 18th century, became subject to the British Empire, along with the British Straits Settlements protectorate. Peninsular Malaysia was unified as the Malayan Union in 1946. Malaya was restructured as the Federation of Malaya in 1948 and achieved independence on 31 August 1957. Malaya united with North Borneo, Sarawak, and Singapore on 16 September 1963 to become Malaysia. In 1965, Singapore was expelled from the federation. The country is multi-ethnic and multi-cultural. About half the population is ethnically Malay, with large minorities of Chinese, Indians, and indigenous peoples. While recognising Islam as the country's established religion, the constitution grants freedom of religion to non-Muslims. The government is closely modelled on the Westminster parliamentary system and the legal system is based on common law. The head of state is an elected monarch, known as Yang di-Pertuan Agong, chosen from the hereditary rulers of the nine Malay states every five years. The head of government is the Prime Minister. After independence, the Malaysian GDP grew at an average of 6.5% per annum for almost 50 years. The economy has traditionally been fuelled by its natural resources but is expanding in the sectors of science, tourism, commerce and medical tourism. Malaysia has a newly industrialised market economy, ranked third-largest in Southeast Asia and 33rd-largest in the world. It is a founding member of ASEAN, EAS, OIC and a member of APEC, the Commonwealth and the Non-Aligned Movement.\"}}"
      ]
     },
     "execution_count": 7,
     "metadata": {},
     "output_type": "execute_result"
    }
   ],
   "source": [
    "# Ask DBpedia for 'Malaysia' country\n",
    "country_name = 'Malaysia'\n",
    "result = query_country(country_name)\n",
    "result[0]"
   ]
  },
  {
   "cell_type": "markdown",
   "metadata": {},
   "source": [
    "### 3. Place or Location"
   ]
  },
  {
   "cell_type": "code",
   "execution_count": 8,
   "metadata": {},
   "outputs": [],
   "source": [
    "# Query in DBpedia the information associated with the city\n",
    "def query_place(place):\n",
    "    place = get_clean_entity(place)\n",
    "    \n",
    "    query = \"\"\"\n",
    "            SELECT (SAMPLE(?name) AS ?name) (SAMPLE(?poblation) AS ?poblation) (SAMPLE(?geoloc) AS ?geoloc)\n",
    "                   (SAMPLE(?place) AS ?place) (SAMPLE(?description) AS ?description)\n",
    "            WHERE {\n",
    "                ?place rdf:type dbo:Place.\n",
    "                ?place dbo:abstract ?description.\n",
    "                ?place rdfs:label ?name.\n",
    "                ?place dbo:populationTotal ?poblation.\n",
    "                ?place geo:point ?geoloc.\n",
    "                FILTER (langMatches(lang(?name),\"en\")).\n",
    "                FILTER (langMatches(lang(?description),\"en\")).\n",
    "                FILTER (?name like \"%\"\"\" + place + \"\"\"%\"^^xsd:char).\n",
    "            }\n",
    "            GROUP BY ?place\n",
    "            ORDER BY DESC(?poblation)\n",
    "            \"\"\"\n",
    "    \n",
    "    # Run query against DBpedia\n",
    "    return exec_sparql_query(query)"
   ]
  },
  {
   "cell_type": "code",
   "execution_count": 9,
   "metadata": {},
   "outputs": [
    {
     "data": {
      "text/plain": [
       "{'name': {'type': 'literal', 'xml:lang': 'en', 'value': 'Houston'},\n",
       " 'poblation': {'type': 'typed-literal',\n",
       "  'datatype': 'http://www.w3.org/2001/XMLSchema#nonNegativeInteger',\n",
       "  'value': '2100263'},\n",
       " 'geoloc': {'type': 'literal',\n",
       "  'value': '29.762777777777778 -95.38305555555556'},\n",
       " 'place': {'type': 'uri', 'value': 'http://dbpedia.org/resource/Houston'},\n",
       " 'description': {'type': 'literal',\n",
       "  'xml:lang': 'en',\n",
       "  'value': 'Houston ( () HEW-stən) is the most populous city in the U.S. state of Texas, fourth most populous city in the United States, most populous city in the Southern United States, as well as the sixth most populous in North America, with an estimated 2019 population of 2,320,268. Located in Southeast Texas near Galveston Bay and the Gulf of Mexico, it is the seat of Harris County and the principal city of the Greater Houston metropolitan area, which is the fifth most populous metropolitan statistical area in the United States and the second most populous in Texas after the Dallas-Fort Worth metroplex, with a population of 6,997,384 in 2018. Comprising a total area of 637.4 square miles (1,651 km2), Houston is the eighth most expansive city in the United States (including consolidated city-counties). It is the largest city in the United States by total area, whose government is not consolidated with that of a county, parish or borough. Though primarily in Harris County, small portions of the city extend into Fort Bend and Montgomery counties, bordering other principal communities of Greater Houston such as Sugar Land and The Woodlands. The city of Houston was founded by land investors on August 30, 1836, at the confluence of Buffalo Bayou and White Oak Bayou (a point now known as Allen\\'s Landing) and incorporated as a city on June 5, 1837. The city is named after former General Sam Houston, who was president of the Republic of Texas and had won Texas\\' independence from Mexico at the Battle of San Jacinto 25 miles (40 km) east of Allen\\'s Landing. After briefly serving as the capital of the Texas Republic in the late 1830s, Houston grew steadily into a regional trading center for the remainder of the 19th century. The arrival of the 20th century saw a convergence of economic factors which fueled rapid growth in Houston, including a burgeoning port and railroad industry, the decline of Galveston as Texas\\' primary port following a devastating 1900 hurricane, the subsequent construction of the Houston Ship Channel, and the Texas oil boom. In the mid-20th century, Houston\\'s economy diversified as it became home to the Texas Medical Center—the world\\'s largest concentration of healthcare and research institutions—and NASA\\'s Johnson Space Center, where the Mission Control Center is located. Houston\\'s economy since the late 19th century has a broad industrial base in energy, manufacturing, aeronautics, and transportation. Leading in healthcare sectors and building oilfield equipment, Houston has the second most Fortune 500 headquarters of any U.S. municipality within its city limits (after New York City). The Port of Houston ranks first in the United States in international waterborne tonnage handled and second in total cargo tonnage handled. Nicknamed the \"Bayou City\" \"Space City\", \"H-Town\", and \"the 713\", Houston has become a global city, with strengths in culture, medicine, and research. The city has a population from various ethnic and religious backgrounds and a large and growing international community. Houston is the most diverse metropolitan area in Texas and has been described as the most racially and ethnically diverse major metropolis in the U.S. It is home to many cultural institutions and exhibits, which attract more than 7 million visitors a year to the Museum District. Houston has an active visual and performing arts scene in the Theater District and offers year-round resident companies in all major performing arts.'}}"
      ]
     },
     "execution_count": 9,
     "metadata": {},
     "output_type": "execute_result"
    }
   ],
   "source": [
    "# Ask DBpedia for 'Houston' place\n",
    "city_name = 'Houston'\n",
    "result = query_place(city_name)\n",
    "result[0]"
   ]
  },
  {
   "cell_type": "markdown",
   "metadata": {},
   "source": [
    "### 4. Company"
   ]
  },
  {
   "cell_type": "code",
   "execution_count": 10,
   "metadata": {},
   "outputs": [],
   "source": [
    "# Query in DBpedia the information associated with the company\n",
    "def query_company(company):\n",
    "    company = get_clean_entity(company)\n",
    "    \n",
    "    query = \"\"\"\n",
    "            SELECT (SAMPLE (?company) AS ?company) (SAMPLE(?name) AS ?name) (SAMPLE(?industry) AS ?industry)\n",
    "                   (SAMPLE (?foundingYear) AS ?foundingYear) (SAMPLE(?description) AS ?description)\n",
    "            WHERE {\n",
    "               ?company rdf:type dbo:Company.\n",
    "               ?company foaf:name ?name.\n",
    "               ?company dbo:industry ?industry.\n",
    "               ?company dbo:foundingYear ?foundingYear.\n",
    "               ?company dbo:abstract ?description.\n",
    "               FILTER (?name like \"%\"\"\"+ company + \"\"\"%\"^^xsd:char).\n",
    "               FILTER (langMatches(lang(?name),\"en\")). \n",
    "            }\n",
    "            GROUP BY ?company\n",
    "            ORDER BY ?company\n",
    "            \"\"\"\n",
    "    \n",
    "    # Run query against DBpedia\n",
    "    return exec_sparql_query(query)"
   ]
  },
  {
   "cell_type": "code",
   "execution_count": 11,
   "metadata": {
    "scrolled": false
   },
   "outputs": [
    {
     "data": {
      "text/plain": [
       "{'company': {'type': 'uri',\n",
       "  'value': 'http://dbpedia.org/resource/Amazon_Books'},\n",
       " 'name': {'type': 'literal', 'xml:lang': 'en', 'value': 'Amazon Books'},\n",
       " 'industry': {'type': 'uri', 'value': 'http://dbpedia.org/resource/Retail'},\n",
       " 'foundingYear': {'type': 'typed-literal',\n",
       "  'datatype': 'http://www.w3.org/2001/XMLSchema#gYear',\n",
       "  'value': '2015'},\n",
       " 'description': {'type': 'literal',\n",
       "  'xml:lang': 'en',\n",
       "  'value': 'Amazon Books is a chain of retail bookstores owned by online retailer Amazon. The first store opened on November 2, 2015, in Seattle, Washington. As of 2018, Amazon Books has a total of seventeen stores, with plans to expand to more locations.'}}"
      ]
     },
     "execution_count": 11,
     "metadata": {},
     "output_type": "execute_result"
    }
   ],
   "source": [
    "# Ask DBpedia for 'Linux' company\n",
    "company_name = 'Amazon Books'\n",
    "result = query_company(company_name)\n",
    "result[0]"
   ]
  },
  {
   "cell_type": "markdown",
   "metadata": {},
   "source": [
    "### 5. Movie or Film"
   ]
  },
  {
   "cell_type": "code",
   "execution_count": 12,
   "metadata": {},
   "outputs": [],
   "source": [
    "# Query in DBpedia the information associated with the movie\n",
    "def query_movie(movie):\n",
    "    company = get_clean_entity(movie)\n",
    "    \n",
    "    query = \"\"\"\n",
    "            SELECT (SAMPLE(?name) AS ?name) (SAMPLE(?movie) AS ?movie) (SAMPLE(?actor) AS ?actor)\n",
    "                   (SAMPLE(?director) AS ?director) (SAMPLE(?description) AS ?description)\n",
    "            WHERE {\n",
    "               ?movie rdf:type dbo:Film.\n",
    "               ?movie foaf:name ?name.\n",
    "               ?movie dbo:starring ?actor.\n",
    "               ?movie dbo:director ?director.\n",
    "               ?movie dbo:abstract ?description.\n",
    "               FILTER (?name like \"%\"\"\"+ movie +\"\"\"%\"^^xsd:char ).\n",
    "               FILTER (langMatches(lang(?description),\"en\")).\n",
    "            }\n",
    "            GROUP BY ?movie ?actor\n",
    "            ORDER BY ?movie \n",
    "            \"\"\"\n",
    "    \n",
    "    # Run query against DBpedia\n",
    "    return exec_sparql_query(query)"
   ]
  },
  {
   "cell_type": "code",
   "execution_count": 13,
   "metadata": {},
   "outputs": [
    {
     "data": {
      "text/plain": [
       "{'name': {'type': 'literal',\n",
       "  'xml:lang': 'en',\n",
       "  'value': 'John Wick: Chapter 2'},\n",
       " 'movie': {'type': 'uri',\n",
       "  'value': 'http://dbpedia.org/resource/John_Wick:_Chapter_2'},\n",
       " 'actor': {'type': 'uri',\n",
       "  'value': 'http://dbpedia.org/resource/John_Leguizamo'},\n",
       " 'director': {'type': 'uri',\n",
       "  'value': 'http://dbpedia.org/resource/Chad_Stahelski'},\n",
       " 'description': {'type': 'literal',\n",
       "  'xml:lang': 'en',\n",
       "  'value': 'John Wick: Chapter 2 (also known as simply John Wick 2) is a 2017 American neo-noir action-thriller film directed by Chad Stahelski and written by Derek Kolstad. It is the second installment in the John Wick film series, and the sequel to the 2014 film John Wick. It stars Keanu Reeves, Common, Laurence Fishburne, Riccardo Scamarcio, Ruby Rose, John Leguizamo, and Ian McShane. The plot follows hitman John Wick (Reeves), who goes on the run after a bounty is placed on him. Principal photography began on October 26, 2015, in New York City. The film premiered in Los Angeles on January 30, 2017, and was theatrically released in the United States on February 10, 2017. It was acclaimed by critics, with praise for the action sequences, direction, editing, visual style and the performances of the cast, particularly Reeves. The film grossed $200 million worldwide against its $40 million budget, over twice the $85 million gross of the original film. A sequel, titled John Wick: Chapter 3 – Parabellum, was released on May 17, 2019.'}}"
      ]
     },
     "execution_count": 13,
     "metadata": {},
     "output_type": "execute_result"
    }
   ],
   "source": [
    "# Ask DBpedia for 'John Wick' movie\n",
    "movie_name = 'John Wick'\n",
    "result = query_movie(movie_name)\n",
    "result[0]"
   ]
  },
  {
   "cell_type": "markdown",
   "metadata": {},
   "source": [
    "## Reference"
   ]
  },
  {
   "cell_type": "markdown",
   "metadata": {},
   "source": [
    "<a name='link_one' href='https://en.wikipedia.org/wiki/SPARQL' target='_blank' >[1]</a> Wikipedia - SPARQL.  \n",
    "<a name='link_two' href='https://wiki.dbpedia.org/about' target='_blank' >[2]</a> DBpedia home page.  "
   ]
  },
  {
   "cell_type": "markdown",
   "metadata": {},
   "source": [
    "<hr>\n",
    "<p><a href=\"https://ansegura7.github.io/NLP/\">« Home</a></p>"
   ]
  }
 ],
 "metadata": {
  "kernelspec": {
   "display_name": "Python 3",
   "language": "python",
   "name": "python3"
  },
  "language_info": {
   "codemirror_mode": {
    "name": "ipython",
    "version": 3
   },
   "file_extension": ".py",
   "mimetype": "text/x-python",
   "name": "python",
   "nbconvert_exporter": "python",
   "pygments_lexer": "ipython3",
   "version": "3.8.5"
  }
 },
 "nbformat": 4,
 "nbformat_minor": 2
}
