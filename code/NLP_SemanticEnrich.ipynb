{
 "cells": [
  {
   "cell_type": "markdown",
   "metadata": {},
   "source": [
    "# NLP - Semantic Enrichment"
   ]
  },
  {
   "cell_type": "markdown",
   "metadata": {},
   "source": [
    "- **Created by Andrés Segura Tinoco**\n",
    "- **Created on June 13, 2019**"
   ]
  },
  {
   "cell_type": "markdown",
   "metadata": {},
   "source": [
    "**Semantic Enrichment** refers in general terms to the technologies and practices used to add semantic metadata to content.\n",
    "\n",
    "**<a href='https://en.wikipedia.org/wiki/SPARQL' target='_blank' >SPARQL</a>** is an RDF query language (a semantic query language for databases) able to retrieve and manipulate data stored in Resource Description Framework (RDF) format. It was made a standard by the RDF Data Access Working Group (DAWG) of the World Wide Web Consortium, and is recognized as one of the key technologies of the semantic web.\n",
    "\n",
    "**<a href='https://wiki.dbpedia.org/about' target='_blank' >DBpedia</a>** is a crowd-sourced community effort to extract structured content from the information created in various Wikimedia projects. This structured information resembles an open knowledge graph (OKG) which is available for everyone on the Web."
   ]
  },
  {
   "cell_type": "markdown",
   "metadata": {},
   "source": [
    "In this document, you can see how to enrich entities of the type:\n",
    "- Person\n",
    "- Country\n",
    "- Place\n",
    "- Company\n",
    "- Movie"
   ]
  },
  {
   "cell_type": "code",
   "execution_count": 1,
   "metadata": {},
   "outputs": [],
   "source": [
    "# Load SPARQL libraries\n",
    "from SPARQLWrapper import SPARQLWrapper, JSON"
   ]
  },
  {
   "cell_type": "code",
   "execution_count": 2,
   "metadata": {},
   "outputs": [],
   "source": [
    "# Returns a clean entity\n",
    "def get_clean_entity(text):\n",
    "    return text.replace(\"'\", \"\").replace('\"', '')"
   ]
  },
  {
   "cell_type": "code",
   "execution_count": 3,
   "metadata": {},
   "outputs": [],
   "source": [
    "# Make a query to sparql\n",
    "def exec_sparql_query(query):\n",
    "    entry_point = \"https://dbpedia.org/sparql\"\n",
    "    header = \"\"\"\n",
    "             PREFIX dbo:<http://dbpedia.org/ontology/>\n",
    "             PREFIX geo:<http://www.georss.org/georss/>\n",
    "            \"\"\"\n",
    "    try:\n",
    "        query = header + query\n",
    "        \n",
    "        sparql = SPARQLWrapper(entry_point)\n",
    "        sparql.setQuery(query)\n",
    "        sparql.setReturnFormat(JSON)\n",
    "        result = sparql.query().convert()\n",
    "        \n",
    "        if result and 'results' in result:\n",
    "            result = result['results']['bindings']\n",
    "        \n",
    "        return result\n",
    "    except:\n",
    "        return None"
   ]
  },
  {
   "cell_type": "markdown",
   "metadata": {},
   "source": [
    "### Person"
   ]
  },
  {
   "cell_type": "code",
   "execution_count": 4,
   "metadata": {},
   "outputs": [],
   "source": [
    "# Query in DBpedia the information associated with the person\n",
    "def query_person(person_name):\n",
    "    person_name = get_clean_entity(person_name)\n",
    "    \n",
    "    query = \"\"\"\n",
    "            SELECT (SAMPLE (?name) AS ?name) (SAMPLE (?birthPlace) AS ?birthPlace) (SAMPLE (?birthDate) AS ?birthDate)\n",
    "                   (SAMPLE (?person) AS ?person) (SAMPLE(?description) AS ?description)\n",
    "            WHERE {\n",
    "                ?person dbo:birthPlace ?birthPlace.\n",
    "                ?person dbo:birthDate ?birthDate.\n",
    "                ?person foaf:name ?name.\n",
    "                ?person rdfs:comment ?description. \n",
    "                FILTER (?name like \"%\"\"\" + person_name + \"\"\"%\"^^xsd:char).\n",
    "                FILTER (langMatches(lang(?description), \"en\")).\n",
    "            }\n",
    "            GROUP BY ?person\n",
    "            \"\"\"\n",
    "    \n",
    "    # Run query against DBpedia\n",
    "    return exec_sparql_query(query)"
   ]
  },
  {
   "cell_type": "code",
   "execution_count": 5,
   "metadata": {},
   "outputs": [
    {
     "data": {
      "text/plain": [
       "{'name': {'type': 'literal', 'xml:lang': 'en', 'value': 'Elon Musk'},\n",
       " 'birthPlace': {'type': 'uri',\n",
       "  'value': 'http://dbpedia.org/resource/Pretoria'},\n",
       " 'birthDate': {'type': 'typed-literal',\n",
       "  'datatype': 'http://www.w3.org/2001/XMLSchema#date',\n",
       "  'value': '1971-06-28'},\n",
       " 'person': {'type': 'uri', 'value': 'http://dbpedia.org/resource/Elon_Musk'},\n",
       " 'description': {'type': 'literal',\n",
       "  'xml:lang': 'en',\n",
       "  'value': 'Elon Reeve Musk (/ˈiːlɒn ˈmʌsk/; born June 28, 1971) is a South African-born Canadian-American business magnate, investor, engineer and inventor. He is the founder, CEO, and CTO of SpaceX; co-founder, CEO, and product architect of Tesla Motors; co-founder and chairman of SolarCity; co-chairman of OpenAI; co-founder of Zip2; and founder of X.com which merged with PayPal of Confinity. As of June 2016, he has an estimated net worth of US$12.7 billion, making him the 83rd wealthiest person in the world.'}}"
      ]
     },
     "execution_count": 5,
     "metadata": {},
     "output_type": "execute_result"
    }
   ],
   "source": [
    "# Ask DBpedia for 'Elon Musk' person\n",
    "person_name = 'Elon Musk'\n",
    "result = query_person(person_name)\n",
    "result[0]"
   ]
  },
  {
   "cell_type": "markdown",
   "metadata": {},
   "source": [
    "### Country"
   ]
  },
  {
   "cell_type": "code",
   "execution_count": 6,
   "metadata": {},
   "outputs": [],
   "source": [
    "# Query in DBpedia the information associated with the country\n",
    "def query_country(country):\n",
    "    country = get_clean_entity(country)\n",
    "    \n",
    "    query = \"\"\"\n",
    "            SELECT (SAMPLE(?name) AS ?name) (SAMPLE(?poblation) AS ?poblation) (SAMPLE(?geoloc) AS ?geoloc)\n",
    "                   (SAMPLE(?place) AS ?place) (SAMPLE(?description) AS ?description)\n",
    "            WHERE {\n",
    "                ?place rdf:type dbo:Country.\n",
    "                ?place dbo:abstract ?description.\n",
    "                ?place rdfs:label ?name.\n",
    "                ?place dbo:populationTotal ?poblation.\n",
    "                ?place geo:point  ?geoloc.\n",
    "                FILTER (langMatches(lang(?name),\"en\")).\n",
    "                FILTER (langMatches(lang(?description),\"en\")).\n",
    "                FILTER (?name like \"%\"\"\" + country + \"\"\"%\"^^xsd:char).\n",
    "            }\n",
    "            GROUP BY ?place\n",
    "            ORDER BY DESC(?poblation)\n",
    "            \"\"\"\n",
    "    \n",
    "    # Run query against DBpedia\n",
    "    return exec_sparql_query(query)"
   ]
  },
  {
   "cell_type": "code",
   "execution_count": 7,
   "metadata": {},
   "outputs": [
    {
     "data": {
      "text/plain": [
       "{'name': {'type': 'literal', 'xml:lang': 'en', 'value': 'Malaysia'},\n",
       " 'poblation': {'type': 'typed-literal',\n",
       "  'datatype': 'http://www.w3.org/2001/XMLSchema#nonNegativeInteger',\n",
       "  'value': '28334'},\n",
       " 'geoloc': {'type': 'literal', 'value': '2.5 112.5'},\n",
       " 'place': {'type': 'uri', 'value': 'http://dbpedia.org/resource/Malaysia'},\n",
       " 'description': {'type': 'literal',\n",
       "  'xml:lang': 'en',\n",
       "  'value': 'Malaysia (/məˈleɪʒə/ mə-LAY-zhə or /məˈleɪsiə/ mə-LAY-see-ə; Malaysian pronunciation: [məlejsiə]) is a federal constitutional monarchy located in Southeast Asia. It consists of thirteen states and three federal territories and has a total landmass of 330,803 square kilometres (127,720 sq mi) separated by the South China Sea into two similarly sized regions, Peninsular Malaysia and East Malaysia (Malaysian Borneo). Peninsular Malaysia shares a land and maritime border with Thailand and maritime borders with Singapore, Vietnam, and Indonesia. East Malaysia shares land and maritime borders with Brunei and Indonesia and a maritime border with the Philippines and Vietnam. The capital city is Kuala Lumpur, while Putrajaya is the seat of the federal government. With a population of over 30 million, Malaysia is the 44th most populous country. The southernmost point of continental Eurasia, Tanjung Piai, is in Malaysia. Located in the tropics, Malaysia is one of 17 megadiverse countries on earth, with large numbers of endemic species. Malaysia has its origins in the Malay kingdoms present in the area which, from the 18th century, became subject to the British Empire. The first British territories were known as the Straits Settlements, whose establishment was followed by the Malay kingdoms becoming British protectorates. The territories on Peninsular Malaysia were first unified as the Malayan Union in 1946. Malaya was restructured as the Federation of Malaya in 1948, and achieved independence on 31 August 1957. Malaya united with North Borneo, Sarawak, and Singapore on 16 September 1963. Less than two years later in 1965, Singapore was expelled from the federation. The country is multi-ethnic and multi-cultural, which plays a large role in politics. About half the population is ethnically Malay, with large minorities of Malaysian Chinese, Malaysian Indians, and indigenous peoples. The constitution declares Islam the state religion while allowing freedom of religion for non-Muslims. The government system is closely modelled on the Westminster parliamentary system and the legal system is based on common law. The head of state is the king, known as the Yang di-Pertuan Agong. He is an elected monarch chosen from the hereditary rulers of the nine Malay states every five years. The head of government is the prime minister. Since its independence, Malaysia has had one of the best economic records in Asia, with its GDP growing at an average of 6.5% per annum for almost 50 years. The economy has traditionally been fuelled by its natural resources, but is expanding in the sectors of science, tourism, commerce and medical tourism. Today, Malaysia has a newly industrialised market economy, ranked third largest in Southeast Asia and 29th largest in the world. It is a founding member of the Association of Southeast Asian Nations, the East Asia Summit and the Organisation of Islamic Cooperation, and a member of Asia-Pacific Economic Cooperation, the Commonwealth of Nations, and the Non-Aligned Movement.'}}"
      ]
     },
     "execution_count": 7,
     "metadata": {},
     "output_type": "execute_result"
    }
   ],
   "source": [
    "# Ask DBpedia for 'Malaysia' country\n",
    "country_name = 'Malaysia'\n",
    "result = query_country(country_name)\n",
    "result[0]"
   ]
  },
  {
   "cell_type": "markdown",
   "metadata": {},
   "source": [
    "### Place or Location"
   ]
  },
  {
   "cell_type": "code",
   "execution_count": 8,
   "metadata": {},
   "outputs": [],
   "source": [
    "# Query in DBpedia the information associated with the city\n",
    "def query_place(place):\n",
    "    place = get_clean_entity(place)\n",
    "    \n",
    "    query = \"\"\"\n",
    "            SELECT (SAMPLE(?name) AS ?name) (SAMPLE(?poblation) AS ?poblation) (SAMPLE(?geoloc) AS ?geoloc)\n",
    "                   (SAMPLE(?place) AS ?place) (SAMPLE(?description) AS ?description)\n",
    "            WHERE {\n",
    "                ?place rdf:type dbo:Place.\n",
    "                ?place dbo:abstract ?description.\n",
    "                ?place rdfs:label ?name.\n",
    "                ?place dbo:populationTotal ?poblation.\n",
    "                ?place geo:point ?geoloc.\n",
    "                FILTER (langMatches(lang(?name),\"en\")).\n",
    "                FILTER (langMatches(lang(?description),\"en\")).\n",
    "                FILTER (?name like \"%\"\"\" + place + \"\"\"%\"^^xsd:char).\n",
    "            }\n",
    "            GROUP BY ?place\n",
    "            ORDER BY DESC(?poblation)\n",
    "            \"\"\"\n",
    "    \n",
    "    # Run query against DBpedia\n",
    "    return exec_sparql_query(query)"
   ]
  },
  {
   "cell_type": "code",
   "execution_count": 9,
   "metadata": {},
   "outputs": [
    {
     "data": {
      "text/plain": [
       "{'name': {'type': 'literal', 'xml:lang': 'en', 'value': 'Houston'},\n",
       " 'poblation': {'type': 'typed-literal',\n",
       "  'datatype': 'http://www.w3.org/2001/XMLSchema#nonNegativeInteger',\n",
       "  'value': '2099451'},\n",
       " 'geoloc': {'type': 'literal',\n",
       "  'value': '29.762777777777778 -95.38305555555556'},\n",
       " 'place': {'type': 'uri', 'value': 'http://dbpedia.org/resource/Houston'},\n",
       " 'description': {'type': 'literal',\n",
       "  'xml:lang': 'en',\n",
       "  'value': 'Houston (/ˈhjuːstən/ HYOO-stən) is the most populous city in Texas and the fourth-most populous city in the United States, located in Southeast Texas near the Gulf of Mexico. With a census-estimated 2014 population of 2.239 million within a land area of 599.6 square miles (1,553 km2), it also is the largest city in the Southern United States, as well as the seat of Harris County. It is the principal city of Houston–The Woodlands–Sugar Land, which is the fifth-most populated metropolitan area in the United States. Houston was founded on August 28, 1836 near the banks of Buffalo Bayou (now known as Allen\\'s Landing) and incorporated as a city on June 5, 1837. The city was named after former General Sam Houston, who was president of the Republic of Texas and had commanded and won at the Battle of San Jacinto 25 miles (40 km) east of where the city was established. The burgeoning port and railroad industry, combined with oil discovery in 1901, has induced continual surges in the city\\'s population. In the mid-20th century, Houston became the home of the Texas Medical Center—the world\\'s largest concentration of healthcare and research institutions—and NASA\\'s Johnson Space Center, where the Mission Control Center is located. Houston\\'s economy has a broad industrial base in energy, manufacturing, aeronautics, and transportation. It is also leading in health care sectors and building oilfield equipment; only New York City is home to more Fortune 500 headquarters within its city limits. The Port of Houston ranks first in the United States in international waterborne tonnage handled and second in total cargo tonnage handled. Nicknamed the \"Space City\", Houston is a global city, with strengths in business, international trade, entertainment, culture, media, fashion, science, sports, technology, education, medicine, and research. The city has a population from various ethnic and religious backgrounds and a large and growing international community. Houston is the most diverse city in Texas and has been described as the most diverse in the United States. It is home to many cultural institutions and exhibits, which attract more than 7 million visitors a year to the Museum District. Houston has an active visual and performing arts scene in the Theater District and offers year-round resident companies in all major performing arts.'}}"
      ]
     },
     "execution_count": 9,
     "metadata": {},
     "output_type": "execute_result"
    }
   ],
   "source": [
    "# Ask DBpedia for 'Houston' place\n",
    "city_name = 'Houston'\n",
    "result = query_place(city_name)\n",
    "result[0]"
   ]
  },
  {
   "cell_type": "markdown",
   "metadata": {},
   "source": [
    "### Company"
   ]
  },
  {
   "cell_type": "code",
   "execution_count": 10,
   "metadata": {},
   "outputs": [],
   "source": [
    "# Query in DBpedia the information associated with the company\n",
    "def query_company(company):\n",
    "    company = get_clean_entity(company)\n",
    "    \n",
    "    query = \"\"\"\n",
    "            SELECT (SAMPLE (?company) AS ?company) (SAMPLE(?name) AS ?name) (SAMPLE(?industry) AS ?industry)\n",
    "                   (SAMPLE (?foundingYear) AS ?foundingYear) (SAMPLE(?description) AS ?description)\n",
    "            WHERE {\n",
    "               ?company rdf:type dbo:Company.\n",
    "               ?company foaf:name ?name.\n",
    "               ?company dbo:industry ?industry.\n",
    "               ?company dbo:foundingYear ?foundingYear.\n",
    "               ?company dbo:abstract ?description.\n",
    "               FILTER (?name like \"%\"\"\"+ company + \"\"\"%\"^^xsd:char).\n",
    "               FILTER (langMatches(lang(?name),\"en\")). \n",
    "            }\n",
    "            GROUP BY ?company\n",
    "            \"\"\"\n",
    "    \n",
    "    # Run query against DBpedia\n",
    "    return exec_sparql_query(query)"
   ]
  },
  {
   "cell_type": "code",
   "execution_count": 11,
   "metadata": {
    "scrolled": false
   },
   "outputs": [
    {
     "data": {
      "text/plain": [
       "{'company': {'type': 'uri',\n",
       "  'value': 'http://dbpedia.org/resource/Linux_Game_Publishing'},\n",
       " 'name': {'type': 'literal',\n",
       "  'xml:lang': 'en',\n",
       "  'value': 'Linux Game Publishing, Ltd.'},\n",
       " 'industry': {'type': 'uri',\n",
       "  'value': 'http://dbpedia.org/resource/Video_game_industry'},\n",
       " 'foundingYear': {'type': 'typed-literal',\n",
       "  'datatype': 'http://www.w3.org/2001/XMLSchema#gYear',\n",
       "  'value': '2001'},\n",
       " 'description': {'type': 'literal',\n",
       "  'xml:lang': 'de',\n",
       "  'value': 'Linux Game Publishing (kurz LGP) ist ein Software-Unternehmen mit Sitz in Nottingham, England, das darauf spezialisiert ist, Computerspiele nach Linux zu portieren.'}}"
      ]
     },
     "execution_count": 11,
     "metadata": {},
     "output_type": "execute_result"
    }
   ],
   "source": [
    "# Ask DBpedia for 'Linux' company\n",
    "company_name = 'Linux'\n",
    "result = query_company(company_name)\n",
    "result[0]"
   ]
  },
  {
   "cell_type": "markdown",
   "metadata": {},
   "source": [
    "### Movie or Film"
   ]
  },
  {
   "cell_type": "code",
   "execution_count": 12,
   "metadata": {},
   "outputs": [],
   "source": [
    "# Query in DBpedia the information associated with the movie\n",
    "def query_movie(movie):\n",
    "    company = get_clean_entity(movie)\n",
    "    \n",
    "    query = \"\"\"\n",
    "            SELECT (SAMPLE(?name) AS ?name) (SAMPLE(?movie) AS ?movie) (SAMPLE(?actor) AS ?actor)\n",
    "                   (SAMPLE(?director) AS ?director) (SAMPLE(?description) AS ?description)\n",
    "            WHERE {\n",
    "               ?movie rdf:type dbo:Film.\n",
    "               ?movie foaf:name ?name.\n",
    "               ?movie dbo:starring ?actor.\n",
    "               ?movie dbo:director ?director.\n",
    "               ?movie dbo:abstract ?description.\n",
    "               FILTER (?name like \"%\"\"\"+ movie +\"\"\"%\"^^xsd:char ).\n",
    "               FILTER (langMatches(lang(?description),\"en\")).\n",
    "            }\n",
    "            GROUP BY ?movie ?actor\n",
    "            \"\"\"\n",
    "    \n",
    "    # Run query against DBpedia\n",
    "    return exec_sparql_query(query)"
   ]
  },
  {
   "cell_type": "code",
   "execution_count": 13,
   "metadata": {},
   "outputs": [
    {
     "data": {
      "text/plain": [
       "{'name': {'type': 'literal',\n",
       "  'xml:lang': 'en',\n",
       "  'value': 'John Wick: Chapter 2'},\n",
       " 'movie': {'type': 'uri',\n",
       "  'value': 'http://dbpedia.org/resource/John_Wick:_Chapter_2'},\n",
       " 'actor': {'type': 'uri', 'value': 'http://dbpedia.org/resource/Keanu_Reeves'},\n",
       " 'director': {'type': 'uri',\n",
       "  'value': 'http://dbpedia.org/resource/Chad_Stahelski'},\n",
       " 'description': {'type': 'literal',\n",
       "  'xml:lang': 'en',\n",
       "  'value': 'John Wick: Chapter 2 is an upcoming American action thriller film directed by Chad Stahelski and written by Derek Kolstad. It is a sequel to 2014 film John Wick. The film stars Keanu Reeves, Common, Bridget Moynahan, Ian McShane, and John Leguizamo. Principal photography began on October 26, 2015, in New York City and the film is set to be released on February 10, 2017.'}}"
      ]
     },
     "execution_count": 13,
     "metadata": {},
     "output_type": "execute_result"
    }
   ],
   "source": [
    "# Ask DBpedia for 'Linux' company\n",
    "movie_name = 'John Wick'\n",
    "result = query_movie(movie_name)\n",
    "result[0]"
   ]
  },
  {
   "cell_type": "markdown",
   "metadata": {},
   "source": [
    "<hr>\n",
    "<p><a href=\"https://ansegura7.github.io/NLP/\">« Home</a></p>"
   ]
  }
 ],
 "metadata": {
  "kernelspec": {
   "display_name": "Python 3",
   "language": "python",
   "name": "python3"
  },
  "language_info": {
   "codemirror_mode": {
    "name": "ipython",
    "version": 3
   },
   "file_extension": ".py",
   "mimetype": "text/x-python",
   "name": "python",
   "nbconvert_exporter": "python",
   "pygments_lexer": "ipython3",
   "version": "3.6.8"
  }
 },
 "nbformat": 4,
 "nbformat_minor": 2
}
