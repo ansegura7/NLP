{
 "cells": [
  {
   "cell_type": "markdown",
   "id": "d1865a41",
   "metadata": {},
   "source": [
    "# NLP - Using Stanza library"
   ]
  },
  {
   "cell_type": "markdown",
   "id": "c4878ed3",
   "metadata": {},
   "source": [
    "- **Created by Andrés Segura Tinoco**\n",
    "- **Created on January 21, 2022**\n",
    "- **Updated on January 21, 2022**"
   ]
  },
  {
   "cell_type": "markdown",
   "id": "50601c92",
   "metadata": {},
   "source": [
    "**Stanza** is a Python NLP toolkit that supports 60+ human languages. It is built with highly accurate neural network components that enable efficient training and evaluation with your own annotated data, and offers pretrained models on 100 treebanks. Additionally, Stanza provides a stable, officially maintained Python interface to **Java Stanford CoreNLP Toolkit**."
   ]
  },
  {
   "cell_type": "code",
   "execution_count": 1,
   "id": "601ed436",
   "metadata": {},
   "outputs": [],
   "source": [
    "import stanza"
   ]
  },
  {
   "cell_type": "code",
   "execution_count": 2,
   "id": "0f2cec00",
   "metadata": {},
   "outputs": [
    {
     "data": {
      "text/plain": [
       "'1.2.3'"
      ]
     },
     "execution_count": 2,
     "metadata": {},
     "output_type": "execute_result"
    }
   ],
   "source": [
    "stanza.__version__"
   ]
  },
  {
   "cell_type": "markdown",
   "id": "d32b42b5",
   "metadata": {},
   "source": [
    "## Stanza Text Processing"
   ]
  },
  {
   "cell_type": "markdown",
   "id": "4c2e8997",
   "metadata": {},
   "source": [
    "The following is a set of English sentences from Chapter 1 (A SCANDAL IN BOHEMIA) of the book The Adventures of Sherlock Holmes by Sr. Arthur Conan Doyle."
   ]
  },
  {
   "cell_type": "code",
   "execution_count": 3,
   "id": "4aecf95d",
   "metadata": {},
   "outputs": [],
   "source": [
    "# Sentences\n",
    "en_text = \"\"\"\n",
    "To Sherlock Holmes she is always the woman. \n",
    "I have seldom heard him mention her under any other name. \n",
    "In his eyes she eclipses and predominates the whole of her sex. \n",
    "It was not that he felt any emotion akin to love for Irene Adler.\n",
    "\"\"\""
   ]
  },
  {
   "cell_type": "markdown",
   "id": "d7ee286e",
   "metadata": {},
   "source": [
    "### Step 1 - Downloading model\n",
    "Download an English model into the default directory. This command should not always be executed, but only the first time an English model is used or when it needs to be updated."
   ]
  },
  {
   "cell_type": "code",
   "execution_count": 4,
   "id": "efffea12",
   "metadata": {},
   "outputs": [
    {
     "name": "stdout",
     "output_type": "stream",
     "text": [
      "Downloading English model...\n"
     ]
    }
   ],
   "source": [
    "print(\"Downloading English model...\")\n",
    "#stanza.download('en')"
   ]
  },
  {
   "cell_type": "markdown",
   "id": "d2748753",
   "metadata": {},
   "source": [
    "### Step 2 - Creating pipeline"
   ]
  },
  {
   "cell_type": "code",
   "execution_count": 5,
   "id": "356abb86",
   "metadata": {},
   "outputs": [
    {
     "name": "stderr",
     "output_type": "stream",
     "text": [
      "2022-01-20 11:06:48 INFO: Loading these models for language: en (English):\n",
      "=========================\n",
      "| Processor | Package   |\n",
      "-------------------------\n",
      "| tokenize  | combined  |\n",
      "| pos       | combined  |\n",
      "| lemma     | combined  |\n",
      "| depparse  | combined  |\n",
      "| sentiment | sstplus   |\n",
      "| ner       | ontonotes |\n",
      "=========================\n",
      "\n",
      "2022-01-20 11:06:48 INFO: Use device: cpu\n",
      "2022-01-20 11:06:48 INFO: Loading: tokenize\n",
      "2022-01-20 11:06:48 INFO: Loading: pos\n"
     ]
    },
    {
     "name": "stdout",
     "output_type": "stream",
     "text": [
      "Building an English pipeline...\n"
     ]
    },
    {
     "name": "stderr",
     "output_type": "stream",
     "text": [
      "2022-01-20 11:06:48 INFO: Loading: lemma\n",
      "2022-01-20 11:06:48 INFO: Loading: depparse\n",
      "2022-01-20 11:06:49 INFO: Loading: sentiment\n",
      "2022-01-20 11:06:49 INFO: Loading: ner\n",
      "2022-01-20 11:06:50 INFO: Done loading processors!\n"
     ]
    }
   ],
   "source": [
    "# Build an English pipeline, with all processors by default\n",
    "print(\"Building an English pipeline...\")\n",
    "en_nlp = stanza.Pipeline('en')"
   ]
  },
  {
   "cell_type": "code",
   "execution_count": 6,
   "id": "a4f0d647",
   "metadata": {},
   "outputs": [
    {
     "name": "stdout",
     "output_type": "stream",
     "text": [
      "<class 'stanza.models.common.doc.Document'>\n"
     ]
    }
   ],
   "source": [
    "# Creating English model and processing text\n",
    "en_doc = en_nlp(en_text)\n",
    "print(type(en_doc))"
   ]
  },
  {
   "cell_type": "markdown",
   "id": "5b70728e",
   "metadata": {},
   "source": [
    "### Step 3 - Accessing annotations"
   ]
  },
  {
   "cell_type": "markdown",
   "id": "ac3db47b",
   "metadata": {},
   "source": [
    "**NLP task**: Splitting Sentences. Show number of sentences in the text."
   ]
  },
  {
   "cell_type": "code",
   "execution_count": 7,
   "id": "ddce2ba7",
   "metadata": {},
   "outputs": [
    {
     "name": "stdout",
     "output_type": "stream",
     "text": [
      "No. sentences: 4\n"
     ]
    }
   ],
   "source": [
    "print(\"No. sentences:\", len(en_doc.sentences))"
   ]
  },
  {
   "cell_type": "markdown",
   "id": "0715bee3",
   "metadata": {},
   "source": [
    "**NLP task**: Part of Speech tagging. Show annotations on the words of the sentences."
   ]
  },
  {
   "cell_type": "code",
   "execution_count": 8,
   "id": "3578f1a1",
   "metadata": {},
   "outputs": [
    {
     "name": "stdout",
     "output_type": "stream",
     "text": [
      "[Sentence 1]\n",
      "To          \tto          \tADP   \t2\tcase        \n",
      "Sherlock    \tSherlock    \tPROPN \t8\tobl         \n",
      "Holmes      \tHolmes      \tPROPN \t2\tflat        \n",
      "she         \tshe         \tPRON  \t8\tnsubj       \n",
      "is          \tbe          \tAUX   \t8\tcop         \n",
      "always      \talways      \tADV   \t8\tadvmod      \n",
      "the         \tthe         \tDET   \t8\tdet         \n",
      "woman       \twoman       \tNOUN  \t0\troot        \n",
      ".           \t.           \tPUNCT \t8\tpunct       \n",
      "\n",
      "[Sentence 2]\n",
      "I           \tI           \tPRON  \t4\tnsubj       \n",
      "have        \thave        \tAUX   \t4\taux         \n",
      "seldom      \tseldom      \tADV   \t4\tadvmod      \n",
      "heard       \thear        \tVERB  \t0\troot        \n",
      "him         \the          \tPRON  \t4\tobj         \n",
      "mention     \tmention     \tVERB  \t4\txcomp       \n",
      "her         \tshe         \tPRON  \t6\tobj         \n",
      "under       \tunder       \tADP   \t11\tcase        \n",
      "any         \tany         \tDET   \t11\tdet         \n",
      "other       \tother       \tADJ   \t11\tamod        \n",
      "name        \tname        \tNOUN  \t6\tobl         \n",
      ".           \t.           \tPUNCT \t4\tpunct       \n",
      "\n",
      "[Sentence 3]\n",
      "In          \tin          \tADP   \t3\tcase        \n",
      "his         \the          \tPRON  \t3\tnmod:poss   \n",
      "eyes        \teye         \tNOUN  \t5\tobl         \n",
      "she         \tshe         \tPRON  \t5\tnsubj       \n",
      "eclipses    \teclipse     \tVERB  \t0\troot        \n",
      "and         \tand         \tCCONJ \t7\tcc          \n",
      "predominates\tpredominate \tVERB  \t5\tconj        \n",
      "the         \tthe         \tDET   \t9\tdet         \n",
      "whole       \twhole       \tNOUN  \t7\tobj         \n",
      "of          \tof          \tADP   \t12\tcase        \n",
      "her         \tshe         \tPRON  \t12\tnmod:poss   \n",
      "sex         \tsex         \tNOUN  \t9\tnmod        \n",
      ".           \t.           \tPUNCT \t5\tpunct       \n",
      "\n",
      "[Sentence 4]\n",
      "It          \tit          \tPRON  \t2\tnsubj       \n",
      "was         \tbe          \tAUX   \t0\troot        \n",
      "not         \tnot         \tPART  \t2\tadvmod      \n",
      "that        \tthat        \tSCONJ \t6\tmark        \n",
      "he          \the          \tPRON  \t6\tnsubj       \n",
      "felt        \tfeel        \tVERB  \t2\tccomp       \n",
      "any         \tany         \tDET   \t8\tdet         \n",
      "emotion     \temotion     \tNOUN  \t6\tobj         \n",
      "akin        \takin        \tADJ   \t8\tamod        \n",
      "to          \tto          \tPART  \t11\tmark        \n",
      "love        \tlove        \tVERB  \t9\txcomp       \n",
      "for         \tfor         \tADP   \t13\tcase        \n",
      "Irene       \tIrene       \tPROPN \t11\tobl         \n",
      "Adler       \tAdler       \tPROPN \t13\tflat        \n",
      ".           \t.           \tPUNCT \t2\tpunct       \n",
      "\n"
     ]
    }
   ],
   "source": [
    "for i, sent in enumerate(en_doc.sentences):\n",
    "    print(\"[Sentence {}]\".format(i+1))\n",
    "    for word in sent.words:\n",
    "        print(\"{:12s}\\t{:12s}\\t{:6s}\\t{:d}\\t{:12s}\".format(\\\n",
    "              word.text, word.lemma, word.pos, word.head, word.deprel))\n",
    "    print(\"\")"
   ]
  },
  {
   "cell_type": "markdown",
   "id": "cdf92dcc",
   "metadata": {},
   "source": [
    "**NLP task**: Named Entity Recognition. "
   ]
  },
  {
   "cell_type": "code",
   "execution_count": 9,
   "id": "6b35fb07",
   "metadata": {},
   "outputs": [
    {
     "name": "stdout",
     "output_type": "stream",
     "text": [
      "Mention text\tType\tStart-End\n",
      "Sherlock Holmes\tPERSON\t4-19\n",
      "Irene Adler\tPERSON\t223-234\n"
     ]
    }
   ],
   "source": [
    "print(\"Mention text\\tType\\tStart-End\")\n",
    "for ent in en_doc.ents:\n",
    "    print(\"{}\\t{}\\t{}-{}\".format(ent.text, ent.type, ent.start_char, ent.end_char))"
   ]
  },
  {
   "cell_type": "markdown",
   "id": "cc896790",
   "metadata": {},
   "source": [
    "<hr>\n",
    "<p><a href=\"https://ansegura7.github.io/NLP/\">« Home</a></p>"
   ]
  }
 ],
 "metadata": {
  "kernelspec": {
   "display_name": "Python 3 (ipykernel)",
   "language": "python",
   "name": "python3"
  },
  "language_info": {
   "codemirror_mode": {
    "name": "ipython",
    "version": 3
   },
   "file_extension": ".py",
   "mimetype": "text/x-python",
   "name": "python",
   "nbconvert_exporter": "python",
   "pygments_lexer": "ipython3",
   "version": "3.8.11"
  }
 },
 "nbformat": 4,
 "nbformat_minor": 5
}
